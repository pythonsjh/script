{
 "cells": [
  {
   "cell_type": "code",
   "execution_count": 1,
   "metadata": {
    "collapsed": false
   },
   "outputs": [
    {
     "name": "stdout",
     "output_type": "stream",
     "text": [
      "4\n",
      "1\n",
      "2\n",
      "2\n",
      "1\n",
      "3\n"
     ]
    }
   ],
   "source": [
    "print 1 and 2 and 3 and 4  \t#맨뒤까지 true확인하여 맨뒤 return\n",
    "print 1 or 2 or 3 or 4\t\t#1이 true이므로 그대로 return\n",
    "print 1 and 2 or 3 and 4\t#1 and 2에서 2까지탐색하고 true이므로 or뒤는 안보고 그대로 return\n",
    "print (1 and 2) or (3 and 4)\t#위와 같음\n",
    "print 1 or 2 and 3 or 4\t\t#1이 true이므로 그대로 return\n",
    "print (1 or 2) and (3 or 4)\t#(1 or 2)가 true이고 이어서 and뒤 탐색하는데 3 or 4에서 3이 true이므로 그대로 return\n",
    "#파이썬에서 and는 앞에가 끝까지 탐색하여 true인지 보고 마지막값을 return합니다.\n",
    "#파이썬에서 or는 앞이 True라면 그대로 return합니다."
   ]
  },
  {
   "cell_type": "code",
   "execution_count": 3,
   "metadata": {
    "collapsed": false
   },
   "outputs": [
    {
     "name": "stdout",
     "output_type": "stream",
     "text": [
      "input :10\n",
      "양수\n"
     ]
    }
   ],
   "source": [
    "# -*- coding: utf-8 -*-\n",
    "b = int(raw_input('input :'))\n",
    "test = b>>(b.bit_length())\n",
    "\n",
    "if test == 0 :\n",
    "    print '양수'\n",
    "else:\n",
    "    print '음수'"
   ]
  },
  {
   "cell_type": "code",
   "execution_count": null,
   "metadata": {
    "collapsed": true
   },
   "outputs": [],
   "source": []
  }
 ],
 "metadata": {
  "kernelspec": {
   "display_name": "Python 2",
   "language": "python",
   "name": "python2"
  },
  "language_info": {
   "codemirror_mode": {
    "name": "ipython",
    "version": 2
   },
   "file_extension": ".py",
   "mimetype": "text/x-python",
   "name": "python",
   "nbconvert_exporter": "python",
   "pygments_lexer": "ipython2",
   "version": "2.7.9"
  }
 },
 "nbformat": 4,
 "nbformat_minor": 0
}

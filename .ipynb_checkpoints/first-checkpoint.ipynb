{
 "cells": [
  {
   "cell_type": "code",
   "execution_count": 63,
   "metadata": {
    "collapsed": false
   },
   "outputs": [
    {
     "name": "stdout",
     "output_type": "stream",
     "text": [
      "Python Hello\n"
     ]
    }
   ],
   "source": [
    "a=\"Hello Python\"\n",
    "a=a[6:]+a[5]+a[:5]\n",
    "print a\n",
    "#index6부터끝까지(Python) + index5(스페이스)+ index0부터 5의전까지(Hello)"
   ]
  },
  {
   "cell_type": "code",
   "execution_count": 64,
   "metadata": {
    "collapsed": false
   },
   "outputs": [
    {
     "name": "stdout",
     "output_type": "stream",
     "text": [
      "World Python Hello\n"
     ]
    }
   ],
   "source": [
    "b=\"Hello Python World\" \n",
    "b=b[13:]+b[5:13]+b[0:5]\n",
    "print b\n",
    "\n",
    "#index13부터끝까지(World) + index5부터 13전까지( Python )+ index0부터 5전까지(Hello)"
   ]
  },
  {
   "cell_type": "code",
   "execution_count": 65,
   "metadata": {
    "collapsed": false
   },
   "outputs": [
    {
     "name": "stdout",
     "output_type": "stream",
     "text": [
      "olleH\n"
     ]
    }
   ],
   "source": [
    "c=\"Hello\"\n",
    "c=c[::-1]\n",
    "print c\n",
    "#[::-1] -1을 줌으로써 역순으로 출력"
   ]
  },
  {
   "cell_type": "code",
   "execution_count": 66,
   "metadata": {
    "collapsed": false
   },
   "outputs": [
    {
     "name": "stdout",
     "output_type": "stream",
     "text": [
      "p\n",
      "p\n",
      "p\n"
     ]
    }
   ],
   "source": [
    "s=\"python\"\n",
    "print s[0]\n",
    "print s[0][0] \n",
    "print s[0][0][0]\n",
    "#결국 전부index0을 가르킨다."
   ]
  },
  {
   "cell_type": "code",
   "execution_count": 67,
   "metadata": {
    "collapsed": false
   },
   "outputs": [
    {
     "ename": "IndexError",
     "evalue": "string index out of range",
     "output_type": "error",
     "traceback": [
      "\u001b[1;31m---------------------------------------------------------------------------\u001b[0m",
      "\u001b[1;31mIndexError\u001b[0m                                Traceback (most recent call last)",
      "\u001b[1;32m<ipython-input-67-f1e0782fa368>\u001b[0m in \u001b[0;36m<module>\u001b[1;34m()\u001b[0m\n\u001b[0;32m      1\u001b[0m \u001b[0ms\u001b[0m\u001b[1;33m=\u001b[0m\u001b[1;34m\"python\"\u001b[0m\u001b[1;33m\u001b[0m\u001b[0m\n\u001b[1;32m----> 2\u001b[1;33m \u001b[1;32mprint\u001b[0m \u001b[0ms\u001b[0m\u001b[1;33m[\u001b[0m\u001b[1;33m-\u001b[0m\u001b[1;36m100\u001b[0m\u001b[1;33m]\u001b[0m\u001b[1;33m\u001b[0m\u001b[0m\n\u001b[0m\u001b[0;32m      3\u001b[0m \u001b[1;32mprint\u001b[0m \u001b[0ms\u001b[0m\u001b[1;33m[\u001b[0m\u001b[1;36m100\u001b[0m\u001b[1;33m]\u001b[0m\u001b[1;33m\u001b[0m\u001b[0m\n\u001b[0;32m      4\u001b[0m \u001b[1;31m#에러가나온다 s의 index가 0~5까지 있기때문에 index의 범위를 넘어버린다.\u001b[0m\u001b[1;33m\u001b[0m\u001b[1;33m\u001b[0m\u001b[0m\n\u001b[0;32m      5\u001b[0m \u001b[1;31m#하지만 s[0]~s[5]까지만 값이 나오는것은아니다.\u001b[0m\u001b[1;33m\u001b[0m\u001b[1;33m\u001b[0m\u001b[0m\n",
      "\u001b[1;31mIndexError\u001b[0m: string index out of range"
     ]
    }
   ],
   "source": [
    "s=\"python\"\n",
    "print s[-100]\n",
    "print s[100] \n",
    "#에러가나온다 s의 index가 0~5까지 있기때문에 index의 범위를 넘어버린다. \n",
    "#하지만 s[0]~s[5]까지만 값이 나오는것은아니다. \n",
    "#s[-1]과같이 음수일경우 뒤방향으로 index를 찾기때문에 s[-6]~s[5]까지만 결과값이 나오게 된다."
   ]
  },
  {
   "cell_type": "code",
   "execution_count": 68,
   "metadata": {
    "collapsed": false
   },
   "outputs": [
    {
     "ename": "TypeError",
     "evalue": "string indices must be integers, not tuple",
     "output_type": "error",
     "traceback": [
      "\u001b[1;31m---------------------------------------------------------------------------\u001b[0m",
      "\u001b[1;31mTypeError\u001b[0m                                 Traceback (most recent call last)",
      "\u001b[1;32m<ipython-input-68-6b52573fb45f>\u001b[0m in \u001b[0;36m<module>\u001b[1;34m()\u001b[0m\n\u001b[0;32m      1\u001b[0m \u001b[0ms\u001b[0m\u001b[1;33m=\u001b[0m\u001b[1;34m\"python\"\u001b[0m\u001b[1;33m\u001b[0m\u001b[0m\n\u001b[1;32m----> 2\u001b[1;33m \u001b[0ms\u001b[0m\u001b[1;33m[\u001b[0m\u001b[1;33m-\u001b[0m\u001b[1;36m100\u001b[0m\u001b[1;33m,\u001b[0m \u001b[1;36m100\u001b[0m\u001b[1;33m]\u001b[0m\u001b[1;33m\u001b[0m\u001b[0m\n\u001b[0m\u001b[0;32m      3\u001b[0m \u001b[1;31m##에러가나온다.\u001b[0m\u001b[1;33m\u001b[0m\u001b[1;33m\u001b[0m\u001b[0m\n\u001b[0;32m      4\u001b[0m \u001b[1;31m##문자열은 오직 정수형으로 값을 넣어야 출력이된다.\u001b[0m\u001b[1;33m\u001b[0m\u001b[1;33m\u001b[0m\u001b[0m\n\u001b[0;32m      5\u001b[0m \u001b[1;31m##s[-100,100]은 tuple형식이기때문에 에러가 나온다.\u001b[0m\u001b[1;33m\u001b[0m\u001b[1;33m\u001b[0m\u001b[0m\n",
      "\u001b[1;31mTypeError\u001b[0m: string indices must be integers, not tuple"
     ]
    }
   ],
   "source": [
    "s=\"python\"\n",
    "s[-100, 100]\n",
    "##에러가나온다.\n",
    "##문자열은 오직 정수형으로 값을 넣어야 출력이된다.\n",
    "##s[-100,100]은 tuple형식이기때문에 에러가 나온다.\n"
   ]
  },
  {
   "cell_type": "code",
   "execution_count": 69,
   "metadata": {
    "collapsed": false
   },
   "outputs": [
    {
     "data": {
      "text/plain": [
       "'ytho'"
      ]
     },
     "execution_count": 69,
     "metadata": {},
     "output_type": "execute_result"
    }
   ],
   "source": [
    "s=\"python\"\n",
    "s[1:-1]\n",
    "#ytho가 나온다. Slicing s[1:-1]은 index 1에서시작하여 -1의 전까지, index 1부터 -2까지 출력하게된다. \n",
    "#즉 index1값 y, index-2값 o이므로 y부터 o까지 ytho가 출력되게 된다."
   ]
  },
  {
   "cell_type": "code",
   "execution_count": 70,
   "metadata": {
    "collapsed": false
   },
   "outputs": [
    {
     "data": {
      "text/plain": [
       "''"
      ]
     },
     "execution_count": 70,
     "metadata": {},
     "output_type": "execute_result"
    }
   ],
   "source": [
    "s=\"python\"\n",
    "s[3:-3]\n",
    "#아무값도 나오지않는다.\n",
    "#위에와 마찬가지로 적용하면\n",
    "#index3값은 h이고 index-4값은 t이다. h부터 t까지 출력한다는것인다. \n",
    "#\"python\"에서 h는 t보다 뒤에있으므로 빈값이 나온다.\n",
    "#만약 s[3:-2]라면 h부터 h까지 출력하는것이므로 h가 나오게된다."
   ]
  },
  {
   "cell_type": "code",
   "execution_count": 75,
   "metadata": {
    "collapsed": false
   },
   "outputs": [
    {
     "name": "stdout",
     "output_type": "stream",
     "text": [
      "1 3 5 7 9 11 13 15 17 19 21 23 25 27 29 31 33 35 37 39 41 43 45 47 49 51 53 55 57 59 61 63 65 67 69 71 73 75 77 79 81 83 85 87 89 91 93 95 97 99\n"
     ]
    }
   ],
   "source": [
    "for a in range(100):\n",
    "    if a%2==0: continue\n",
    "    print a,\n",
    "#0부터 100까지 2로 나눴을때 0이되면 continue로 for문에서 나와 다시 for문시작. %2가 0이아닐때 pirnt a로 홀수만출력,"
   ]
  },
  {
   "cell_type": "code",
   "execution_count": 2,
   "metadata": {
    "collapsed": false
   },
   "outputs": [
    {
     "name": "stdout",
     "output_type": "stream",
     "text": [
      "2550\n"
     ]
    }
   ],
   "source": [
    "sum = 0\n",
    "a = 0\n",
    "while a < 100:\n",
    "    a = a + 1\n",
    "    if a%2==0: \n",
    "        sum = sum + a\n",
    "print sum\n",
    "#0부터 100까지중 %2의값이 0(즉나머지가 0)이면 sum에다가 전부 더해준다."
   ]
  },
  {
   "cell_type": "code",
   "execution_count": 4,
   "metadata": {
    "collapsed": false
   },
   "outputs": [
    {
     "name": "stdout",
     "output_type": "stream",
     "text": [
      "input integer :234\n",
      "result:432\n"
     ]
    }
   ],
   "source": [
    "i = raw_input('input integer :')\n",
    "rvs=i[::-1]\n",
    "print 'result:'+rvs\n",
    "#문자열입력 내장함수 raw_input을사용하고 [::-1]을 해줌으로써 역순으로 출력시킨다."
   ]
  },
  {
   "cell_type": "code",
   "execution_count": 10,
   "metadata": {
    "collapsed": false
   },
   "outputs": [
    {
     "name": "stdout",
     "output_type": "stream",
     "text": [
      "input integer : 20\n",
      "2\n",
      "3\n",
      "5\n",
      "7\n",
      "11\n",
      "13\n",
      "17\n",
      "19\n"
     ]
    }
   ],
   "source": [
    "inputnum = input('input integer : ')\n",
    " \n",
    "# 입력받은 숫자까지 반복. (0, 1은 제외시킴)\n",
    "for num in range(2, inputnum+1):\n",
    "    countDivisor = 0   # num의 약수의 갯수를 저장.\n",
    "   \n",
    "    # num의 약수를 구하는 반복문.\n",
    "    for n in range(1, num+1):\n",
    "        if num % n == 0:     # 약수를 찾으면 countDivisor값을 증가.\n",
    "            countDivisor += 1 \n",
    "        if countDivisor > 2:   # 약수의 갯수가 2를 초과하면 반복문 중단. (소수를 찾는 것이 목적이므로 불필요한 코드실행 방지)\n",
    "            break\n",
    " \n",
    "    # 약수의 갯수가 2이면 소스이므로 출력.\n",
    "    if countDivisor == 2:\n",
    "        print(num)\n",
    "#이중for문을 사용 한다. counDivisor로 약수의개수를 세며, 작은for문에서 약수가2가넘어가면 소수가 아님으로 판정하여 \n",
    "#break문으로 작은for를빠져나가고 다시시작한다."
   ]
  },
  {
   "cell_type": "code",
   "execution_count": 12,
   "metadata": {
    "collapsed": false
   },
   "outputs": [
    {
     "name": "stdout",
     "output_type": "stream",
     "text": [
      "233168\n"
     ]
    }
   ],
   "source": [
    "sum = 0\n",
    "a = 0\n",
    "while a < 999:\n",
    "    a = a + 1\n",
    "    if a%3==0 or a%5==0: \n",
    "        sum = sum + a\n",
    "print sum\n",
    "#프로젝트 오일러1\n",
    "#if문에 or를 사용하여 %3==0이나 %5==0 둘중하나를 만족하면, 만족한값을 sum에 더한다."
   ]
  },
  {
   "cell_type": "code",
   "execution_count": 17,
   "metadata": {
    "collapsed": false
   },
   "outputs": [
    {
     "name": "stdout",
     "output_type": "stream",
     "text": [
      "4613732\n"
     ]
    }
   ],
   "source": [
    "def fibo(max):\n",
    "    i1=1\n",
    "    i2=1\n",
    "    fiboList=list()\t\n",
    "    while i2<=max:\n",
    "\t\tfiboList.append(i2)\n",
    "\t\t[i1,i2]=[i2,i1+i2]\t\t\n",
    "    return fiboList\n",
    "\n",
    "result=fibo(4000000)\n",
    "sum=0\n",
    "for num in result:\n",
    "\tif num%2==0:\n",
    "\t\tsum=sum+num\n",
    "print(sum)\n",
    "#프로젝트 오일러2\n",
    "#fiboList라는 list를 하나만들고 그곳에 append를 이용하여 전값과 전전값의 합(i1+i2)가 들어가게된다.\n",
    "#이를 for문을이용하여 %2==0 즉 짝수인수를 sum에 더하여 결과를 도출한다."
   ]
  },
  {
   "cell_type": "code",
   "execution_count": 21,
   "metadata": {
    "collapsed": false
   },
   "outputs": [
    {
     "name": "stdout",
     "output_type": "stream",
     "text": [
      "[71, 839, 1471, 6857]\n",
      "6857\n"
     ]
    }
   ],
   "source": [
    "def primefactors(num):\n",
    "  startnum=2\n",
    "  primeNumbers=list()\n",
    "  \n",
    "  quota=0\n",
    "  rest=0\n",
    "  \n",
    "  while True:\n",
    "    quota=num/startnum\n",
    "    rest=num%startnum\n",
    "    \n",
    "      \n",
    "    if rest==0:\n",
    "      primeNumbers.append(startnum)\n",
    "      startnum=2\n",
    "      num=quota\n",
    "    else:\n",
    "      startnum=startnum+1\n",
    "      \n",
    "    if quota==1 and rest==0:\n",
    "      break\n",
    "  \n",
    "  return primeNumbers\n",
    "\n",
    "primeNumbers=primefactors(600851475143)\n",
    "print (primeNumbers)\n",
    "\n",
    "\n",
    "primeNumbers.sort(reverse=True)\n",
    "print (primeNumbers[0])\n",
    "#프로젝트 오일러3\n",
    "#소인수란 소수의 곱으로 나타나게 하는 수이다. primNumber 리스트를 만든다. \n",
    "#입력받은num값에 startnum을 나누어 rest가 0이되면 primnumber리스트에  이곳에 소인수를 집어넣는다. 그리고 다시 startnum이 2가되며 num에 quota가 들어간다\n",
    "#만약 rest가 0이아니면 startnumd을 1씩 올린다. 이런식으로 소인수를 리스트로만들어 sort함수를 이용하여 가장큰수를 찾는다."
   ]
  },
  {
   "cell_type": "code",
   "execution_count": null,
   "metadata": {
    "collapsed": true
   },
   "outputs": [],
   "source": [
    "#소감: 강의만들으며 따라하다가 혼자생각해보고 혼자 파이썬코딩을 해본것은 처음인데, \n",
    "#C언어와 비슷한듯하면서도 많이 달라 조금헷갈린면이있었다. C언어와 다르게 {}대신 들여쓰기로 하는것과,\n",
    "#input등 내장함수들이 새로워 헷갈렸지만, 앞으로 계속더 접하고 연습하다보면 금방 익숙해질것같다."
   ]
  }
 ],
 "metadata": {
  "kernelspec": {
   "display_name": "Python 2",
   "language": "python",
   "name": "python2"
  },
  "language_info": {
   "codemirror_mode": {
    "name": "ipython",
    "version": 2
   },
   "file_extension": ".py",
   "mimetype": "text/x-python",
   "name": "python",
   "nbconvert_exporter": "python",
   "pygments_lexer": "ipython2",
   "version": "2.7.9"
  }
 },
 "nbformat": 4,
 "nbformat_minor": 0
}

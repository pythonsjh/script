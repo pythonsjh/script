{
 "cells": [
  {
   "cell_type": "code",
   "execution_count": 3,
   "metadata": {
    "collapsed": true
   },
   "outputs": [],
   "source": [
    "#1\n",
    "#s.txt 파일생성#\n",
    "s=\"\"\"pig ham\n",
    "cat dog\n",
    "ham bird\n",
    "dog pig\n",
    "\"\"\"\n",
    "f = open('s.txt', 'w')\n",
    "f.write(s)\n",
    "f.close()"
   ]
  },
  {
   "cell_type": "code",
   "execution_count": 4,
   "metadata": {
    "collapsed": false
   },
   "outputs": [
    {
     "name": "stdout",
     "output_type": "stream",
     "text": [
      "cat dog\n",
      "dog pig\n",
      "ham bird\n",
      "pig ham\n",
      "\n"
     ]
    }
   ],
   "source": [
    "#1-1\n",
    "f = open('s.txt')\n",
    "line = f.readlines() #line에 s.txt를 리스트로저장\n",
    "h=sorted(line)#line 정렬하여 h에 저장\n",
    "\n",
    "f = open('s1.txt','w')\n",
    "f.writelines(h)#정렬된 h를 s1.txt에 저장\n",
    "f.close()\n",
    "\n",
    "f = file('s1.txt') # s1.txt를 실행하여 확인\n",
    "s = f.read()\n",
    "print s"
   ]
  },
  {
   "cell_type": "code",
   "execution_count": 5,
   "metadata": {
    "collapsed": false
   },
   "outputs": [
    {
     "name": "stdout",
     "output_type": "stream",
     "text": [
      "ham bird\n",
      "cat dog\n",
      "pig ham\n",
      "dog pig\n",
      "\n"
     ]
    }
   ],
   "source": [
    "#1-2\n",
    "def cmp_1(a1,a2):\n",
    "    return cmp(a1[4:],a2[4:])\n",
    "\n",
    "f = open('s.txt')\n",
    "s = f.readlines()#s에 s.txt를 리스트로저장\n",
    "s.sort(cmp_1)#함수cmp_1을이용하여 s를 두번째 단어기준으로 정렬\n",
    "\n",
    "f = open('s2.txt', 'w+')\n",
    "f.writelines(s)  #정렬된 s를 s2.txt에 저장\n",
    "f.close()\n",
    "\n",
    "f = file('s2.txt') # s2.txt를 실행하여 확인\n",
    "s = f.read()\n",
    "print s"
   ]
  },
  {
   "cell_type": "code",
   "execution_count": 57,
   "metadata": {
    "collapsed": false,
    "scrolled": true
   },
   "outputs": [
    {
     "name": "stdout",
     "output_type": "stream",
     "text": [
      "pig ham cat\n",
      "dog ham bird\n",
      "dog pig\n",
      "\n"
     ]
    }
   ],
   "source": [
    "# -*- coding: utf-8 -*-\n",
    "# 1-3 .\n",
    "s=\"\"\"pig ham\n",
    "cat dog\n",
    "ham bird\n",
    "dog pig\n",
    "\"\"\"\n",
    "f = open('s.txt', 'w')\n",
    "f.write(s)\n",
    "f.close()\n",
    "#####################파일 s.txt생성#####################\n",
    "f = file('s.txt') # s2.txt를 실행하여 확인\n",
    "s = f.read()\n",
    "a= s.split()\n",
    "\n",
    "for c in range(1,len(a)):   \n",
    "    if c%3==0:\n",
    "        if(c<4):\n",
    "            a.insert(c,'\\n')\n",
    "        else:            \n",
    "            a.insert(c+1,'\\n')\n",
    "\n",
    "f.close()\n",
    "b=' '.join(a)\n",
    "f = open('s.txt', 'w')\n",
    "f.write(b) # 문자열을 파일에 기록\n",
    "f.close()\n",
    "\n",
    "f = open('s.txt')\n",
    "line = f.readline()\n",
    "i = 1\n",
    "\n",
    "lines=[]\n",
    "while line:#위에서 바로 실행하면 3개/3개/2개씩 분할되지만 2,3라인 양쪽에 공백이 제거가안된다. 그래서 라인별로 읽어서 공백제거해줘야한다.\n",
    "    line2=line.strip()      #라인별로 공백제거\n",
    "    lines.append(line2+\"\\n\") #공백제거된것을 lines리스트에 저장\n",
    "    line = f.readline()\n",
    "    i += 1\n",
    "f.close()\n",
    "\n",
    "f = open('s.txt', 'w')\n",
    "f.writelines(lines)#라인별로 파일에 쓴다.\n",
    "f.close()\n",
    "\n",
    "f=open('s.txt')\n",
    "print f.read()\n"
   ]
  },
  {
   "cell_type": "code",
   "execution_count": 3,
   "metadata": {
    "collapsed": false
   },
   "outputs": [
    {
     "name": "stdout",
     "output_type": "stream",
     "text": [
      "Welcome to Our Service\n",
      "\n",
      "1. Sign Up\n",
      "2. Sign In\n",
      "3. Quit\n",
      "\n",
      "select numbers (1-3): 1\n",
      "Input your [id]:[password],[name],[school]\n",
      "ID: gigi128\n",
      "Password: 1234\n",
      "Name: SJH\n",
      "School: KUT\n",
      "Welcome to Our Service\n",
      "\n",
      "1. Sign Up\n",
      "2. Sign In\n",
      "3. Quit\n",
      "\n",
      "select numbers (1-3): 2\n",
      "Input your ID & PW\n",
      "ID: gigi12\n",
      "Sorry, you are not a registered member.\n",
      "Input your ID & PW\n",
      "ID: gigi128\n",
      "PW :123\n",
      "Sorry, the entered password is not correct.\n",
      "PW :12\n",
      "Sorry, the entered password is not correct.\n",
      "PW :1234\n",
      "Hello [SJH]\n",
      "Welcome to Our Service\n",
      "\n",
      "1. Sign Up\n",
      "2. Sign In\n",
      "3. Quit\n",
      "\n",
      "select numbers (1-3): 3\n"
     ]
    }
   ],
   "source": [
    "#2\n",
    "# -*- coding: utf-8 -*-\n",
    "import sha\n",
    "def menu():\n",
    "    print 'Welcome to Our Service'\n",
    "    print\n",
    "    print '1. Sign Up'\n",
    "    print '2. Sign In'\n",
    "    print '3. Quit'\n",
    "    print\n",
    "\n",
    "def add_member(numbers):    #회원 추가\n",
    "    idcheck2=[]\n",
    "    print \"Input your [id]:[password],[name],[school]\"\n",
    "    ID=raw_input(\"ID: \") \n",
    "      \n",
    "    f=open('users.txt')    #여기부터 7line -> ID만 추출하는부분\n",
    "    for line in f:        \n",
    "        idcheck=line.split(':')#:기준으로 split함으로써 ID만 추출할수있게한다\n",
    "        idcheck[0]=idcheck[0].replace('[','')\n",
    "        idcheck[0]=idcheck[0].replace(']','')\n",
    "        idcheck2.append(idcheck[0])#저장된ID에서 [,]를 제거한 순수ID를 모두 idcheck2에 리스트로 저장한다.\n",
    "    f.close()\n",
    "    \n",
    "    if ID in idcheck2:#내가입력한 ID가 idcheck2에 있으면 다시 시작한다.\n",
    "        print 'Sorry, the entered ID is aleady used.'\n",
    "        add_member(numbers)       \n",
    "    else:\n",
    "        PW=raw_input(\"Password: \")\n",
    "        shaPW = sha.new(PW).hexdigest() #암호화\n",
    "        NAME=raw_input(\"Name: \") \n",
    "        SCHOOL=raw_input(\"School: \")    \n",
    "        s=\"[\"+ID+\"]\"+\":\"+\"[\"+shaPW+\"]\"+\",\"+\"[\"+NAME+\"]\"+\",\"+\"[\"+SCHOOL+\"]\"+'\\n'\n",
    "        f=open('users.txt','a+')\n",
    "        f.write(s)\n",
    "        f.close()    \n",
    "        \n",
    "        \n",
    "def check_member(numbers):\n",
    "     idcheck2=[]\n",
    "     pwcheck2=[]\n",
    "     names=[]\n",
    "     stop=1\n",
    "     print \"Input your ID & PW\"\n",
    "     ID=raw_input(\"ID: \")\n",
    "     f=open('users.txt')    #여기부터 7line -> ID만 추출하는부분\n",
    "     \n",
    "     for line in f:        \n",
    "        idcheck=line.split(':')#:기준으로 split함으로써 ID만 추출할수있게한다\n",
    "        idcheck[0]=idcheck[0].replace('[','')\n",
    "        idcheck[0]=idcheck[0].replace(']','')\n",
    "        idcheck2.append(idcheck[0])#저장된ID에서 [,]를 제거한 순수ID를 모두 idcheck2에 리스트로 저장한다.\n",
    "     f.close()            \n",
    "     if ID not in idcheck2:#내가입력한 ID가 idcheck2에 있으면 다시 시작한다.\n",
    "        print 'Sorry, you are not a registered member.'\n",
    "        check_member(numbers)\n",
    "     else:\n",
    "        while stop==1:\n",
    "         PW=raw_input(\"PW :\")\n",
    "         shaPW = sha.new(PW).hexdigest()         \n",
    "         f=open('users.txt')    #여기부터 7line -> password만 추출하는부분        \n",
    "         for line in f:\n",
    "             pwcheck=line.split(':')\n",
    "             pwcheck=pwcheck[1].split(',')\n",
    "             pwcheck[1]=pwcheck[1].replace('[','')\n",
    "             pwcheck[1]=pwcheck[1].replace(']','')\n",
    "             pwcheck[0]=pwcheck[0].replace('[','')\n",
    "             pwcheck[0]=pwcheck[0].replace(']','')             \n",
    "             pwcheck2.append(pwcheck[0])\n",
    "             names.append(pwcheck[1])\n",
    "         a=tuple(pwcheck2)\n",
    "         b=tuple(names)\n",
    "         f.close()         \n",
    "         compareIDPW=dict(zip(idcheck2, a))\n",
    "         compareIDNAME=dict(zip(idcheck2, b))         \n",
    "         if compareIDPW[ID]==shaPW:\n",
    "             print \"Hello\"+\" [\"+compareIDNAME[ID]+']'\n",
    "             break\n",
    "         else:\n",
    "             print 'Sorry, the entered password is not correct.'\n",
    "        \n",
    "numbers={}\n",
    "menu_choice=0\n",
    "menu()\n",
    "while menu_choice!=3:\n",
    "    menu_choice = input(\"select numbers (1-3): \")\n",
    "    if menu_choice==1:\n",
    "        add_member(numbers)\n",
    "    elif menu_choice==2:\n",
    "        check_member(numbers)\n",
    "    if menu_choice!=3:\n",
    "        menu()"
   ]
  },
  {
   "cell_type": "code",
   "execution_count": 1,
   "metadata": {
    "collapsed": false
   },
   "outputs": [
    {
     "name": "stdout",
     "output_type": "stream",
     "text": [
      "[0.0, 0.1, 0.2, 0.3, 0.4]\n",
      "[1.0, 1.1, 1.2, 1.3, 1.4, 1.5, 1.6, 1.7, 1.8, 1.9]\n",
      "[2.2, 2.7, 3.2, 3.7]\n"
     ]
    }
   ],
   "source": [
    "#3\n",
    "def frange(num1=0.0, num2=0.0,num3=0.0):\n",
    "    if num2==0.0: #인자를 하나만받았을떄\n",
    "        A=[]\n",
    "        while True:   \n",
    "            A.append(round(num2,2)) #소수둘쨰자리에서 반올림하여서 0.0,0.1.....num2전까지 추가    \n",
    "            num2=num2+0.1\n",
    "            if num1<=num2:\n",
    "                break                \n",
    "        print A\n",
    "    \n",
    "    elif num2!=0.0 and num3==0.0: #인자를 두개 받았을때\n",
    "        A=[]\n",
    "        while True:\n",
    "            A.append(round(num1,2))      #소수둘쨰자리에서 반올림하여서 num1부터.....num2전까지 추가   \n",
    "            num1=num1+0.1        #step이 0.1 \n",
    "            if num1>num2:\n",
    "                break   \n",
    "        print A  \n",
    "    else:#인자를 세개 다 받았을때\n",
    "        A=[]\n",
    "        while True:\n",
    "            A.append(round(num1,2))   #소수둘쨰자리에서 반올림하여서 num1부터.....num2전까지 추가        \n",
    "            num1=num1+num3    #step이 num3만큼. \n",
    "            if num1>num2:\n",
    "                break   \n",
    "        print A\n",
    "frange(0.5)    \n",
    "frange(1.0, 2.0)    \n",
    "frange(2.2, 4.0, 0.5)"
   ]
  },
  {
   "cell_type": "code",
   "execution_count": 2,
   "metadata": {
    "collapsed": false
   },
   "outputs": [
    {
     "name": "stdout",
     "output_type": "stream",
     "text": [
      "0\n",
      "3\n",
      "15\n",
      "5\n"
     ]
    }
   ],
   "source": [
    "#4\n",
    "def sum(*args):\n",
    "    return reduce(lambda x,y: x+y, args, 0) #lamda를 사용하여 가변인수 *args의값들을 더한다\n",
    "\n",
    "print sum()\n",
    "print sum(1,2)\n",
    "print sum(1,2,3,4,5)\n",
    "print sum(1,5,7,2,-10)"
   ]
  },
  {
   "cell_type": "code",
   "execution_count": 3,
   "metadata": {
    "collapsed": false
   },
   "outputs": [
    {
     "name": "stdout",
     "output_type": "stream",
     "text": [
      "ASAP\n"
     ]
    }
   ],
   "source": [
    "#5\n",
    "def myinitial(st):\n",
    "    firstnum = map(lambda x: x[0], st.split()) #split으로 공백기준으로 문자 분리하여 각문자 첫글자 firstnum에 저장    \n",
    "    Bigfirstnum = ''.join(firstnum)#firstnum 리스트를 문자열로 변환 \n",
    "    print Bigfirstnum.upper() #대문자로 변환\n",
    "\n",
    "myinitial(\"as soon as possible\")"
   ]
  },
  {
   "cell_type": "code",
   "execution_count": 4,
   "metadata": {
    "collapsed": false,
    "scrolled": true
   },
   "outputs": [
    {
     "name": "stdout",
     "output_type": "stream",
     "text": [
      "1005747568857080512268005240222003180420933617755155436097428709624628850317460594419738647066493848591209934763678992574277033315781827638366721837692285095468423766873110337997055720460221288916466174163324469854032037504378032588112411736427581220075390464586997554879689113893495104118884686975259416573544887111501608973422679577366027605884935563258571694611787784975068995655724263131716129331741999220988739835510310109299679079730119051454319057614838959574460112911709906684387101731435765075557715438296185876004854578440341712944423607787651695447198003384659918403608280795608360331264650955921738125177483971123252197511796644246899362970978125480609805630926841677734453159108824591878454361852100574716342946277576560363945060576680436062511228975786216273986360682380470921729017570151866337605697910726699437200991078429979497824637583672925041401050478493620565758696013875645140392302428813735035607154658479507936359983618902204673317585031733189289923685181548117032220032950431969017413014744142569235981177278384597200040353679956634525936461927371132840814275067756243136295055779327960703027320376984974736434833537744979586500794181486591971684850838749335336500302427984504213774418269776607309712230187191959424173572604585259006550956733762229600876783655747012230187794051521166261070380184412989550551608301135993950706269566652689614118052405501498300751069778966812473673336821788330078310262892750562588882035219151009266412733512578963429842166996790132249967695807024765793185959739894113882669412722484645748858878275144526565154129339666193357430706379636058276092703574825497684302527557275206874023292361085776155834677411754044456302745110422465200589517382961025470985173667102166149664635211867129117250981352011063601084926023810382944340037783082309585496912306712794522961076870722947362177882588467378005913392775311015267050505774807098010946613338877631454002841268281283408663832598609190112557866584152773779140027425117812774549628051975388919789162968971376940284060917273772700610992518863405561612741220495501546307486934454306803065269927297937814753684357145788190540834754937620601538709855665005805538611965253370683512505076799337611896291328000000000000000000000000000000000000000000000000000000000000000000000000000000000000000000000000000000000000000000000000000000000000000000000000000000000000000000000000000000000000000000000000000000000000000000000000000000000000000000000\n"
     ]
    }
   ],
   "source": [
    "#6\n",
    "def myfact(n):\n",
    "    if n<0: #음수이면 문자출력\n",
    "        return \"\"\"N is negative number.\n",
    "retry plz.\"\"\"\n",
    "    elif n==1:# 1! == 1\n",
    "        return 1\n",
    "    else:#재귀적함수로 n! 구현\n",
    "        return n*myfact(n-1)\n",
    "    \n",
    "print myfact(957) #958부터는 maximum recursion depth exceeded ."
   ]
  },
  {
   "cell_type": "code",
   "execution_count": 8,
   "metadata": {
    "collapsed": false
   },
   "outputs": [],
   "source": [
    "#7\n",
    "'''7번. (서술형) import string 과 from string import * 의 차이점을 설명하시오.\n",
    "import string은\n",
    "예를들어 string.lower(....) 형식으로 해당 모듈의 이름들을 사용할수있지만,\n",
    "from string import *은 \n",
    "해당 모듈에 존재하는 '__'로 시작되는 이름들을 제외한 모든 이름들을 현재 이름 공간으로 불러들인다. \n",
    "그래서 곧바로 lower(....)형식으로 사용할수있다.'''"
   ]
  },
  {
   "cell_type": "code",
   "execution_count": 28,
   "metadata": {
    "collapsed": false
   },
   "outputs": [
    {
     "name": "stdout",
     "output_type": "stream",
     "text": [
      "142913828922\n"
     ]
    }
   ],
   "source": [
    "# -*- coding: utf-8 -*-\n",
    "#8번(프로젝트 오일러 10)\n",
    "import math\t\n",
    "def isPrime(n):\t\n",
    "  if n==2:\t#첫소수 2 (true)\n",
    "    return True\t\n",
    "  elif n%2==0:\t#2보다큰수중에 2로나누어지면 소수가아니다(false)\n",
    "    return False\n",
    "  i=2\t\t \n",
    "  range=int(math.sqrt(n)) #소수를 효율적으로 구하려면 제곱근까지만 나누어 검사해야한다.\n",
    "  while i<=range: \n",
    "    if(n%i==0):\t#n을 부터 2부터 제곱근 까지 나눈다\t\t\n",
    "      return False#나누어지면 소수가아니다.(false)\n",
    "    i+=1\t\n",
    "  return True#나누어지지않으면 소수(true)\n",
    "\n",
    "start=2#부터시작\n",
    "Sum2=0\n",
    "while True:\t\n",
    "  if isPrime(start): #참이면 sumOfPrime에 모두더한다.\t\t\n",
    "    Sum2+=start\t\t\t\n",
    "  start+=1\t\t\t\n",
    "\n",
    "  if start==2000000:#num이 200만이되면 종료\t\n",
    "    break\n",
    "\n",
    "print Sum2"
   ]
  },
  {
   "cell_type": "code",
   "execution_count": 11,
   "metadata": {
    "collapsed": false
   },
   "outputs": [
    {
     "name": "stdout",
     "output_type": "stream",
     "text": [
      "70600674\n"
     ]
    }
   ],
   "source": [
    "#9번(프로젝트 오일러 11)\n",
    "g = [\n",
    "[8,2,22,97,38,15,0,40,0,75,4,5,7,78,52,12,50,77,91,8],\n",
    "[49,49,99,40,17,81,18,57,60,87,17,40,98,43,69,48,4,56,62,0],\n",
    "[81,49,31,73,55,79,14,29,93,71,40,67,53,88,30,3,49,13,36,65],\n",
    "[52,70,95,23,4,60,11,42,69,24,68,56,1,32,56,71,37,2,36,91],\n",
    "[22,31,16,71,51,67,63,89,41,92,36,54,22,40,40,28,66,33,13,80],\n",
    "[24,47,32,60,99,3,45,2,44,75,33,53,78,36,84,20,35,17,12,50],\n",
    "[32,98,81,28,64,23,67,10,26,38,40,67,59,54,70,66,18,38,64,70],\n",
    "[67,26,20,68,2,62,12,20,95,63,94,39,63,8,40,91,66,49,94,21],\n",
    "[24,55,58,5,66,73,99,26,97,17,78,78,96,83,14,88,34,89,63,72],\n",
    "[21,36,23,9,75,0,76,44,20,45,35,14,0,61,33,97,34,31,33,95],\n",
    "[78,17,53,28,22,75,31,67,15,94,3,80,4,62,16,14,9,53,56,92],\n",
    "[16,39,5,42,96,35,31,47,55,58,88,24,0,17,54,24,36,29,85,57],\n",
    "[86,56,0,48,35,71,89,7,5,44,44,37,44,60,21,58,51,54,17,58],\n",
    "[19,80,81,68,5,94,47,69,28,73,92,13,86,52,17,77,4,89,55,40],\n",
    "[4,52,8,83,97,35,99,16,7,97,57,32,16,26,26,79,33,27,98,66],\n",
    "[88,36,68,87,57,62,20,72,3,46,33,67,46,55,12,32,63,93,53,69],\n",
    "[4,42,16,73,38,25,39,11,24,94,72,18,8,46,29,32,40,62,76,36],\n",
    "[20,69,36,41,72,30,23,88,34,62,99,69,82,67,59,85,74,4,36,16],\n",
    "[20,73,35,29,78,31,90,1,74,31,49,71,48,86,81,16,23,57,5,54],\n",
    "[1,70,54,71,83,51,54,69,16,92,33,48,61,43,52,1,89,19,67,48]\n",
    "]\n",
    "\n",
    "maxmult = 0\n",
    "rows=len(g) #행의크기20\n",
    "cols=len(g[0])#열의크기20\n",
    "size=4\n",
    "\n",
    "for i in range(rows):#0행부터 19행까지  0~3,1~4,2~5,.........,17~19까지가로곱과, 이를반대로하여 각각 세로곱을 구함,\n",
    "    for j in range(cols - size + 1):\n",
    "        #가로곱과 세로곱중 큰것을 phv에\n",
    "        phv = max(g[i][j] * g[i][j+1] * g[i][j+2] * g[i][j+3],\n",
    "                  g[j][i] * g[j+1][i] * g[j+2][i] * g[j+3][i])\n",
    "                  \n",
    "        if i < rows - size: #오른쪽아래대각선곱, 왼쪽아래 대각선곱중 큰것을 구하여 pdd에.\n",
    "           pdd = max(g[i][j] * g[i+1][j+1] * g[i+2][j+2] * g[i+3][j+3],\n",
    "                     g[i][j+3] * g[i+1][j+2] * g[i+2][j+1] * g[i+3][j])\n",
    "        maxmult = max(maxmult, phv, pdd)#phv와 pdd중큰값, 그리고 maxmult보다 크면 계속 maxmult에 갱신 \n",
    " \n",
    "print maxmult"
   ]
  },
  {
   "cell_type": "code",
   "execution_count": 2,
   "metadata": {
    "collapsed": false
   },
   "outputs": [
    {
     "name": "stdout",
     "output_type": "stream",
     "text": [
      "76576500\n"
     ]
    }
   ],
   "source": [
    "#10번(프로젝트 오일러 12)\n",
    "\n",
    "def factorise(number):\n",
    "    factors = 2\n",
    "    upper = number**0.5\n",
    "    if isinstance(upper, int):\n",
    "        factors += 1\n",
    "    i = 2\n",
    "    while i < upper:\n",
    "        if number % i == 0:\n",
    "            factors += 2\n",
    "        i += 1\n",
    "    return factors\n",
    "\n",
    "def triangle_number(count):\n",
    "    return sum(range(1,count+1))\n",
    "\n",
    "\n",
    "count = 2\n",
    "while factorise(triangle_number(count)) < 500:\n",
    "    count += 1\n",
    "print triangle_number(count)\n"
   ]
  },
  {
   "cell_type": "code",
   "execution_count": 17,
   "metadata": {
    "collapsed": false
   },
   "outputs": [
    {
     "name": "stdout",
     "output_type": "stream",
     "text": [
      "5537376230\n"
     ]
    }
   ],
   "source": [
    "#11번(프로젝트 오일러 13)\n",
    "\n",
    "#f=open('project13.txt','w') #project13.txt를 생성후 50자리숫자100개 저장\n",
    "f=open('project13.txt','r')\n",
    "nums=f.readlines() #각라인을 리스트로 반환\n",
    "f.close()\n",
    "num=0\n",
    "for n in nums: #리스트원소들을 n에할당후 int형변환후 num에 더해준다.\n",
    "    num+=int(n)\n",
    "print str(num)[0:10]#첫10자리 추출"
   ]
  },
  {
   "cell_type": "code",
   "execution_count": 18,
   "metadata": {
    "collapsed": false
   },
   "outputs": [
    {
     "name": "stdout",
     "output_type": "stream",
     "text": [
      "837799\n"
     ]
    }
   ],
   "source": [
    "#12번(프로젝트 오일러 14)\n",
    "def Euler14():\n",
    "    maxlongcount=0#1부터 100만이하숫자중 1까지의 도달과정의 가장긴 횟수\n",
    "    maxlongnum=0#maxlongcount를 가능하게하는 수.\n",
    "    for num in range(1,1000000):\n",
    "        count=0\n",
    "        num2=num\n",
    "        #num2에 num을저장해 만약 maxlongcount<count이면\n",
    "        #maxlongnum에 num을 저장한다.\n",
    "        while num!=1:\n",
    "            if num%2==0:#짝수면 n/2\n",
    "                num=num/2\n",
    "                count=count+1\n",
    "            \n",
    "            elif num%2==1:#홀수면 3n+1 \n",
    "                count=count+1\n",
    "                num=3*num+1\n",
    "        if maxlongcount<count: #최종 결과인 maxlongnum를 찾는다.\n",
    "            maxlongcount=count\n",
    "            maxlongnum=num2\n",
    "            \n",
    "    print maxlongnum\n",
    "\n",
    "Euler14()"
   ]
  },
  {
   "cell_type": "code",
   "execution_count": 19,
   "metadata": {
    "collapsed": false
   },
   "outputs": [
    {
     "name": "stdout",
     "output_type": "stream",
     "text": [
      "137846528820\n"
     ]
    }
   ],
   "source": [
    "#13번(프로젝트 오일러 15)\n",
    "from math import factorial\n",
    " \n",
    "def Euler15():\n",
    "    print factorial(40) / (factorial(20) * factorial(20)) #순열의공식을 사용하면된다. C(40,20) 40!/(20!*20!)\n",
    "   \n",
    "Euler15()\n"
   ]
  },
  {
   "cell_type": "code",
   "execution_count": 25,
   "metadata": {
    "collapsed": false
   },
   "outputs": [
    {
     "name": "stdout",
     "output_type": "stream",
     "text": [
      "\n",
      "단어의갯수는 :  1296\n",
      "punctuation :  !\"#$%&'()*+,-./:;<=>?@[\\]^_`{|}~\n",
      "삭제를위한 불용어는 :   ['a', 'and', 'are', 'as', 'at', 'be', 'but', 'by', 'for', 'if', 'in', 'into', 'is', 'it', 'no', 'not', 'of', 'on', 'or', 's', 'such', 't', 'that', 'the', 'their', 'then', 'there', 'these', 'they', 'this', 'to', 'was', 'will', 'with']\n",
      "\n",
      "{ 'DategetTimegooglelogfunctionabdegagooglelogUrlabdegifabnew: 1', 'gjucvar: 1', '°Ë»ösrchGoogle: 1', 'cwindowgbarrtldocumentbodyleftrightaowstylecbesmaoRaaoZapxaowstyletopaoapxcatchdgooglemld1causeaoPPTgooglepromostoastclfunctiontryaovamVasCbaoAaaoSaoRLaaoEaaoBaaoDawindowgbarupslaoSaoPpkaaowa1catchbgooglemlb1causeaoPCLgooglepromostoastcpcfunctiontryaowao1asDbaowaovaaoNGaaoAaaoqbaoSaoRWaoEaaoBaaoDawindowgbarupslaoSaoPpNaaowa1catchbgooglemlb1causeaoPCPCaoIafunctiontryifaowvar: 1', 'mUfwindowgbarupgpdbd0breakcase: 64', '2015: 1', 'bgpdspdaehslifwindowgbarwindowgbarupreturn1forvar: 1', 'ÇÑ±¹: 1', 'basyaaowaovaaoNTaoAareturnicb: 1', 'c0ddbccifd: 1', 'nullf0parseIntf10asAbfunctionbcdreturn: 64', 'impressionCap25var: 1', 'cbwindowsetTimeoutfunctionvar: 1', 'not: 64', 'Feeling: 1', 'cchasOwnPropertyedpushcedpushbwritedjoinbcloseavJafunctionbccavWagooglegooglemlgooglemlErrorogcdr1causetimeoutbcontentWindowavGbbwindowsetTimeoutfunctionavJabc1avYaavGbfunctionbdocumentbodyremoveChildbavFbfunctionbavpbbloadfunctionavJab0avpbfunctionbcdbaddEventListenerbaddEventListenercd1battachEventbattachEventoncdvar: 1', '°í±Þ°Ë»ö¾ð¾îµµ±¸±¤°í: 1', 'wwwgooglecomogpromosasPagasnbzasyafunctionbcdevar: 64', 'showgooglepromostoastinitsourceWebappPromoIDsourceWebappGroupIDpayloadTypedismissalTypecookieMaxAgeSecimpressionCapsessionIndexgaiaXsrfTokenzwbkXsrfTokeninvisible0612: 1', 'windowgbarupreturn1return0aoybfunctionreturn: 1', '±â·Ïu003Cau003E¿¡¼­: 1', 'Ã£À¸¼Ì³ª¿älckyI¡¯m: 1', 'awindowinnerWidthbwindowinnerHeightifabvar: 1', 'mVgg1llhh0kkasRqann0aswbehk1lgnasCbfunctionbcdefhbastacbaspaUaasrakadenullnullasCabfhvar: 1', 'sourceWebappPromoID291003var: 1', 'GooglefunctionwindowgooglekEI8fpJVuqhAsKk0ASe8KX4AQkEXPI1816737002524003510401478940288754029815403110940326784033307403433240365274037333403801240392684041837404249240432554043360404345740434584043492404460640450234045681404582040458414046304404640040473184047768404800740480114048347404859640488544048909404896840492004049468404954040495514049573404960540498134050343405046940507354050891405091140509154050983405098440510014051106405115440515934051595405166640520414052204405231240523844052440405307640532334053348830027283002908502221850231285023148502342850244485024528502468850253785025528502555102000831020122510201418authuser0kscsc9c918f010googlekHLkofunctiongooglelcgoogleli0googlegetEIfunctionaforvar: 1', 'agjwlhrefindexOfif0forvar: 1', 'cmU0dasyabcefd1asvbfunctionbcdefhklgnswitchccase: 1', 'mnawindowgbarupiicefbreakcase: 1', 'gasCafunctionbcdifbvar: 64', 'b276cdocumentgetElementByIdaoNVacbMathmaxbcoffsetWidthvar: 1', 'dparseIntaowstyleright100aowstylevisibility2aowoffsetWidthdbdocumentbodyclientWidthhiddencatchegooglemle1causeaoPHOSWaoobfunctionvar: 1', 'sessionIndex0var: 1', '°³ÀÎÁ¤º¸Ãë±Þ¹æÄ§: 1', 'aowcurrentStyleabsoluteaowcurrentStylepositiongooglepromostoastinitfunctionbcdefhklgnqrtryifaoobgooglemlErrorapa1causeaoPINITelse: 1', 'ÇÁ·Î±×·¥ºñÁî´Ï½º: 1', 'gjwllocationfunction: 1', 'eifgoogletimersgoogletimersloadtgoogletimersloadtxjslsnew: 1', 'bnullaagetAttributebagetAttributeleidaaparentNodereturn: 1', 'DategetTimegoogledljpxjsjskx3dxjshpenUSgp1oeOY8XtQOmx3dsbhedrtx3djdx3d1tx3dzcmsrsx3dACT90oGwouWTJDmCa07lBRvExUF65bHGwxjsjskx3dxjshpenUSgp1oeOY8XtQOmx3dsbhedrtx3djdx3d1tx3dzcmsrsx3dACT90oGwouWTJDmCa07lBRvExUF65bHGwgooglexjs1googlepmcsbheagentruecgentrueclientheirloomhpdhtruedsfltruehostgooglecokrisbh28jam0jsonptruemsgscibl°Ë»ö¾î: 1', 'mLb0U1V2na5asaspaSaimadUalasRqa0W1asraoa1ma2ka3asOMaaQagTclbukbtqapXapidOaeidmbatasTawindowlocationprotocol: 64', '¾Ë¾Æº¸±âosktÀÔ·Â: 1', 'baagetAttributebagetAttributeeidaaparentNodereturn: 1', 'nullgooglewlfunctionabtrygooglemlErrora1bcatchdgoogletimefunctionreturnnew: 1', 'mnawindowgbarupdpcefbreakcase: 64', 'g: 2609', 'bgooglehttpsfunctionreturnhttpswindowlocationprotocolgooglemlfunctionreturn: 1', 'cmU0avWagooglegooglemlgooglemlErrorogcdr1causetimeoutbcontentWindowavGbbwindowsetTimeoutfunctionavJabc1avYaavGbfunctionbdocumentbodyremoveChildbavFbfunctionbavpbbloadfunctionavJab0avpbfunctionbcdbaddEventListenerbaddEventListenercd1battachEventbattachEventoncdvar: 63', 'foundnullreturn: 64', 'µµ±¸psrc°Ë»ö¾î°¡: 1', 'cwindowdocumentdCSS1CompatccompatModecdocumentElementcbodyadclientWidthbdclientHeightabagooglecdowidthbgooglecdoheightgooglelogclient204atypibiwabihbeigooglekEIfunctionfunction: 1', 'Áö¿ì±âdymÀÌ°ÍÀ»: 1', 'Imagevar: 1', '»èÁ¦µÇ¾ú½À´Ï´Ùpsrl»èÁ¦sbitÀÌ¹ÌÁö·Î: 1', 'LuckylmlÀÚ¼¼È÷: 1', 'hrefhistoryu003EÀ¥: 1', 'payloadType5var: 1', 'ggasOqabgasOQacgasOMadgasOmbegasOOafgasOXa1kgasOTklgasOlblifhgasOkbhelse: 64', 'mUwindowgbarupspdbd10breakcase: 64', 'fnullswitchccase: 64', 'hgooglegetEIeceih1bsearchleiegooglegetLEIecleiehgooglekEIcleigooglekEIadggen204atypictacadbcfzxgoogletimehttpitestagooglehttpsgooglemlErrora1srcaglmm1areturn: 1', 'cookieMaxAgeSec2592000var: 1', 'kansasDismissalEnabledfalsevar: 1', 'u003Ca: 2', '°Ë»öovrspsxb1pqrefoqtruerefpdtruerefspretruerfsscd10sce5stokIasDaNKT52wY2A8wy117nbVaG4dgoogleyfirstpushfunctionifgooglemedgooglemedinitgoogleinitHistorygooglemedhistoryifgooglejgooglejengooglejxiwindowsetTimeoutgooglejxi0: 1', 'googlemlErrorknu1causeToken: 64', 'gaia: 3', 'mUcasyabcde1windowgbarupspdbdctoString0breakcase: 1', 'ifaoNTtoastcountcqqaoNGatoastdpcrraoPdaoSbaovaeaoAacaoqbfaoEallgaoBalaoDakasAbaoweaoNGacasBbaowehaoNTcaoybao1elseasvbaoweaoNTcfaoSaoRabaoEaaoBaaoDaifntrywindowgbarupaehwindowresizeaoIacatchtwindowlolaoIawindowgbarelraoKawindowgbarelrwindowgbarelcwindowgbarelcaoKaao0windowgbarupslaoSaoPpoaaowacatchtgooglemlt1causeaoPINITaowafunctionvar: 1', 'cmUnullwindowgbarupgpdbd01astafunctionbcdefhklvar: 64', 'sourceWebappGroupID5var: 1', '¼Ö·ç¼ÇGoogleGoogle: 1', 'mVgg1llhh0kkasRWnn0astbehkflgnasBbfunctionbcdefreturn: 64', 'dismissalType5var: 1', 'mnafwindowgbarupgccereturn: 64', 'is: 206', 'pJbaMblKbcNadkahoaiWbnWxTbmaUbmcVbmiNbpaObpcQbpiSbpnRbpxPbpdXbgpaZbgpibgpnacgpxYbgpdaoaoNVahplogojbpmocntr2aoRab0W1La2aowdocumentgetElementByIdaoNjbaoRa16aoZa2aoa20googlepromosgooglepromosgooglepromostoastgooglepromostoastaofunctionbaowaowstyledisplaybnoneaowparentNodeaowparentNodestylepositionbrelativeaoKafunctionbtryifaowbbesbesmvar: 1', 'in: 559', 'return: 332', 'k0var: 1', 'lao1else: 1', 'cfwindowgooglewindowgooglevelwindowgooglevelluwindowgooglevelluabsrcagooglelif1googlelogUrlfunctionabdegvar: 1', 'zwbkXsrfTokenvar: 1', 'agoogleygooglexfunctionabgoogleyaidabreturn1googleloadfunctionabdgooglexidakfunctiongoogleloadabdvar: 1', 'ecasPaasnbcdeauthuserdavHbbasTaeastbfunctionbcdefhkbastacbaspamaasramadfnulleasCabhkaswbfunctionbcdefhkbastacbaspaSaasraoadfenullasCabhkasDbfunctionbcdefhklgnswitchccase: 64', 'adocumentcreateElementscriptasrcbdocumentgetElementByIdxjsdappendChilda0googledljpfunctionbagooglexjsubcagoogledljcfunctionwindowgooglexjsrmifgoogleygoogleyfirstifgooglexjswindowwindowwindowDumpExceptionfunctionethrow: 1', 'cgooglelcfgooglelicfbbonerrorbonloadbonabortfunctiondelete: 1', 'ifaowifemVlggooglemlErrortku1causezwieback: 1', 'bgooglekEIgooglegetLEIfunctionaforvar: 1', 'functionvar: 5', 'Á¤º¸Googlecom©: 1', 'e: 3922', 'invisiblefalsewindowgbargbarupgbaruprgbaruprpayloadTypefunctionshowif: 1', 'gaiaXsrfTokenvar: 1', 'cfgooglelsifd1bsearcheivar: 1', '¾à°üfunctionwindowgooglecdoheight0width0functionvar: 1', }\n",
      "\n",
      "\n",
      "가장 많은 빈도를 나타내는 문자는 :  (u'in', 559) (u'g', 2609) (u'e', 3922)\n"
     ]
    }
   ],
   "source": [
    "#14번 사이트1\n",
    "# -*- coding: utf-8 -*-\n",
    "import urllib2\n",
    "import string\n",
    "import pickle\n",
    "import operator\n",
    "\n",
    "source = urllib2.urlopen(\"http://www.google.com/\").read()\n",
    "f = open(\"www.google.com.html \", 'w')\n",
    "f.write(source) # 14-2 html소스를 파일로 저장\n",
    "f.close()\n",
    "\n",
    "\n",
    "#print source # 추후 숙제 답안 제출 때엔 왼쪽 라인은 주석처리할 것\n",
    "from bs4 import BeautifulSoup\n",
    "print\n",
    "soup = BeautifulSoup(source)#buetifulsoup라이브러리를 이용하여 html태그제거\n",
    "pureWords = soup.text.replace(\"\\n\",\" \").replace(\"\\t\",\" \").replace(\"//\",\" \")\n",
    "#엔터와 탭을 보기편하게 공백으로 replace한다. 또한 //도 공백으로 replace한다.\n",
    "count=pureWords.count('<')#count를 주기위해 <의 개수를 샌다.\n",
    "for i in range(count):#<나온만큼 count를 돌려서 pureWords문자열에서 남은 <를 제거한다.\n",
    "    a=pureWords.find('<')   \n",
    "    b=pureWords.find('>')\n",
    "    pureWords=pureWords[0:a]+pureWords[b+1:] #[a:b]제외하고 남은것을 제거하여 s에저장\n",
    "\n",
    "#print pureWords\n",
    "wordCount = pureWords.split()#문자열을 공백을기준으로 추출한 단어를 list로 저장\n",
    "print \"단어의갯수는 : \", len(wordCount)#list에 저장된 갯수를센다\n",
    "########################################################################################지난과제에이어서추가\n",
    "print \"punctuation : \",string.punctuation\n",
    "punc= string.punctuation\n",
    "\n",
    "source2 = \" \".join(wordCount)#wordCount리스트를 다시 source2에 ' '로 연결한 문자열로 저장\n",
    "for a in punc: # for문을이용하여 puctuation을 각각 찾아서 공백으로 대체. 즉, puctuation을 삭제시킨다.\n",
    "    source2 =source2.replace(a, '')\n",
    "wordCount=source2.split()\n",
    "\n",
    "stopword= [ 'a', 'and', 'are', 'as', 'at', 'be', 'but', 'by', 'for', 'if', 'in', 'into', 'is', 'it', 'no', 'not', 'of', 'on', 'or', 's', 'such', 't', 'that', 'the', 'their', 'then', 'there', 'these', 'they', 'this', 'to', 'was', 'will', 'with']\n",
    "print \"삭제를위한 불용어는 :  \",stopword\n",
    "print\n",
    "source3 = \" \".join(wordCount)#wordCount리스트를 다시 source3에 ' '로 연결한 문자열로 저장\n",
    "for a in stopword: # 14-1 for문을이용하여 불용어 각각 찾아서 공백으로 대체. 즉, 불용어를 삭제시킨다.\n",
    "    source3 =source3.replace(a, '')\n",
    "wordCount=source2.split()\n",
    "\n",
    "\n",
    "num=[]\n",
    "for x in range(len(wordCount)):\n",
    "    num.append(source2.count(wordCount[x])) #wordCount리스트의 원소 각각 빈도수를 source2에서 센다.\n",
    "dic= dict(zip(wordCount, num))#zip으로 2개의 리스트를 투플로만든후 dict으로 사전으로 바꿔준다.\n",
    "\n",
    "print '{',\n",
    "for key in (dic.keys()):\n",
    "    print '\\'' + key + ':',\n",
    "    print str(dic[key]) + '\\'' + ',', #키에 대한 values를 넣어준다. 주의할 점은 다른 건 문자이고 dic[key]는 정수형이기 때문에 \n",
    "                                       #두 개의 서로 다른 타입에서는 +를 할 수 없기 때문에 dic[key]를 문자열로 바꿔준다.\n",
    "print '}'\n",
    "\n",
    "f = open('www.google.com.words.frequency', 'w')\n",
    "pickle.dump(dic, f) # 14-3 단어의 출현빈도가 담긴 사전 객체를 위 HTML 소스 파일과 동일한 폴더에 파일로 저장(pickle 모듈을 활용)\n",
    "f.close()\n",
    "\n",
    "f = open('www.google.com.words.frequency')# 14-4 words.frequency 파일들을 객체로 다시 로드\n",
    "t=pickle.load(f)\n",
    "\n",
    "\n",
    "sorted_dic = sorted(t.iteritems(), key=operator.itemgetter(1))#14-5 정렬하여 가장 많이 출현한 단어 3개를 뽑아 제시\n",
    "diclen=len(sorted_dic)\n",
    "print\n",
    "print\n",
    "\n",
    "print \"가장 많은 빈도를 나타내는 문자는 : \",\n",
    "for i in range(diclen-3,diclen):\n",
    "    print sorted_dic[i],\n"
   ]
  },
  {
   "cell_type": "code",
   "execution_count": 14,
   "metadata": {
    "collapsed": false
   },
   "outputs": [
    {
     "name": "stdout",
     "output_type": "stream",
     "text": [
      "\n",
      "단어의갯수는 :  251\n",
      "punctuation :  !\"#$%&'()*+,-./:;<=>?@[\\]^_`{|}~\n",
      "삭제를위한 불용어는 :   ['a', 'and', 'are', 'as', 'at', 'be', 'but', 'by', 'for', 'if', 'in', 'into', 'is', 'it', 'no', 'not', 'of', 'on', 'or', 's', 'such', 't', 'that', 'the', 'their', 'then', 'there', 'these', 'they', 'this', 'to', 'was', 'will', 'with']\n",
      "\n",
      "{ 'selected: 1', 'over: 1', 'global: 1', 'Graduate: 3', 'DateascreateElemento: 1', 'through: 1', 'Byeongcheonmyeon: 1', 'go: 3', 'Pride: 1', 'Republic: 1', 'We: 4', 'unique: 1', 'Student’s: 1', 'Exchange: 1', 'menu: 1', 'No: 2', '29: 1', 'to: 5', 'toputil: 1', 'KOREATECH: 11', 'Copyrightⓒ: 1', '2015: 1', 'News: 1', 'Top: 1', '2013: 1', '220686477: 1', 'around: 1', 'Programs: 5', 'stop: 2', 'SCHOOL: 1', 'Reviews: 1', 'facebook: 1', 'world: 1', 'Joongang: 1', 'day: 1', 'WINTER: 1', 'Summer: 1', 'think: 1', 'countries: 1', 'OF: 1', 'university: 2', 'Global: 1', 'Satisfaction: 1', 'IPP: 2', 'Cheonansi: 1', 'Parents: 1', 'Education: 3', 'About: 1', 'college: 1', 'are: 3', 'International: 2', '80: 2', 'beyond: 1', 'Email: 1', 'Assurance: 1', 'universities: 1', 'Life: 5', 'KOREA: 12', 'for: 5', 'Welcome: 1', 'VIDEO: 1', 'new: 2', '※: 1', 'VISION: 1', 'School: 1', 'korea: 2', 'Chungcheongnamdo: 1', 'University: 1', '31253: 1', 'wwwgoogleanalyticscomanalyticsjsga: 1', 'answers: 1', 'English: 1', 'TECHNOLOGY: 1', 'by: 2', 'UA478587801: 1', 'Chinese: 1', 'of: 4', '30: 1', '2020: 1', 'IEQAS: 2', 'Home: 1', 'Calendar: 2', 'EDUCATION: 1', 'Undergraduate: 3', 'Campus: 4', 'Universities: 1', 'among: 1', 'Koreas: 2', 'Admission: 4', 'Program: 7', 'Korean: 2', 'pageview: 1', 'from: 1', 'Ranked: 1', 'interkoreatechackr: 1', 'wolde: 1', 'forward: 1', 'ODA: 1', 'was: 1', 'functionisogramiGoogleAnalyticsObjectririrfunction: 1', 'msgetElementsByTagNameo0aasync1asrcgmparentNodeinsertBefoream: 1', 'Language: 1', 'that: 1', 'System: 1', 'Academic: 2', 'visual: 1', 'Survey: 1', '2014: 4', 'with: 2', 'Guide: 2', 'Sitemap: 1', '82415602503: 1', 'Ministry: 1', 'Features: 1', 'rights: 1', 'industryuniversity: 1', 'College: 1', 'Korea’s: 1', '1600: 1', 'Special: 1', 'and: 3', 'gasend: 1', 'reserved: 1', 'Introduction: 1', 'is: 11', 'partnership: 1', 'an: 15', 'cooperationbased: 1', 'have: 1', 'in: 14', 'education: 3', 'contents: 1', 'Map: 1', 'educational: 2', 'contest: 1', 'UNIVERSITY: 1', 'demands: 1', '1: 13', 'Dongnamgu: 1', 'UCC: 1', 'President: 1', 'PR: 1', 'play: 2', 'KoreaTEL: 1', 'our: 1', 'irqirqpushargumentsirl1new: 1', 'windowdocumentscript: 1', 'Korea: 9', 'moving: 1', 'Technology: 1', 'KOICA: 1', 'popinit: 1', 'model: 1', 'a: 125', 'gacreate: 1', 'All: 1', 'Chungjeolro: 1', 'programs: 1', 'navigation: 2', 'daily: 1', 'One: 1', 'presenting: 1', 'In: 5', 'the: 4', 'paradigm: 1', 'Quality: 1', 'institutions: 1', }\n",
      "\n",
      "\n",
      "가장 많은 빈도를 나타내는 문자는 :  (u'in', 14) (u'an', 15) (u'a', 125)\n"
     ]
    }
   ],
   "source": [
    "#14번 사이트2\n",
    "# -*- coding: utf-8 -*-\n",
    "import urllib2\n",
    "import string\n",
    "import pickle\n",
    "import operator\n",
    "\n",
    "source = urllib2.urlopen(\"http://www.koreatech.ac.kr/eng.do\").read()\n",
    "f = open(\"www.koreatech.ac.kr.html \", 'w')\n",
    "f.write(source) # 14-2 html소스를 파일로 저장\n",
    "f.close()\n",
    "\n",
    "\n",
    "#print source # 추후 숙제 답안 제출 때엔 왼쪽 라인은 주석처리할 것\n",
    "from bs4 import BeautifulSoup\n",
    "print\n",
    "soup = BeautifulSoup(source)#buetifulsoup라이브러리를 이용하여 html태그제거\n",
    "pureWords = soup.text.replace(\"\\n\",\" \").replace(\"\\t\",\" \").replace(\"//\",\" \")\n",
    "#엔터와 탭을 보기편하게 공백으로 replace한다. 또한 //도 공백으로 replace한다.\n",
    "count=pureWords.count('<')#count를 주기위해 <의 개수를 샌다.\n",
    "for i in range(count):#<나온만큼 count를 돌려서 pureWords문자열에서 남은 <를 제거한다.\n",
    "    a=pureWords.find('<')   \n",
    "    b=pureWords.find('>')\n",
    "    pureWords=pureWords[0:a]+pureWords[b+1:] #[a:b]제외하고 남은것을 제거하여 s에저장\n",
    "\n",
    "#print pureWords\n",
    "wordCount = pureWords.split()#문자열을 공백을기준으로 추출한 단어를 list로 저장\n",
    "print \"단어의갯수는 : \", len(wordCount)#list에 저장된 갯수를센다\n",
    "########################################################################################지난과제에이어서추가\n",
    "print \"punctuation : \",string.punctuation\n",
    "punc= string.punctuation\n",
    "\n",
    "source2 = \" \".join(wordCount)#wordCount리스트를 다시 source2에 ' '로 연결한 문자열로 저장\n",
    "for a in punc: # for문을이용하여 puctuation을 각각 찾아서 공백으로 대체. 즉, puctuation을 삭제시킨다.\n",
    "    source2 =source2.replace(a, '')\n",
    "wordCount=source2.split()\n",
    "\n",
    "stopword= [ 'a', 'and', 'are', 'as', 'at', 'be', 'but', 'by', 'for', 'if', 'in', 'into', 'is', 'it', 'no', 'not', 'of', 'on', 'or', 's', 'such', 't', 'that', 'the', 'their', 'then', 'there', 'these', 'they', 'this', 'to', 'was', 'will', 'with']\n",
    "print \"삭제를위한 불용어는 :  \",stopword\n",
    "print\n",
    "source3 = \" \".join(wordCount)#wordCount리스트를 다시 source3에 ' '로 연결한 문자열로 저장\n",
    "for a in stopword: # 14-1 for문을이용하여 불용어 각각 찾아서 공백으로 대체. 즉, 불용어를 삭제시킨다.\n",
    "    source3 =source3.replace(a, '')\n",
    "wordCount=source2.split()\n",
    "\n",
    "\n",
    "num=[]\n",
    "for x in range(len(wordCount)):\n",
    "    num.append(source2.count(wordCount[x])) #wordCount리스트의 원소 각각 빈도수를 source2에서 센다.\n",
    "dic= dict(zip(wordCount, num))#zip으로 2개의 리스트를 투플로만든후 dict으로 사전으로 바꿔준다.\n",
    "\n",
    "print '{',\n",
    "for key in (dic.keys()):\n",
    "    print '\\'' + key + ':',\n",
    "    print str(dic[key]) + '\\'' + ',', #키에 대한 values를 넣어준다. 주의할 점은 다른 건 문자이고 dic[key]는 정수형이기 때문에 \n",
    "                                       #두 개의 서로 다른 타입에서는 +를 할 수 없기 때문에 dic[key]를 문자열로 바꿔준다.\n",
    "print '}'\n",
    "\n",
    "f = open('www.koreatech.ac.kr.words.frequency', 'w')\n",
    "pickle.dump(dic, f) # 14-3 단어의 출현빈도가 담긴 사전 객체를 위 HTML 소스 파일과 동일한 폴더에 파일로 저장(pickle 모듈을 활용)\n",
    "f.close()\n",
    "\n",
    "f = open('www.koreatech.ac.kr.words.frequency')# 14-4 words.frequency 파일들을 객체로 다시 로드\n",
    "t=pickle.load(f)\n",
    "\n",
    "\n",
    "sorted_dic = sorted(t.iteritems(), key=operator.itemgetter(1))#14-5 정렬하여 가장 많이 출현한 단어 3개를 뽑아 제시\n",
    "diclen=len(sorted_dic)\n",
    "print\n",
    "print\n",
    "\n",
    "print \"가장 많은 빈도를 나타내는 문자는 : \",\n",
    "for i in range(diclen-3,diclen):\n",
    "    print sorted_dic[i],\n"
   ]
  },
  {
   "cell_type": "code",
   "execution_count": 15,
   "metadata": {
    "collapsed": false
   },
   "outputs": [
    {
     "name": "stdout",
     "output_type": "stream",
     "text": [
      "\n",
      "단어의갯수는 :  1351\n",
      "punctuation :  !\"#$%&'()*+,-./:;<=>?@[\\]^_`{|}~\n",
      "삭제를위한 불용어는 :   ['a', 'and', 'are', 'as', 'at', 'be', 'but', 'by', 'for', 'if', 'in', 'into', 'is', 'it', 'no', 'not', 'of', 'on', 'or', 's', 'such', 't', 'that', 'the', 'their', 'then', 'there', 'these', 'they', 'this', 'to', 'was', 'will', 'with']\n",
      "\n",
      "{ 'all: 3', 'startupkaistackr: 1', 'paqpushtrackPageView: 1', 'Station: 1', 'Amenities: 4', 'Department: 17', 'Minor: 1', 'Winter: 3', 'Notice: 5', 'MSPhD: 1', 'Business: 4', 'tt: 12', 'Bulletin: 1', 'environment: 1', '0: 65', 'tm: 21', 'Day: 1', 'CollegeDepartment: 3', 'Quanturn: 1', 'Industry: 2', '열림: 1', 'Daehakro: 1', 'Tenure: 1', 'Research: 11', 'Experimental: 1', 'qm2stoptruefalsefadeOut150: 1', 'paqpushsetTrackerUrl: 1', 'Global: 1', 'deals: 1', 'Course: 2', 'classwindow: 1', 'dir: 3', '291: 1', '0423502114: 1', 'objbindmouseleavefunction: 1', 'gdefertrue: 1', 'Equipment: 1', 'Issuing: 1', 'Teaching: 2', 'General: 1', 'click: 9', 'Dogok: 1', 'Korea: 5', 'public: 1', 'Cultural: 4', 'method: 2', '한번에보여질: 1', 'Gift: 2', 'Light: 1', 'Professor: 1', 'iftsrc: 2', 'Contact: 1', 'Green: 2', 'Korea0923: 1', 'windowopenhttp: 1', '새창으로: 1', 'search: 19', 'Philharmonic: 1', 'Communication: 1', 'Midto: 1', 'survey: 1', 'Technology: 11', '20161103: 1', 'Certificate: 1', 'Visiting: 3', 'Giving: 1', '여백marginpadding: 1', 'Support: 3', 'Readmission: 1', 'redoxswitch: 1', 'Nonofab: 1', 'Health: 1', 'Treat: 1', 'Notices: 1', 'Charging: 1', 'use: 4', 'Central: 1', 'groupanimate: 1', 'Academics: 1', 'enzyme: 1', 'sports: 1', 'familyparambtnobj: 1', 'foster: 1', 'Aerospace: 1', 'sparentNodeinsertBeforegs: 1', '담당자: 1', 'more: 3', 'Onsite: 1', '텀: 1', 'F: 28', 'club: 1', 'Positions: 1', 'Korean: 1', 'Websites: 2', 'site: 4', 'Convergence: 1', '7000: 1', 'Facility: 1', 'effort: 1', 'Spotlight: 1', 'qmWraphide: 3', 'none: 2', 'moreSize: 2', 'AntiCorruption: 1', '자동: 1', 'Charge: 1', 'Library: 3', 'searchvalremoveClasson: 1', 'Video: 1', 'searchvalfocusfunction: 1', 'control: 1', 'Media: 2', '슬라이드: 2', '996: 2', 'Policy: 3', 'jsjqueryeasing13js: 1', 'information: 1', 'bodyclickfunction: 3', 'Daejeon: 4', '2220: 1', '1: 100', 'wwwarsnovacokrperformidxval공연예매topscreenavailWidth: 1', 'Fall: 2', 'A: 76', 'bnqm1clickfunction: 1', 'stateScrollObjparamobjbtnintervalspeedviewSizemoreSizedirdataautocounthovermethodop1: 1', 'alt웹페이지가: 1', 'paq: 6', 'Collaborations: 1', 'kaist: 3', 'thisstoptruefalsefadeOut150: 1', 'Welfare: 5', 'countkaistackr: 1', 'Excellence: 3', 'ulfindatargetblankappend: 2', 'Martin: 1', 'data: 4', 'Message: 1', 'a: 595', 'Shik: 1', 'All: 1', '헨들러: 2', 'Reserved: 1', 'Civil: 2', 'tale: 1', 'Former: 1', 'Radio: 1', 'Requirements: 1', 'gasynctrue: 1', 'Cho: 1', 'course: 4', 'thesis: 2', 'Heads: 1', 'its: 1', 'Admissions: 2', 'img: 11', 'Exchange: 1', 'Philosophy: 3', 'SAE: 1', 'li: 41', 'Donation: 1', '2015: 10', 'Using: 1', 'Podcast: 2', 'return: 7', 'auto: 2', '0423502210: 1', 'Hosts: 1', 'Receives: 1', 'Social: 1', 'Joint: 1', 'fleXenvfleXcrollMainoptvscroll2: 1', 'fleXenvfleXcrollMainoptvscroll1: 1', 'Leaders: 2', 'masters: 2', 'Liberal: 1', '0924: 1', 'professorship: 1', 'visualen: 1', 'WelfareAmenities: 3', 'courses: 1', 'Deadline: 8', 'Event: 5', 'Arts: 1', 'Statistics: 1', '2leftscreenavailHeight: 1', 'Contest: 1', '5Thu: 1', '주메뉴: 1', 'Shuttle: 1', 'our: 8', 'uhttps: 1', 'event: 5', 'Discovery: 1', 'Satellite: 1', 'Coop: 2', '타입: 1', 'Agreement: 1', 'research: 1', 'evaluation: 3', '반복: 1', 'achievements: 1', 'tmpl: 2', 'Rights: 2', 'University: 2', 'Innovative: 1', 'easeInSine: 1', 'Transportation: 1', 'Security: 1', 'Studies: 1', 'mSchedulefindscheduleopenclickfunctionevent: 1', 'Certification: 1', 'Photo: 1', 'National: 1', 'upiwikphp: 1', 'expecting: 5', 'KAIST: 35', '“Open: 1', '1127Fri: 2', '1000: 1', 'Ceremony: 1', 'mWebzine: 1', 'major: 2', 'Scholarships: 1', 'saving: 1', 'Copyright: 1', 'Humanities: 1', 'Freshmen: 1', 'Program: 8', 'Electrical: 1', 'fees: 1', 'open: 3', 'management: 1', 'thisnextstoptruefalsefadeIn300: 1', 'service: 2', 'festival: 2', 'Academy: 2', '2width996height698toolbarnostatusnomenubarnoscrollbarsnodirectoriesnolocation0border0resizableno: 1', 'Environmental: 1', 'VisionGoals: 1', 'qm1stoptruefalsefadeIn300: 1', 'Association: 1', 'Scholar: 4', 'Language: 2', 'Nanoscience: 1', 'Edge: 1', 'Enterprise: 1', 'History: 1', '11: 25', 'Code: 1', '입력: 2', 'Semester: 3', 'classes: 4', 'Disease1111: 1', 'were: 1', 'Univ: 4', 'Biography: 1', 'and: 29', 'Information: 5', 'Doctoral: 1', 'false: 18', '2014: 1', 'descriptionsplans: 3', 'Current: 1', 'Window: 1', 'qmWrapfadeOut150: 2', 'Conferment: 1', 'Interview: 1', 'Main: 4', 'Development: 1', 'Activities: 2', 'Founding: 3', 'viewSize: 2', 'Honorary: 1', 'Tuition: 1', 'searchvalblurfunction: 1', 'Faculty: 2', 'checkloginval: 1', '선택: 1', 'play: 3', 'dissertation: 3', 'inks: 1', '연결: 2', 'most: 1', '본문: 1', '아래로: 1', 'Common: 1', 'Biological: 1', 'The: 3', '2: 50', '페이징: 1', 'professor: 2', 'request: 1', 'Growth: 1', 'Institutes: 1', 'Cafeteria: 1', 'qm2stoptruefalsefadeIn300: 1', 'Web: 4', 'Electri1103: 1', 'ClinicWelfareAmenities: 2', 'Marko: 1', 'Graduate: 11', 'Reuters: 1', 'Systems: 1', 'Innovation: 1', 'Timetable: 1', 'tsrc: 10', 'Document: 1', 'Public: 1', 'Bio: 5', '함수: 2', 'just: 1', 'menu: 2', '698: 2', '그림: 2', 'only: 1', 'Leadership: 1', 'Services: 3', 'Areas: 2', 'Organizations: 1', 'magazineabindmouseoverfunction: 1', 'get: 4', 'stop: 7', 'qm1stoptruefalsefadeOut150: 1', '위로: 1', 'Industrial: 2', '바로가기: 2', 'Mechanical: 1', 'Organization: 4', 'regarding: 2', '20151105: 1', 'Semester0616: 1', 'grap: 3', 'gsrcupiwikjs: 1', '0아래에서: 1', 'M0819: 1', 'Promotional: 1', 'Facilities: 1', 'Clinic: 4', 'Registration: 4', 'x: 23', 'Education: 3', 'Vieos: 1', 'fuel: 1', '1123Mon: 2', 'For: 4', 'Area: 3', 'Tr0911: 1', 'Dormitory: 3', 'defense: 5', 'Handbook: 1', '사용시: 1', 'Performance: 2', 'btn: 8', '방향: 2', '객체: 6', 'topNewparamobjtmpln: 1', 'LongTerm: 1', 'paqpushsetSiteId: 1', 'Study: 1', 'Advanced: 2', 'Info: 8', 'C: 84', 'Natural: 2', 'ddocument: 1', 'Lectures: 1', 'CouncilClub: 2', 'S: 135', 'key: 2', 'Team: 1', 'policy: 1', '실행: 1', 'latestparambtnobjimgevent: 2', 'KAISTs: 1', '문의: 1', '플레이: 1', 'Design: 1', 'Counseling: 1', 'Undergraduate: 1', 'Campus: 7', '“We’ve: 1', 'Munji: 1', 'Alzheimers: 1', 'Guideline: 1', 'ulfindatargetblankappendimg: 1', 'NewsletterNatural: 1', 'mScheduleexhide: 3', 'Way: 1', 'Membrane: 1', 'MOFs1113: 1', 'undergraduate: 2', 'conference: 1', 'arts: 1', 'Electric: 2', 'Degree: 2', '영역: 3', 'been: 1', 'Most: 1', 'Portal: 1', 'Plan: 1', 'basic: 1', 'Identity: 1', 'Care: 1', 'gdcreateElementscript: 1', 'Center: 8', 'with: 4', '애니메이션: 1', 'else: 2', 'Academic: 8', '이벤트: 4', 'searchvaladdClasson: 1', 'World: 2', 'Navigation: 1', '｜: 7', 'those: 4', 'tsrcsubstrtsrclastIndexOf: 2', 'paying: 1', '2016: 8', 'familyst: 1', 'Instrument: 1', 'International: 6', 'Intl: 2', 'n: 613', '1106: 2', 'Culture: 1', 'Utilized: 1', '“nanofasteners”: 1', 'College: 10', 'involved: 1', 'Open: 2', 'Wearable: 1', 'h3a: 2', 'timgattrsrc: 2', 'Menu: 2', 'it: 48', 'UniversityIndustry: 1', '시간: 1', 'in: 127', 'Fuel: 1', 'Intl’: 1', '641: 1', 'Around: 1', '2015”: 1', 'Chart: 1', '사용: 4', 'Computer: 1', 'nextgeneration: 1', '발생할: 2', 'President: 4', 'ifqm2cssdisplay: 1', 'About: 4', 'http: 4', 'Carillion: 1', '진행: 1', 'Institute: 4', 'Medical: 3', 'IT: 2', 'ifqm1cssdisplay: 1', 'student: 6', 'Physics: 1', 'recent: 1', '1125Wed: 2', 'Spring: 2', 'gtypetextjavascript: 1', 'Chun: 1', 'the: 10', 'spend: 1', 'op1: 2', 'Service: 7', 'mNotify: 1', 'money: 1', 'documentlocationprotocol: 1', 'Forms: 2', 'Internet: 1', 'Enro0703: 1', '수: 3', 'speed: 2', 'doctoral: 3', '추가된: 1', 'param: 10', 'css로: 1', 'Important: 2', 'Helfmans: 1', 'Master’s: 1', 'News: 13', 'administrative: 1', 'Admission: 3', 'bnqm2clickfunction: 1', 'hover: 2', 'to: 45', 'Programs: 2', 'Of: 6', 'T: 69', '유무: 2', '2nd: 1', 'Or: 5', 'Sciences: 4', 'Computing: 1', 'layerflow: 2', 'Satisfaction: 1', 'Clubs: 3', 'foodbeverage: 1', 'Learning: 2', 'Safety: 2', 'OT: 1', 'Management: 5', 'Landmarks: 1', 'System: 2', 'Commission: 1', 'Cooperation: 1', 'New: 15', 'ourselves: 1', 'Life: 2', 'Seoul: 3', 'for: 40', 'ifsearchvalval: 2', 'can’t: 1', 'School: 12', 'Look: 1', 'bb: 2', 'processing: 1', 'David: 1', '2Mon: 2', 'Materials: 1', 'Policies: 1', '참조: 1', 'Universities0916: 1', 'by: 2', 'Mathematical: 1', 'on: 116', '설정: 2', 'obj: 13', 'of: 46', 'Autumn: 1', 'magazine: 2', 'UI: 1', 'Busan: 1', 'Calendar: 2', 'Supportive: 1', 'sdgetElementsByTagNamescript0: 1', 'disclosure: 1', 'Use: 1', '1112Thu: 1', 'Feb: 5', 'Knowledge: 1', 'logo: 1', 'Make: 1', 'srcImgkrcommoniconbk2png: 1', 'Meeting: 1', 'Week: 1', 'Finance: 1', 'paqpushenableLinkTracking: 1', 'submit: 5', 'ISIC: 1', 'lot: 1', 'var: 38', 'Degree0831: 1', 'Presidents: 1', 'function: 17', 'Oncampus: 2', 'https: 2', 'Science: 14', 'but: 1', 'true: 14', 'Guide: 2', 'count: 3', 'ovgif: 2', 'KAIST’s: 2', 'Office: 3', '1위에서: 1', 'inside: 1', '20151127: 1', 'Startup: 3', 'ul: 22', 'Engineering: 13', 'Card: 1', 'Insurance: 1', 'mScheduleexfindschedulecloseclickfunction: 1', 'USD: 1', 'liberal: 1', 'Please: 1', 'Personal: 2', 'Nuclear: 1', 'hosted: 1', 'EEWS: 1', 'Science1106: 1', 'How: 1', '이동방향: 1', 'at: 89', 'MedicalWelfare: 1', 'Semester0701: 1', 'thisfindimg: 2', 'mScheduleexshow: 1', 'Track: 3', 'Million: 1', 'Yuseonggu: 1', 'Lab: 1', 'graduate: 8', 'Wireless: 1', 'application: 1', '1113: 2', 'Student: 15', '1116: 1', 'Reinstatement: 1', 'Customer: 1', 'Ombudsman: 1', '34141: 1', 'students: 5', 'ethicsSafety: 1', 'Condensed: 1', 'Future: 1', 'Priorities: 1', 'AuditoriumE15: 1', 'Person: 3', 'interval: 2', 'Competitive: 1', 'An: 2', 'Brain: 1', '이벤트가: 2', 'timg: 4', 'Dual: 1', '6Fri: 2', 'Newsletter: 4', 'mvisual: 1', }\n",
      "\n",
      "\n",
      "가장 많은 빈도를 나타내는 문자는 :  (u'S', 135) (u'a', 595) (u'n', 613)\n"
     ]
    }
   ],
   "source": [
    "#14번 사이트3\n",
    "# -*- coding: utf-8 -*-\n",
    "import urllib2\n",
    "import string\n",
    "import pickle\n",
    "import operator\n",
    "\n",
    "source = urllib2.urlopen(\"http://www.kaist.ac.kr/html/en/\").read()\n",
    "f = open(\"www.kaist.ac.kr.html \", 'w')\n",
    "f.write(source) # 14-2 html소스를 파일로 저장\n",
    "f.close()\n",
    "\n",
    "\n",
    "#print source # 추후 숙제 답안 제출 때엔 왼쪽 라인은 주석처리할 것\n",
    "from bs4 import BeautifulSoup\n",
    "print\n",
    "soup = BeautifulSoup(source)#buetifulsoup라이브러리를 이용하여 html태그제거\n",
    "pureWords = soup.text.replace(\"\\n\",\" \").replace(\"\\t\",\" \").replace(\"//\",\" \")\n",
    "#엔터와 탭을 보기편하게 공백으로 replace한다. 또한 //도 공백으로 replace한다.\n",
    "count=pureWords.count('<')#count를 주기위해 <의 개수를 샌다.\n",
    "for i in range(count):#<나온만큼 count를 돌려서 pureWords문자열에서 남은 <를 제거한다.\n",
    "    a=pureWords.find('<')   \n",
    "    b=pureWords.find('>')\n",
    "    pureWords=pureWords[0:a]+pureWords[b+1:] #[a:b]제외하고 남은것을 제거하여 s에저장\n",
    "\n",
    "#print pureWords\n",
    "wordCount = pureWords.split()#문자열을 공백을기준으로 추출한 단어를 list로 저장\n",
    "print \"단어의갯수는 : \", len(wordCount)#list에 저장된 갯수를센다\n",
    "########################################################################################지난과제에이어서추가\n",
    "print \"punctuation : \",string.punctuation\n",
    "punc= string.punctuation\n",
    "\n",
    "source2 = \" \".join(wordCount)#wordCount리스트를 다시 source2에 ' '로 연결한 문자열로 저장\n",
    "for a in punc: # for문을이용하여 puctuation을 각각 찾아서 공백으로 대체. 즉, puctuation을 삭제시킨다.\n",
    "    source2 =source2.replace(a, '')\n",
    "wordCount=source2.split()\n",
    "\n",
    "stopword= [ 'a', 'and', 'are', 'as', 'at', 'be', 'but', 'by', 'for', 'if', 'in', 'into', 'is', 'it', 'no', 'not', 'of', 'on', 'or', 's', 'such', 't', 'that', 'the', 'their', 'then', 'there', 'these', 'they', 'this', 'to', 'was', 'will', 'with']\n",
    "print \"삭제를위한 불용어는 :  \",stopword\n",
    "print\n",
    "source3 = \" \".join(wordCount)#wordCount리스트를 다시 source3에 ' '로 연결한 문자열로 저장\n",
    "for a in stopword: # 14-1 for문을이용하여 불용어 각각 찾아서 공백으로 대체. 즉, 불용어를 삭제시킨다.\n",
    "    source3 =source3.replace(a, '')\n",
    "wordCount=source2.split()\n",
    "\n",
    "\n",
    "num=[]\n",
    "for x in range(len(wordCount)):\n",
    "    num.append(source2.count(wordCount[x])) #wordCount리스트의 원소 각각 빈도수를 source2에서 센다.\n",
    "dic= dict(zip(wordCount, num))#zip으로 2개의 리스트를 투플로만든후 dict으로 사전으로 바꿔준다.\n",
    "\n",
    "print '{',\n",
    "for key in (dic.keys()):\n",
    "    print '\\'' + key + ':',\n",
    "    print str(dic[key]) + '\\'' + ',', #키에 대한 values를 넣어준다. 주의할 점은 다른 건 문자이고 dic[key]는 정수형이기 때문에 \n",
    "                                       #두 개의 서로 다른 타입에서는 +를 할 수 없기 때문에 dic[key]를 문자열로 바꿔준다.\n",
    "print '}'\n",
    "\n",
    "f = open('www.kaist.ac.kr.words.frequency', 'w')\n",
    "pickle.dump(dic, f) # 14-3 단어의 출현빈도가 담긴 사전 객체를 위 HTML 소스 파일과 동일한 폴더에 파일로 저장(pickle 모듈을 활용)\n",
    "f.close()\n",
    "\n",
    "f = open('www.kaist.ac.kr.words.frequency')# 14-4 words.frequency 파일들을 객체로 다시 로드\n",
    "t=pickle.load(f)\n",
    "\n",
    "\n",
    "sorted_dic = sorted(t.iteritems(), key=operator.itemgetter(1))#14-5 정렬하여 가장 많이 출현한 단어 3개를 뽑아 제시\n",
    "diclen=len(sorted_dic)\n",
    "print\n",
    "print\n",
    "\n",
    "print \"가장 많은 빈도를 나타내는 문자는 : \",\n",
    "for i in range(diclen-3,diclen):\n",
    "    print sorted_dic[i],\n",
    "    "
   ]
  },
  {
   "cell_type": "code",
   "execution_count": 16,
   "metadata": {
    "collapsed": false,
    "scrolled": true
   },
   "outputs": [
    {
     "name": "stdout",
     "output_type": "stream",
     "text": [
      "\n",
      "단어의갯수는 :  1794\n",
      "punctuation :  !\"#$%&'()*+,-./:;<=>?@[\\]^_`{|}~\n",
      "삭제를위한 불용어는 :   ['a', 'and', 'are', 'as', 'at', 'be', 'but', 'by', 'for', 'if', 'in', 'into', 'is', 'it', 'no', 'not', 'of', 'on', 'or', 's', 'such', 't', 'that', 'the', 'their', 'then', 'there', 'these', 'they', 'this', 'to', 'was', 'will', 'with']\n",
      "\n",
      "{ 'falseisOperafunctionreturn: 1', 'ChuSeok: 4', 'Winter: 2', 'FlagㆍSymbol: 2', 'LiferayMenuvar: 2', 'LiferayPortletlist58MiniWwwBbsWARbbsportletINSTANCE1001MiniWwwBbsWARbbsportletINSTANCE1002MiniWwwBbsWARbbsportletINSTANCE1003MiniWwwBbsWARbbsportletINSTANCE1004CommonFooterViewWARcommunityportletLanguageBarWARcommunityportlet: 1', 'cooperative: 2', 'Certificates: 2', 'Today: 2', 'Foundation: 2', 'CHINESE: 2', 'Inspires: 2', 'to: 37', 'program: 2', 'th: 104', 'Day: 10', 'activities: 2', 'wwwdankookackrengthemeimagesgetPathThemeRootfunctionreturnengthemegetPlidfunctionreturn162818getPortalURLfunctionreturnhttp: 1', 'Countries: 2', 'Industry: 2', 'LiferayUtiladdInputFocus: 2', 'LanguageBarWARcommunityportletchangeLanguagecvar: 2', 'Bachelors: 2', 'falsegetBCP47LanguageIdfunctionreturnenUSgetCDNBaseURLfunctionreturnhttp: 1', 'fall: 2', 'Research: 10', 'LAN: 2', 'Global: 14', 'Yulgok: 2', 'Course: 10', 'Elearning: 6', 'Partner: 2', 'falsePropsValuesNTLMAUTHENABLEDfalsevar: 1', 'Mottos: 2', 'Brief: 2', 'Long: 4', 'Sponsorship: 2', 'General: 6', 'Uzbekistan: 2', 'Korea: 34', 'anniversary: 2', 'Heat: 4', 'international: 13', 'Former: 4', 'Plants: 2', 'Economics: 2', 'Equality: 2', 'Events: 2', 'English: 6', 'along: 2', 'aparseIntthiswidthifa980145dockbarhideelse145dockbarshow: 3', 'Business: 2', 'ahead: 2', 'falseisRtffunctionreturn: 1', 'Tuesday: 2', 'falseisStatePopUpfunctionreturn: 1', 'Kimchi: 2', 'Technology: 4', 'Architecture: 2', 'Visiting: 4', 'Support: 4', 'Languages: 2', 'semester: 2', 'PORTAL: 2', '▶Jukjeon: 2', 'from: 6', 'takes: 2', 'Academics: 2', 'Gyeonggido: 2', 'Stay: 4', 'Visa: 2', 'University’s: 2', 'Dentistry: 2', 'DANKOOK: 2', 'Land: 4', '70th: 2', 'Services: 4', '94: 2', 'Procedure: 2', '1622: 2', 'rights: 2', 'Library: 6', 'dkuevent: 2', 'Video: 2', 'reserved: 2', 'Media: 4', 'Training: 2', 'Liberation: 2', 'Policy: 2', 'Gallary: 2', 'Admissions: 2', 'Fall: 4', 'A: 136', 'Division: 2', 'Foreign: 2', 'Roman: 4', 'falseisWebKitfunctionreturn: 1', 'ties: 8', 'Model: 4', 'falseisLinuxfunctionreturn: 1', 'a: 1132', 'All: 2', 'footer: 2', 'Community: 2', 'volunteers: 2', 'DKU: 33', 'slidesection: 4', 'Selected: 2', 'falseisWmlfunctionreturn: 1', 'held: 6', 'through: 6', 'Organization: 8', 'EVENTS: 2', 'wwwdankookackrgetPortletSetupShowBordersDefaultfunctionreturn: 1', '1: 130', 'Full: 2', 'March: 4', 'ProArialsansserif: 4', 'chosen: 2', 'Philosophy: 2', '2015: 10', 'World: 4', 'Volunteer: 2', 'Challenge: 2', 'school: 2', 'Youth: 4', 'Steps: 2', 'iPhone: 2', 'Social: 2', 'documentreadyfunctionvar: 1', 'Specialized: 4', 'Summer: 24', 'Skip: 6', 'university: 2', 'IPP: 2', 'subvisualwrap: 2', 'out: 24', 'bccalocationhrefb: 2', 'falseDataNAVSELECTORnavigationisCustomizationViewfunctionreturn: 1', 'Statistics: 2', 'Copyrightc: 2', 'Museum: 2', 'LiferayBrowseracceptsGzipfunctionreturn: 1', 'Mongolia: 2', 'Sports: 2', 'Exhibition: 4', 'falseisGeckofunctionreturn: 1', 'falseisSafarifunctionreturn: 1', 'falseisFirefoxfunctionreturn: 1', 'More: 4', 'container: 16', 'Practice: 2', '단국대학교: 2', '16890: 2', 'Receive: 2', 'University: 16', 'falseisWapfunctionreturn: 1', 'falsenoticesnullThemeDisplaygetLayoutIdfunctionreturn1getLayoutURLfunctionreturnhttp: 1', 'Studies: 2', 'Point: 2', 'September: 2', 'National: 6', 'Sign: 3', 'festival: 2', 'place: 2', 'Select: 4', 'Ceremony: 6', 'Toegye: 2', 'Humanities: 2', 'ISS: 10', 'Administration: 2', 'slideinfo: 2', 'Oriented: 2', 'c1c980145dockbarhideelse145dockbarshowwindowresizefunctionvar: 1', 'Program: 16', 'Medicine: 2', 'awebinternationalvar: 2', 'village’: 2', 'little: 2', 'service: 2', 'aparseIntthiswidthifa980145dockbarhideelse145dockbarshowwindowresizefunctionvar: 1', 'relations: 2', 'Festival: 6', '2: 202', '650: 4', 'KOREAN: 2', 'Search: 10', 'progr: 4', 'Standardization: 2', 'serve: 4', 'took: 6', 'part: 4', 'Thankgsgiving: 2', 'than: 8', 'History: 2', '15: 19', 'Orientation: 2', 'culture: 2', 'falseisMacfunctionreturn: 1', 'wwwdankookackrenwebinternationalhomegetParentLayoutIdfunctionreturn0isPrivateLayoutfunctionreturnfalseisVirtualLayoutfunctionreturn: 1', 'falseisStateExclusivefunctionreturn: 1', 'and: 22', 'Affairs: 2', '■: 2', 'close: 2', 'Development: 2', 'Founding: 2', 'Language: 24', 'UNIVERSITY: 2', 'Graduates: 2', 'importantfontstyle: 4', 'which: 2', 'Science: 12', 'Subsidiary: 4', 'Spirit: 2', '中文: 2', 'towards: 2', 'led: 2', 'english: 2', '290: 2', 'Experience: 2', 'The: 14', 'model: 2', 'Lands: 2', 'Hotter: 4', 'ki: 12', 'Creation: 2', 'Chronology: 2', 'Institutes: 4', 'falsegetScopeGroupIdfunctionreturn162814getScopeGroupIdOrLiveGroupIdfunctionreturn162814getSessionIdfunctionreturngetSiteGroupIdfunctionreturn162814getURLControlPanelfunctionreturnengroupcontrolpanelrefererPlid162818getURLHomefunctionreturnhttpx3ax2fx2fwwwx2edankookx2eacx2ekrx2fwebx2fguestgetUserIdfunctionreturn10162getUserNamefunctionreturnisAddSessionIdToURLfunctionreturn: 1', '31116: 2', 'Graduate: 14', 'Public: 2', 'based: 2', 'Internship: 4', 'Cultural: 10', 'ISSInternational: 2', 'Convergence: 2', 'Organizations: 2', 'Masters: 2', 'get: 41', 'Thanksgiving: 6', 'X: 13', 'Institutions: 2', 'countries: 4', 'Overview: 6', '16: 23', 'Facilities: 2', 'Clinic: 2', 'Education: 10', 'c1cblengthcnew: 1', 'column2: 2', 'Completion: 2', 'Taekwondo: 2', 'Educational: 4', 'Hospital: 2', 'portletnavigation: 4', 'Dormitory: 4', 'Source: 4', '–: 2', 'falseisSunfunctionreturn: 1', 'Founders: 2', 'Natural: 2', 'Android: 2', 'PR: 2', 'BY: 2', '3: 107', 'Members: 2', 'enjoys: 2', 'GKS: 2', 'Central: 2', 'Sans: 4', 'Study: 2', 'Eurasia: 2', 'Dance: 2', 'region: 2', 'Exchange: 4', 'foreign: 4', 'Leads: 2', 'Taught: 4', 'Design: 2', 'falseisMobilefunctionreturn: 1', 'Counseling: 6', 'Undergraduate: 8', 'Campus: 16', 'bridge: 2', 'header: 2', 'Music: 2', 'Board: 4', 'Online: 4', 'Temple: 4', 'IoTInter: 2', 'Degree: 4', 'Immersion: 4', 'falseisMozillafunctionreturn: 1', 'Portal: 3', 'Groups: 2', 'Schools: 4', 'dur: 4', 'Identity: 2', 'Goals: 2', 'Georgia: 4', 'Center: 8', '0getRevisionfunctionreturngetVersionfunctionreturnisAirfunctionreturn: 1', 'Graduation: 4', 'Academic: 6', 'Sujigu: 2', 'LiferayNoticebc: 1', 'Professional: 2', 'LiferayPortletonLoadcanEditTitlefalsecolumnPos0isStaticendnamespacedIdppidMiniWwwBbsWARbbsportletINSTANCE1001portletIdMiniWwwBbsWARbbsportletINSTANCE1001refreshURLx2fenx2fcx2fportalx2frenderportletx3fplidx3d162818x26ppidx3dMiniWwwBbsWARbbsportletINSTANCE1001x26pplifecyclex3d0x26ptlifecyclex3d0x26ppstatex3dnormalx26ppmodex3dviewx26ppcolidx3dnullx26ppcolposx3dnullx26ppcolcountx3dnullx26ppstaticx3d1x26ppisolatedx3d1x26currentURLx3dx252Fenx252Fwebx252FinternationalLiferayPortletonLoadcanEditTitlefalsecolumnPos0isStaticendnamespacedIdppidLanguageBarWARcommunityportletportletIdLanguageBarWARcommunityportletrefreshURLx2fenx2fcx2fportalx2frenderportletx3fplidx3d162818x26ppidx3dLanguageBarWARcommunityportletx26pplifecyclex3d0x26ptlifecyclex3d0x26ppstatex3dnormalx26ppmodex3dviewx26ppcolidx3dnullx26ppcolposx3dnullx26ppcolcountx3dnullx26ppstaticx3d1x26ppisolatedx3d1x26currentURLx3dx252Fenx252Fwebx252FinternationalLiferayPortletonLoadcanEditTitlefalsecolumnPos0isStaticendnamespacedIdppidMiniWwwBbsWARbbsportletINSTANCE1002portletIdMiniWwwBbsWARbbsportletINSTANCE1002refreshURLx2fenx2fcx2fportalx2frenderportletx3fplidx3d162818x26ppidx3dMiniWwwBbsWARbbsportletINSTANCE1002x26pplifecyclex3d0x26ptlifecyclex3d0x26ppstatex3dnormalx26ppmodex3dviewx26ppcolidx3dnullx26ppcolposx3dnullx26ppcolcountx3dnullx26ppstaticx3d1x26ppisolatedx3d1x26currentURLx3dx252Fenx252Fwebx252FinternationalAUIuseauibaseliferaymenuliferaynoticeliferaypollerfunctionafunctionLiferayUtiladdInputTypeLiferayPortletreadyfunctionbcLiferayUtiladdInputTypecifaUAmobileLiferayUtiladdInputCancelfunctionnew: 2', 'Presidents: 2', 'News·Notice: 2', 'will: 2', 'College: 46', 'Wearable: 2', 'Jukjeon: 20', 'Menu: 6', 'GNB: 2', 'in: 143', 'technology: 2', 'Symbols: 2', 'Around: 2', 'bodybodymain: 2', 'Chart: 4', 'Commemorating: 2', 'President: 6', 'Dankook: 24', 'Seokjuseon: 2', 'About: 12', 'falseisIphonefunctionreturn: 1', 'Resource: 3', 'Institute: 6', 'Residence: 2', 'Traditional: 2', 'PhDs: 2', 'student: 12', 'Activity: 10', 'center: 2', 'Employment: 2', 'In: 73', 'Chungnam: 2', 'the: 60', 'Living: 2', 'Memorial: 6', 'Service: 6', 'Cambodia: 2', 'wearable: 2', 'Happy: 2', '2323: 2', 'hrefFmdisplaynone: 1', 'location: 4', 'has: 2', 'Admission: 10', 'smart: 2', 'march: 2', 'Programs: 2', 'Overseas: 2', 'Sciences: 2', 'Cheonansi: 2', '8218993700: 4', 'Campus◀: 2', 'Health: 2', 'Management: 2', 'falseisSignedInfunctionreturn: 1', 'falseisWindowsfunctionreturn: 1', 'Pharmacy: 2', 'Application: 6', 'Cheonan: 18', 'International: 39', '119: 2', 'Life: 34', 'for: 33', 'Government: 2', 'Infra: 2', 'Dankook’s: 4', 'Smart: 2', 'falseisWapXhtmlfunctionreturn: 1', 'School: 30', 'Yonginsi: 2', 'Mediation: 2', 'Times: 4', 'Seeds: 2', 'by: 2', 'First: 2', 'on: 360', 'morefontfamily: 4', 'Patriotism: 2', 'carried: 2', 'truegetComboPathfunctionreturncombobrowserIdotherminifierTypelanguageIdenUSb6201t1438233025886getFilterfunctionreturnmingetJavaScriptRootPathfunctionreturnhtmljsgetLangPathfunctionreturnauilangjspbrowserIdotherthemeIdengWARengthemecolorSchemeId01minifierTypejslanguageIdenUSb6201t1438233025886LiferayauthTokenqyfvYDUDLiferaycurrentURLx2fenx2fwebx2finternationalLiferaycurrentURLEncoded2Fen2Fweb2Finternational: 1', 'of: 69', 'Ceramic: 2', 'ASEAN: 2', 'o: 1247', 'falseisImpersonatedfunctionreturn: 1', 'Students: 6', 'Message: 2', 'Jukjeonro: 2', 'Best: 4', 'software: 2', '전체메뉴: 2', 'SERVICE: 2', 'Memories: 4', 'Arts: 6', 'titfontfamily: 2', 'fontfamilySource: 2', 'Provides: 4', 'Making: 2', 'Chairmen: 2', 'Korean: 26', 'long: 4', 'bLiferayDatanoticesforvar: 2', 'italic: 4', 'var: 13', 'CLOSE: 12', 'was: 6', 'falseisIefunctionreturn: 1', 'function: 82', 'falseisStateMaximizedfunctionreturn: 1', 'forming: 2', 'themeDisplayLiferayThemeDisplayLiferayAUIgetAvailableLangPathfunctionreturnavailablelanguagesjspbrowserIdotherthemeIdengWARengthemecolorSchemeId01minifierTypejslanguageIdenUSb6201t1438233025886getCombinefunctionreturn: 1', 'serif: 8', 'with: 2', 'Guide: 8', 'info: 6', 'Tel: 4', 'Office: 4', 'falseisFreeformLayoutfunctionreturn: 1', 'mainbody: 2', 'Engineering: 4', 'section3: 2', '150: 4', '607: 2', '152: 2', 'wwwdankookackrgetCDNDynamicResourcesHostfunctionreturngetCDNHostfunctionreturngetCompanyIdfunctionreturn10158getCompanyGroupIdfunctionreturn10198getDefaultLanguageIdfunctionreturnenUSgetDoAsUserIdEncodedfunctionreturngetLanguageIdfunctionreturnenUSgetParentGroupIdfunctionreturn162814getPathContextfunctionreturngetPathImagefunctionreturnimagegetPathJavaScriptfunctionreturnhtmljsgetPathMainfunctionreturnencgetPathThemeImagesfunctionreturnhttp: 1', 'Laos: 2', 'How: 2', 'as: 25', 'at: 196', 'New: 6', 'NEWS: 4', 'dkunewswrap: 2', 'constructed: 2', 'Map: 4', 'Turning: 2', 'falseisChromefunctionreturn: 1', 'Wireless: 2', 'Dongnamgu: 2', 'boom: 2', 'Student: 22', 'Law: 2', 'students: 10', 'Gender: 2', 'subtitarea: 2', 'ContentSkip: 2', 'important: 6', 'falsegetMajorVersionfunctionreturn: 1', 'OnCampus: 2', 'Dandaero: 2', 'Corps: 2', 'Courses: 8', '‘global: 2', 'Dual: 2', 'Village: 4', }\n",
      "\n",
      "\n",
      "가장 많은 빈도를 나타내는 문자는 :  (u'on', 360) (u'a', 1132) (u'o', 1247)\n"
     ]
    }
   ],
   "source": [
    "#14번 사이트4\n",
    "# -*- coding: utf-8 -*-\n",
    "import urllib2\n",
    "import string\n",
    "import pickle\n",
    "import operator\n",
    "\n",
    "source = urllib2.urlopen(\"http://www.dankook.ac.kr/en/web/international\").read()\n",
    "f = open(\"www.dankook.ac.kr.html \", 'w')\n",
    "f.write(source) # 14-2 html소스를 파일로 저장\n",
    "f.close()\n",
    "\n",
    "\n",
    "#print source # 추후 숙제 답안 제출 때엔 왼쪽 라인은 주석처리할 것\n",
    "from bs4 import BeautifulSoup\n",
    "print\n",
    "soup = BeautifulSoup(source)#buetifulsoup라이브러리를 이용하여 html태그제거\n",
    "pureWords = soup.text.replace(\"\\n\",\" \").replace(\"\\t\",\" \").replace(\"//\",\" \")\n",
    "#엔터와 탭을 보기편하게 공백으로 replace한다. 또한 //도 공백으로 replace한다.\n",
    "count=pureWords.count('<')#count를 주기위해 <의 개수를 샌다.\n",
    "for i in range(count):#<나온만큼 count를 돌려서 pureWords문자열에서 남은 <를 제거한다.\n",
    "    a=pureWords.find('<')   \n",
    "    b=pureWords.find('>')\n",
    "    pureWords=pureWords[0:a]+pureWords[b+1:] #[a:b]제외하고 남은것을 제거하여 s에저장\n",
    "\n",
    "#print pureWords\n",
    "wordCount = pureWords.split()#문자열을 공백을기준으로 추출한 단어를 list로 저장\n",
    "print \"단어의갯수는 : \", len(wordCount)#list에 저장된 갯수를센다\n",
    "########################################################################################지난과제에이어서추가\n",
    "print \"punctuation : \",string.punctuation\n",
    "punc= string.punctuation\n",
    "\n",
    "source2 = \" \".join(wordCount)#wordCount리스트를 다시 source2에 ' '로 연결한 문자열로 저장\n",
    "for a in punc: # for문을이용하여 puctuation을 각각 찾아서 공백으로 대체. 즉, puctuation을 삭제시킨다.\n",
    "    source2 =source2.replace(a, '')\n",
    "wordCount=source2.split()\n",
    "\n",
    "stopword= [ 'a', 'and', 'are', 'as', 'at', 'be', 'but', 'by', 'for', 'if', 'in', 'into', 'is', 'it', 'no', 'not', 'of', 'on', 'or', 's', 'such', 't', 'that', 'the', 'their', 'then', 'there', 'these', 'they', 'this', 'to', 'was', 'will', 'with']\n",
    "print \"삭제를위한 불용어는 :  \",stopword\n",
    "print\n",
    "source3 = \" \".join(wordCount)#wordCount리스트를 다시 source3에 ' '로 연결한 문자열로 저장\n",
    "for a in stopword: # 14-1 for문을이용하여 불용어 각각 찾아서 공백으로 대체. 즉, 불용어를 삭제시킨다.\n",
    "    source3 =source3.replace(a, '')\n",
    "wordCount=source2.split()\n",
    "\n",
    "\n",
    "num=[]\n",
    "for x in range(len(wordCount)):\n",
    "    num.append(source2.count(wordCount[x])) #wordCount리스트의 원소 각각 빈도수를 source2에서 센다.\n",
    "dic= dict(zip(wordCount, num))#zip으로 2개의 리스트를 투플로만든후 dict으로 사전으로 바꿔준다.\n",
    "\n",
    "print '{',\n",
    "for key in (dic.keys()):\n",
    "    print '\\'' + key + ':',\n",
    "    print str(dic[key]) + '\\'' + ',', #키에 대한 values를 넣어준다. 주의할 점은 다른 건 문자이고 dic[key]는 정수형이기 때문에 \n",
    "                                       #두 개의 서로 다른 타입에서는 +를 할 수 없기 때문에 dic[key]를 문자열로 바꿔준다.\n",
    "print '}'\n",
    "\n",
    "f = open('www.dankook.ac.kr.words.frequency', 'w')\n",
    "pickle.dump(dic, f) # 14-3 단어의 출현빈도가 담긴 사전 객체를 위 HTML 소스 파일과 동일한 폴더에 파일로 저장(pickle 모듈을 활용)\n",
    "f.close()\n",
    "\n",
    "f = open('www.dankook.ac.kr.words.frequency')# 14-4 words.frequency 파일들을 객체로 다시 로드\n",
    "t=pickle.load(f)\n",
    "\n",
    "\n",
    "sorted_dic = sorted(t.iteritems(), key=operator.itemgetter(1))#14-5 정렬하여 가장 많이 출현한 단어 3개를 뽑아 제시\n",
    "diclen=len(sorted_dic)\n",
    "print\n",
    "print\n",
    "\n",
    "print \"가장 많은 빈도를 나타내는 문자는 : \",\n",
    "for i in range(diclen-3,diclen):\n",
    "    print sorted_dic[i],\n",
    "    "
   ]
  },
  {
   "cell_type": "code",
   "execution_count": 17,
   "metadata": {
    "collapsed": false,
    "scrolled": true
   },
   "outputs": [
    {
     "name": "stdout",
     "output_type": "stream",
     "text": [
      "\n",
      "단어의갯수는 :  203\n",
      "punctuation :  !\"#$%&'()*+,-./:;<=>?@[\\]^_`{|}~\n",
      "삭제를위한 불용어는 :   ['a', 'and', 'are', 'as', 'at', 'be', 'but', 'by', 'for', 'if', 'in', 'into', 'is', 'it', 'no', 'not', 'of', 'on', 'or', 's', 'such', 't', 'that', 'the', 'their', 'then', 'there', 'these', 'they', 'this', 'to', 'was', 'will', 'with']\n",
      "\n",
      "{ 'watchmakers: 1', 'wrapperNewsTickerWidth: 3', '495: 1', 'liaddClassfirst: 2', 'documentreadyfunction: 1', '0: 18', 'offsetLeft: 1', '400: 2', 'Brands: 1', 'News: 7', 'uaversionslice01: 2', 'resources: 1', 'furtherEntrieshide: 1', 'cookiesDirectiveScriptWrapper: 1', 'uacct: 1', 'watch: 10', 'newsticker: 1', 'd: 42', 'f: 35', 't: 133', 'urlextensionswatchgroupdesignswatchgroupstylesheetsswatchgroupprintcss: 1', 'firstEntry: 5', 'stepUpnewsTickerWidth5: 1', 'uamsie: 3', 'documentdocumentMode: 2', '–: 1', 'LandingPageNavigationmouseleavefunction: 1', 'linewslength: 1', 'Press: 1', 'stepUp: 5', 'offsetTop: 1', 'import: 1', '简体中文: 1', 'liremoveClassfirstActive: 1', 'step: 12', 'Contact: 1', 'Ltd: 1', 'by: 1', 'liremoveClassfirst: 2', 'newsTickerWidth: 4', 'page: 1', 'Human: 1', 'ulnewsTicker: 2', 'navigation: 1', 'Group: 4', 'Copyright: 1', 'picturegallery: 3', 'Relations: 1', 'UA34858781urchinTracker: 1', 'newsTickercsswidthnewsTickerWidthleftstepDownpx: 1', '©: 1', 'newsTickercsswidthnewsTickerWidthleftwrapperNewsTickerWidthpx: 1', 'Mathceil767wrapperNewsTickerWidth102: 1', 'var: 5', '340: 1', 'function: 5', 'head: 2', 'startNewsTicker: 2', 'Companies: 1', 'totalNews: 1', 'else: 4', '2015: 1', '8: 6', 'cdScriptAppendhttp: 1', 'ulnewsTickerchildren: 1', 'Latest: 1', '10: 2', '15: 2', 'stepDown: 6', 'fori0: 1', 'us: 3', 'uaversionslice02: 1', 'ua: 8', 'browser: 1', 'and: 3', 'ntoffsettop: 2', 'site: 1', 'movements: 1', 'Profile: 1', 'liaddClassfirstActive: 1', 'ifstepUp: 1', '1: 9', 'tsetTimeoutscrollText17: 1', '9: 2', 'Swatch: 3', 'if: 5', 'Investor: 1', 'Room: 1', 'i0: 2', 'cdScriptAppendextensionswatchgroupdesignswatchgroupjavascriptsinitgoogleanalysticsjs: 1', '繁体中文: 1', 'wwwgoogleanalyticscomurchinjs: 1', 'Enter: 1', 'Swiss: 2', 'The: 1', 'pyc: 1', 'imgattrwidth233: 3', 'e: 148', 'i: 112', 'furtherEntriesshow: 1', 'newsTickerChilds: 1', 'ntwidth: 2', 'firstEntrymouseoverfunction: 1', 'mechanical: 1', 'the: 3', }\n",
      "\n",
      "\n",
      "가장 많은 빈도를 나타내는 문자는 :  (u'i', 112) (u't', 133) (u'e', 148)\n"
     ]
    }
   ],
   "source": [
    "#14번 사이트5\n",
    "# -*- coding: utf-8 -*-\n",
    "import urllib2\n",
    "import string\n",
    "import pickle\n",
    "import operator\n",
    "\n",
    "source = urllib2.urlopen(\"http://www.swatchgroup.com/intro_en\").read()\n",
    "f = open(\"www.swatchgroup.com.html \", 'w')\n",
    "f.write(source) # 14-2 html소스를 파일로 저장\n",
    "f.close()\n",
    "\n",
    "\n",
    "#print source # 추후 숙제 답안 제출 때엔 왼쪽 라인은 주석처리할 것\n",
    "from bs4 import BeautifulSoup\n",
    "print\n",
    "soup = BeautifulSoup(source)#buetifulsoup라이브러리를 이용하여 html태그제거\n",
    "pureWords = soup.text.replace(\"\\n\",\" \").replace(\"\\t\",\" \").replace(\"//\",\" \")\n",
    "#엔터와 탭을 보기편하게 공백으로 replace한다. 또한 //도 공백으로 replace한다.\n",
    "count=pureWords.count('<')#count를 주기위해 <의 개수를 샌다.\n",
    "for i in range(count):#<나온만큼 count를 돌려서 pureWords문자열에서 남은 <를 제거한다.\n",
    "    a=pureWords.find('<')   \n",
    "    b=pureWords.find('>')\n",
    "    pureWords=pureWords[0:a]+pureWords[b+1:] #[a:b]제외하고 남은것을 제거하여 s에저장\n",
    "\n",
    "#print pureWords\n",
    "wordCount = pureWords.split()#문자열을 공백을기준으로 추출한 단어를 list로 저장\n",
    "print \"단어의갯수는 : \", len(wordCount)#list에 저장된 갯수를센다\n",
    "########################################################################################지난과제에이어서추가\n",
    "print \"punctuation : \",string.punctuation\n",
    "punc= string.punctuation\n",
    "\n",
    "source2 = \" \".join(wordCount)#wordCount리스트를 다시 source2에 ' '로 연결한 문자열로 저장\n",
    "for a in punc: # for문을이용하여 puctuation을 각각 찾아서 공백으로 대체. 즉, puctuation을 삭제시킨다.\n",
    "    source2 =source2.replace(a, '')\n",
    "wordCount=source2.split()\n",
    "\n",
    "stopword= [ 'a', 'and', 'are', 'as', 'at', 'be', 'but', 'by', 'for', 'if', 'in', 'into', 'is', 'it', 'no', 'not', 'of', 'on', 'or', 's', 'such', 't', 'that', 'the', 'their', 'then', 'there', 'these', 'they', 'this', 'to', 'was', 'will', 'with']\n",
    "print \"삭제를위한 불용어는 :  \",stopword\n",
    "print\n",
    "source3 = \" \".join(wordCount)#wordCount리스트를 다시 source3에 ' '로 연결한 문자열로 저장\n",
    "for a in stopword: # 14-1 for문을이용하여 불용어 각각 찾아서 공백으로 대체. 즉, 불용어를 삭제시킨다.\n",
    "    source3 =source3.replace(a, '')\n",
    "wordCount=source2.split()\n",
    "\n",
    "\n",
    "num=[]\n",
    "for x in range(len(wordCount)):\n",
    "    num.append(source2.count(wordCount[x])) #wordCount리스트의 원소 각각 빈도수를 source2에서 센다.\n",
    "dic= dict(zip(wordCount, num))#zip으로 2개의 리스트를 투플로만든후 dict으로 사전으로 바꿔준다.\n",
    "\n",
    "print '{',\n",
    "for key in (dic.keys()):\n",
    "    print '\\'' + key + ':',\n",
    "    print str(dic[key]) + '\\'' + ',', #키에 대한 values를 넣어준다. 주의할 점은 다른 건 문자이고 dic[key]는 정수형이기 때문에 \n",
    "                                       #두 개의 서로 다른 타입에서는 +를 할 수 없기 때문에 dic[key]를 문자열로 바꿔준다.\n",
    "print '}'\n",
    "\n",
    "f = open('www.swatchgroup.com.words.frequency', 'w')\n",
    "pickle.dump(dic, f) # 14-3 단어의 출현빈도가 담긴 사전 객체를 위 HTML 소스 파일과 동일한 폴더에 파일로 저장(pickle 모듈을 활용)\n",
    "f.close()\n",
    "\n",
    "f = open('www.swatchgroup.com.words.frequency')# 14-4 words.frequency 파일들을 객체로 다시 로드\n",
    "t=pickle.load(f)\n",
    "\n",
    "\n",
    "sorted_dic = sorted(t.iteritems(), key=operator.itemgetter(1))#14-5 정렬하여 가장 많이 출현한 단어 3개를 뽑아 제시\n",
    "diclen=len(sorted_dic)\n",
    "print\n",
    "print\n",
    "\n",
    "print \"가장 많은 빈도를 나타내는 문자는 : \",\n",
    "for i in range(diclen-3,diclen):\n",
    "    print sorted_dic[i],\n",
    "    "
   ]
  },
  {
   "cell_type": "code",
   "execution_count": 37,
   "metadata": {
    "collapsed": false
   },
   "outputs": [
    {
     "name": "stdout",
     "output_type": "stream",
     "text": [
      "\n",
      "\n",
      "가장 많은 빈도를 나타내는 문자는 :  (u'n', 613) (u'o', 1247) (u'g', 2609)\n"
     ]
    }
   ],
   "source": [
    "#5사이트 전부중에 가장많은 빈도 나타내는 문자\n",
    "# -*- coding: utf-8 -*-\n",
    "import pickle\n",
    "import operator\n",
    "\n",
    "f = open('www.koreatech.ac.kr.words.frequency')# 14-4 words.frequency 파일들을 객체로 다시 로드\n",
    "t2=pickle.load(f)\n",
    "f.close()\n",
    "\n",
    "f = open('www.dankook.ac.kr.words.frequency')# 14-4 words.frequency 파일들을 객체로 다시 로드\n",
    "t=pickle.load(f)\n",
    "t2.update(t)\n",
    "f.close()\n",
    "\n",
    "f = open('www.kaist.ac.kr.words.frequency')# 14-4 words.frequency 파일들을 객체로 다시 로드\n",
    "t=pickle.load(f)\n",
    "t2.update(t)\n",
    "f.close()\n",
    "\n",
    "f = open('www.google.com.words.frequency')# 14-4 words.frequency 파일들을 객체로 다시 로드\n",
    "t=pickle.load(f)\n",
    "t2.update(t)\n",
    "f.close()\n",
    "\n",
    "\n",
    "f = open('www.swatchgroup.com.words.frequency')# 14-4 words.frequency 파일들을 객체로 다시 로드\n",
    "t=pickle.load(f)\n",
    "t2.update(t)\n",
    "f.close()\n",
    "\n",
    "sorted_dic = sorted(t2.iteritems(), key=operator.itemgetter(1))#14-5 정렬하여 가장 많이 출현한 단어 3개를 뽑아 제시\n",
    "diclen=len(sorted_dic)\n",
    "print\n",
    "print\n",
    "\n",
    "print \"가장 많은 빈도를 나타내는 문자는 : \",\n",
    "for i in range(diclen-3,diclen):\n",
    "    print sorted_dic[i],\n",
    "    "
   ]
  },
  {
   "cell_type": "code",
   "execution_count": 27,
   "metadata": {
    "collapsed": true
   },
   "outputs": [],
   "source": [
    "#이번과제는 중간고사전과 다르게 헷갈린 부분이많아서 다시 차근차근 찾아보며 과제를 해결해야 했습니다.\n",
    "#파이썬이 처음에는 단순한지만 알았는데, 생각보다 복잡하여 공부의 필요성을 느꼈습니다.\n",
    "#특히 마지막문제는 불용어를 제거하였는데 단어들이 유니코드로 저장되있는것은 제거가 안됨을 알았습니다."
   ]
  }
 ],
 "metadata": {
  "kernelspec": {
   "display_name": "Python 2",
   "language": "python",
   "name": "python2"
  },
  "language_info": {
   "codemirror_mode": {
    "name": "ipython",
    "version": 2
   },
   "file_extension": ".py",
   "mimetype": "text/x-python",
   "name": "python",
   "nbconvert_exporter": "python",
   "pygments_lexer": "ipython2",
   "version": "2.7.9"
  }
 },
 "nbformat": 4,
 "nbformat_minor": 0
}

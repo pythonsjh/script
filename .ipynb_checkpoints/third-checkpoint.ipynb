{
 "cells": [
  {
   "cell_type": "code",
   "execution_count": 10,
   "metadata": {
    "collapsed": false
   },
   "outputs": [
    {
     "name": "stdout",
     "output_type": "stream",
     "text": [
      "[1, 100, 4, 5]\n"
     ]
    }
   ],
   "source": [
    "#1번\n",
    "L=[1, 2, 3, 4, 5]\n",
    "L[1:3] = [100]\n",
    "print L\n",
    "#1) 리스트 슬라이스 치환 통해 인덱스1부터2까지[2,3]부분이 100으로 변환."
   ]
  },
  {
   "cell_type": "code",
   "execution_count": 11,
   "metadata": {
    "collapsed": false
   },
   "outputs": [
    {
     "name": "stdout",
     "output_type": "stream",
     "text": [
      "[1, 100, 4, 5]\n"
     ]
    }
   ],
   "source": [
    "# -*- coding: utf-8 -*-\n",
    "L=[1, 2, 3, 4, 5]\n",
    "L[1:3] = [(100)]\n",
    "print L\n",
    "# 2) [(100)]의 type은 리스트형이기 때문에 1)번과 같이 [1, 100, 4, 5]가 출력된다."
   ]
  },
  {
   "cell_type": "code",
   "execution_count": 12,
   "metadata": {
    "collapsed": false,
    "scrolled": true
   },
   "outputs": [
    {
     "ename": "TypeError",
     "evalue": "can only assign an iterable",
     "output_type": "error",
     "traceback": [
      "\u001b[1;31m---------------------------------------------------------------------------\u001b[0m",
      "\u001b[1;31mTypeError\u001b[0m                                 Traceback (most recent call last)",
      "\u001b[1;32m<ipython-input-12-55ec7524192f>\u001b[0m in \u001b[0;36m<module>\u001b[1;34m()\u001b[0m\n\u001b[0;32m      1\u001b[0m \u001b[1;33m\u001b[0m\u001b[0m\n\u001b[0;32m      2\u001b[0m \u001b[0mL\u001b[0m\u001b[1;33m=\u001b[0m\u001b[1;33m[\u001b[0m\u001b[1;36m1\u001b[0m\u001b[1;33m,\u001b[0m \u001b[1;36m2\u001b[0m\u001b[1;33m,\u001b[0m \u001b[1;36m3\u001b[0m\u001b[1;33m,\u001b[0m \u001b[1;36m4\u001b[0m\u001b[1;33m,\u001b[0m \u001b[1;36m5\u001b[0m\u001b[1;33m]\u001b[0m\u001b[1;33m\u001b[0m\u001b[0m\n\u001b[1;32m----> 3\u001b[1;33m \u001b[0mL\u001b[0m\u001b[1;33m[\u001b[0m\u001b[1;36m1\u001b[0m\u001b[1;33m:\u001b[0m\u001b[1;36m3\u001b[0m\u001b[1;33m]\u001b[0m \u001b[1;33m=\u001b[0m \u001b[1;36m100\u001b[0m\u001b[1;33m\u001b[0m\u001b[0m\n\u001b[0m\u001b[0;32m      4\u001b[0m \u001b[1;32mprint\u001b[0m \u001b[0mL\u001b[0m\u001b[1;33m\u001b[0m\u001b[0m\n\u001b[0;32m      5\u001b[0m \u001b[1;31m#3) 100은 리스트가 아니고 정수형이다. 슬라이싱치환에서 크기가다른 정수는 할당불가능하다\u001b[0m\u001b[1;33m\u001b[0m\u001b[1;33m\u001b[0m\u001b[0m\n",
      "\u001b[1;31mTypeError\u001b[0m: can only assign an iterable"
     ]
    }
   ],
   "source": [
    "# -*- coding: utf-8 -*-\n",
    "L=[1, 2, 3, 4, 5]\n",
    "L[1:3] = 100\n",
    "print L\n",
    "#3) 100은 리스트가 아니고 정수형이다. 슬라이싱치환에서 크기가다른 정수는 할당불가능하다\n",
    "#만약 L[1]=100이거나 L[1:3]=100,100 (튜플) 이라면 치환이 가능하다."
   ]
  },
  {
   "cell_type": "code",
   "execution_count": 13,
   "metadata": {
    "collapsed": false
   },
   "outputs": [
    {
     "ename": "TypeError",
     "evalue": "can only assign an iterable",
     "output_type": "error",
     "traceback": [
      "\u001b[1;31m---------------------------------------------------------------------------\u001b[0m",
      "\u001b[1;31mTypeError\u001b[0m                                 Traceback (most recent call last)",
      "\u001b[1;32m<ipython-input-13-a92f5c4997ba>\u001b[0m in \u001b[0;36m<module>\u001b[1;34m()\u001b[0m\n\u001b[0;32m      1\u001b[0m \u001b[1;33m\u001b[0m\u001b[0m\n\u001b[0;32m      2\u001b[0m \u001b[0mL\u001b[0m\u001b[1;33m=\u001b[0m\u001b[1;33m[\u001b[0m\u001b[1;36m1\u001b[0m\u001b[1;33m,\u001b[0m \u001b[1;36m2\u001b[0m\u001b[1;33m,\u001b[0m \u001b[1;36m3\u001b[0m\u001b[1;33m,\u001b[0m \u001b[1;36m4\u001b[0m\u001b[1;33m,\u001b[0m \u001b[1;36m5\u001b[0m\u001b[1;33m]\u001b[0m\u001b[1;33m\u001b[0m\u001b[0m\n\u001b[1;32m----> 3\u001b[1;33m \u001b[0mL\u001b[0m\u001b[1;33m[\u001b[0m\u001b[1;36m1\u001b[0m\u001b[1;33m:\u001b[0m\u001b[1;36m3\u001b[0m\u001b[1;33m]\u001b[0m \u001b[1;33m=\u001b[0m \u001b[1;33m(\u001b[0m\u001b[1;36m100\u001b[0m\u001b[1;33m)\u001b[0m\u001b[1;33m\u001b[0m\u001b[0m\n\u001b[0m\u001b[0;32m      4\u001b[0m \u001b[1;32mprint\u001b[0m \u001b[0mL\u001b[0m\u001b[1;33m\u001b[0m\u001b[0m\n\u001b[0;32m      5\u001b[0m \u001b[1;31m#4) (100)역시 정수형이므로 할당이되지않는다.\u001b[0m\u001b[1;33m\u001b[0m\u001b[1;33m\u001b[0m\u001b[0m\n",
      "\u001b[1;31mTypeError\u001b[0m: can only assign an iterable"
     ]
    }
   ],
   "source": [
    "# -*- coding: utf-8 -*-\n",
    "L=[1, 2, 3, 4, 5]\n",
    "L[1:3] = (100)\n",
    "print L\n",
    "#4) (100)역시 정수형이므로 할당이되지않는다."
   ]
  },
  {
   "cell_type": "code",
   "execution_count": 14,
   "metadata": {
    "collapsed": false
   },
   "outputs": [
    {
     "name": "stdout",
     "output_type": "stream",
     "text": [
      "[1, 100, 101, 102, 4, 5]\n"
     ]
    }
   ],
   "source": [
    "# -*- coding: utf-8 -*-\n",
    "L=[1, 2, 3, 4, 5]\n",
    "L[1:3] = (100, 101, 102)\n",
    "print L\n",
    "#5)튜플은 리스트의 슬라이싱치환이 가능하다"
   ]
  },
  {
   "cell_type": "code",
   "execution_count": 15,
   "metadata": {
    "collapsed": false
   },
   "outputs": [
    {
     "name": "stdout",
     "output_type": "stream",
     "text": [
      "[1, 100, 101, 102, 4, 5]\n"
     ]
    }
   ],
   "source": [
    "\n",
    "L=[1, 2, 3, 4, 5]\n",
    "L[1:3] = [100, 101, 102]\n",
    "print L\n",
    "#6) 리스트는 변경가능하므로 위와같이 길이가 달라도 슬라이칭치환에 문제없다"
   ]
  },
  {
   "cell_type": "code",
   "execution_count": 16,
   "metadata": {
    "collapsed": false
   },
   "outputs": [
    {
     "name": "stdout",
     "output_type": "stream",
     "text": [
      "[1, (100, 101, 102), 4, 5]\n"
     ]
    }
   ],
   "source": [
    "# -*- coding: utf-8 -*-\n",
    "\n",
    "L=[1, 2, 3, 4, 5]\n",
    "L[1:3] = [(100, 101, 102)]\n",
    "print L\n",
    "#7) 리스트내에는 튜플이 원소로 들어갈수 있다."
   ]
  },
  {
   "cell_type": "code",
   "execution_count": 17,
   "metadata": {
    "collapsed": false
   },
   "outputs": [
    {
     "name": "stdout",
     "output_type": "stream",
     "text": [
      "[1, [100, 101, 102], 4, 5]\n"
     ]
    }
   ],
   "source": [
    "# -*- coding: utf-8 -*-\n",
    "\n",
    "L=[1, 2, 3, 4, 5]\n",
    "L[1:3] = [[100, 101, 102]]\n",
    "print L\n",
    "#8) 리스트내에는 리스트가 원소로 들어갈수 있다."
   ]
  },
  {
   "cell_type": "code",
   "execution_count": 18,
   "metadata": {
    "collapsed": false
   },
   "outputs": [
    {
     "name": "stdout",
     "output_type": "stream",
     "text": [
      "Python and World Hello\n",
      "PythonandWorldHello\n"
     ]
    }
   ],
   "source": [
    "#2번\n",
    "# -*- coding: utf-8 -*-\n",
    "S = 'Hello World and Python'\n",
    "S=S[16:]+S[11:16]+S[6:12]+S[:5]  #1) 슬라이칭치환을 통해 역순으로 되어진 문자열을 만든다\n",
    "print S\n",
    "S=S.split()#2)  1의결과 문자열에대해  split을 통해 공백을 기준으로 분리된 리스트를 만든다\n",
    "S=''.join(S)#join을 통해 리스트원소들을 공백으로 연결한 문자열로 반환한다\n",
    "print S"
   ]
  },
  {
   "cell_type": "code",
   "execution_count": 19,
   "metadata": {
    "collapsed": false
   },
   "outputs": [
    {
     "name": "stdout",
     "output_type": "stream",
     "text": [
      "[1, 2, 3, 1, 2, 3, 1, 2, 3]\n",
      "[[1, 2, 3], [1, 2, 3], [1, 2, 3]]\n",
      "\n",
      "[1, 2, 3, 1, 2, 3, 1, 2, 3]\n",
      "[[0, 2, 3], [0, 2, 3], [0, 2, 3]]\n"
     ]
    }
   ],
   "source": [
    "#3번\n",
    "a = [1, 2, 3]\n",
    "b = a * 3   #b는 완전히 새로운 객체가 생긴다\n",
    "c = [a] * 3\n",
    "print b  \n",
    "print c\n",
    "print\n",
    "a[0]=0\n",
    "print b\n",
    "print c\n",
    "#b는 값을가지고 주소가다른 새로운 리스트를 생성하는것이며\n",
    "#c는 a의 주소를 참조하는 리스트를 만든것이다. \n",
    "#그래서 a의값을 바꾸어도 b에게는 변화가없고, c에게는 똑같이 값이 바뀌게된다."
   ]
  },
  {
   "cell_type": "code",
   "execution_count": 22,
   "metadata": {
    "collapsed": false
   },
   "outputs": [
    {
     "name": "stdout",
     "output_type": "stream",
     "text": [
      "['first star', 'second star', 'third star']\n"
     ]
    }
   ],
   "source": [
    "#4-1번\n",
    "s = '  first star   :   second star   :    third star  '\n",
    "s=s.split(':')  #:을 기준으로 분리하여 리스트 생성\n",
    "for a in range(len(s)): \n",
    "        s[a]=s[a].strip()#각 리스트 원소에 strip()을 적용하여 공백제거\n",
    "print s"
   ]
  },
  {
   "cell_type": "code",
   "execution_count": 23,
   "metadata": {
    "collapsed": false
   },
   "outputs": [
    {
     "name": "stdout",
     "output_type": "stream",
     "text": [
      "['first star', 'second star', 'third star']\n"
     ]
    }
   ],
   "source": [
    "#4-2번\n",
    "s = '  first star   :   second star   :    third star  '\n",
    "s=s.split(':')  #:을 기준으로 분리하여 리스트 생성\n",
    "print [s[a].strip() for a in range(len(s))] #리스트 내포를 이용하여 코드작성\n",
    "#for~in 안에 들어갈 내용이 맨먼져 나오게 된다."
   ]
  },
  {
   "cell_type": "code",
   "execution_count": 25,
   "metadata": {
    "collapsed": false
   },
   "outputs": [
    {
     "name": "stdout",
     "output_type": "stream",
     "text": [
      "45\n"
     ]
    }
   ],
   "source": [
    "#5-1번 for ~in\n",
    "def addall(L):\n",
    "    sum=0;\n",
    "    for x in range(len(L)): #list L의 길이만큼의 범위를 x에저장하여\n",
    "        sum += L[x]#각원소의 합을 더하여 sum에저장\n",
    "    print sum#sum출력\n",
    "    \n",
    "addall([1,2,3,4,5,6,7,8,9])"
   ]
  },
  {
   "cell_type": "code",
   "execution_count": 26,
   "metadata": {
    "collapsed": false
   },
   "outputs": [
    {
     "name": "stdout",
     "output_type": "stream",
     "text": [
      "45\n"
     ]
    }
   ],
   "source": [
    "#5-1번 리스트내포방식\n",
    "def addall(L):\n",
    "    print sum([L[x] for x in range(len(L))]) #sum(LIST)는 LIST의 합이다. 이를이용하면된다.\n",
    "addall([1,2,3,4,5,6,7,8,9])\n"
   ]
  },
  {
   "cell_type": "code",
   "execution_count": 27,
   "metadata": {
    "collapsed": false
   },
   "outputs": [
    {
     "name": "stdout",
     "output_type": "stream",
     "text": [
      "25\n"
     ]
    }
   ],
   "source": [
    "#5-2번 for ~in\n",
    "def addall(L):\n",
    "    sum=0;\n",
    "    for x in range(len(L)): #list L의 길이만큼의 범위를 x에저장하여\n",
    "        if L[x]%2==1: #홀수만을 추출하여\n",
    "            sum += L[x]#각원소의 합을 더하여 sum에저장\n",
    "    print sum#sum출력\n",
    "    \n",
    "addall([1,2,3,4,5,6,7,8,9])"
   ]
  },
  {
   "cell_type": "code",
   "execution_count": 30,
   "metadata": {
    "collapsed": false
   },
   "outputs": [
    {
     "name": "stdout",
     "output_type": "stream",
     "text": [
      "25\n"
     ]
    }
   ],
   "source": [
    "#5-2번 리스트내포방식\n",
    "def addall(L):\n",
    "    print sum( [L[x] for x in range(len(L)) if L[x]%2==1] ) #5-1번 리스트내포에 if문을사용하여 홀수만을 추출하여 더한다.\n",
    "addall([1,2,3,4,5,6,7,8,9])"
   ]
  },
  {
   "cell_type": "code",
   "execution_count": 32,
   "metadata": {
    "collapsed": false
   },
   "outputs": [
    {
     "name": "stdout",
     "output_type": "stream",
     "text": [
      "{'high': [4, 5, 6], 'low': [1, 2, 3]}\n",
      "{'high': [4, 5, 6], 'low': [1, 2, 3]}\n",
      "{'high': [4, 5, 6], 'low': [1, 2, 3]}\n",
      "\n",
      "{'high': [4, 500, 6], 'low': [10, 20, 30]}\n",
      "{'high': [4, 500, 6], 'low': [10, 20, 30]}\n",
      "{'high': [4, 500, 6], 'low': [1, 2, 3]}\n"
     ]
    }
   ],
   "source": [
    "#6번\n",
    "L1 = [1, 2, 3]\n",
    "L2 = [4, 5, 6]\n",
    "d = {'low':L1, 'high':L2}\n",
    "e = d #레퍼런스를 참조 즉 e is d 는 true\n",
    "f = d.copy()#d의내용만복사 즉 f is d 는 false\n",
    "print d\n",
    "print e\n",
    "print f\n",
    "print\n",
    "d['low'] = [10, 20, 30] #key'low'의 value [1, 2, 3]-> [10,20,30]\n",
    "d['high'][1] = 500  #key 'high'의 value [4, 5, 6]에서 index1값 5 -> 500\n",
    "print d\n",
    "print e\n",
    "print f\n",
    "#6-1)e는 d의 레퍼런스를 그대로 참조한 리스트다. e is d =true\n",
    "#\n",
    "#6-2) 'high' 키의 값 내용 중 500이 출력된 이유\n",
    "#f=d.copy()는 Shallow Copy를 수행한다. L2리스트 자체는 다른 객체지만\n",
    "#리스트의 원소가 같은곳을 참조하고있다.그러므로 d의 원소를 바꿔주어도 f의값이바뀐다.\n",
    "\n",
    "#6-2) 'low' 키의 값 내용 중 [1, 2, 3]이 출력된 이유\n",
    "#위와같이 Shallow Copy를 수행하는데, L1리스트 자체는 다른 객체고, 리스트의 원소는 같은 곳 참조한다.\n",
    "#하지만 L1리스트 자체를 바꾸어주었으므로 다른값이 출력된다.\n"
   ]
  },
  {
   "cell_type": "code",
   "execution_count": 34,
   "metadata": {
    "collapsed": false
   },
   "outputs": [
    {
     "name": "stdout",
     "output_type": "stream",
     "text": [
      "[('five', 5), ('four', 4), ('one', 1), ('three', 3), ('two', 2)]\n"
     ]
    }
   ],
   "source": [
    "#7-1번\n",
    "d = {'one':1, 'two':2, 'three':3, 'four':4, 'five':5}\n",
    "a=d.keys()\n",
    "b=d.values()\n",
    "c=zip(a,b)#사전d의 keys values로 리스트를 얻어냄\n",
    "c.sort()#sort()하게되면 첫번쨰 원소를 오름차순으로 정렬 \n",
    "print c"
   ]
  },
  {
   "cell_type": "code",
   "execution_count": 35,
   "metadata": {
    "collapsed": false
   },
   "outputs": [
    {
     "name": "stdout",
     "output_type": "stream",
     "text": [
      "[('two', 2), ('three', 3), ('one', 1), ('four', 4), ('five', 5)]\n"
     ]
    }
   ],
   "source": [
    "# 7-2번\n",
    "d = {'one':1, 'two':2, 'three':3, 'four':4, 'five':5}\n",
    "a=d.keys()\n",
    "b=d.values()\n",
    "c=zip(a,b)#사전d의 keys values로 리스트를 얻어냄\n",
    "c.sort(reverse=True)#reverse=True를 통해 내림차순으로정렬\n",
    "print c"
   ]
  },
  {
   "cell_type": "code",
   "execution_count": 36,
   "metadata": {
    "collapsed": false
   },
   "outputs": [
    {
     "name": "stdout",
     "output_type": "stream",
     "text": [
      "[('one', 1), ('two', 2), ('three', 3), ('four', 4), ('five', 5)]\n"
     ]
    }
   ],
   "source": [
    "# 7-3번\n",
    "def cmp_1(a1,a2):#cmp_1을정의하여 리스트의 2번쨰원소로 정렬가능하게함.\n",
    "    return cmp(a1[1],a2[1])\n",
    "d = {'one':1, 'two':2, 'three':3, 'four':4, 'five':5}\n",
    "a=d.keys()\n",
    "b=d.values()\n",
    "c=zip(a,b)#사전d의 keys values로 리스트를 얻어냄\n",
    "c.sort(cmp_1)#사전의 값으로 정렬하기위해 cmp_1이용\n",
    "print c"
   ]
  },
  {
   "cell_type": "code",
   "execution_count": 37,
   "metadata": {
    "collapsed": false
   },
   "outputs": [
    {
     "name": "stdout",
     "output_type": "stream",
     "text": [
      "[('five', 5), ('four', 4), ('three', 3), ('two', 2), ('one', 1)]\n"
     ]
    }
   ],
   "source": [
    "# 7-4번\n",
    "def cmp_1(a1,a2):#cmp_1을정의하여 리스트의 2번쨰원소로 정렬가능하게함.\n",
    "    return cmp(a2[1],a1[1])#내림차순 정렬\n",
    "d = {'one':1, 'two':2, 'three':3, 'four':4, 'five':5}\n",
    "a=d.keys()\n",
    "b=d.values()\n",
    "c=zip(a,b)#사전d의 keys values로 리스트를 얻어냄\n",
    "c.sort(cmp_1)#사전의 값으로 내림차순 정렬하기위해 cmp_1이용\n",
    "print c"
   ]
  },
  {
   "cell_type": "code",
   "execution_count": 40,
   "metadata": {
    "collapsed": false
   },
   "outputs": [
    {
     "name": "stdout",
     "output_type": "stream",
     "text": [
      "104743\n"
     ]
    }
   ],
   "source": [
    "#프로젝트오일러7\n",
    "def isPrime(n):\n",
    "    if n==2:\n",
    "        return True\n",
    "    if n%2==0 or n<2:\n",
    "        return False\n",
    "    for i in range(3,int(n**0.5)+1,2):\n",
    "        if n%i==0:\n",
    "            return False\n",
    "    return True\n",
    "    \n",
    "if __name__==\"__main__\":\n",
    "    n=count=1\n",
    "    while count<10001:\n",
    "        n+=2\n",
    "        if isPrime(n):\n",
    "            count+=1\n",
    "    print n"
   ]
  },
  {
   "cell_type": "code",
   "execution_count": 39,
   "metadata": {
    "collapsed": false
   },
   "outputs": [
    {
     "name": "stdout",
     "output_type": "stream",
     "text": [
      "40824\n"
     ]
    }
   ],
   "source": [
    "#프로젝트오일러8\n",
    "num = '\\\n",
    "73167176531330624919225119674426574742355349194934\\\n",
    "96983520312774506326239578318016984801869478851843\\\n",
    "85861560789112949495459501737958331952853208805511\\\n",
    "12540698747158523863050715693290963295227443043557\\\n",
    "66896648950445244523161731856403098711121722383113\\\n",
    "62229893423380308135336276614282806444486645238749\\\n",
    "30358907296290491560440772390713810515859307960866\\\n",
    "70172427121883998797908792274921901699720888093776\\\n",
    "65727333001053367881220235421809751254540594752243\\\n",
    "52584907711670556013604839586446706324415722155397\\\n",
    "53697817977846174064955149290862569321978468622482\\\n",
    "83972241375657056057490261407972968652414535100474\\\n",
    "82166370484403199890008895243450658541227588666881\\\n",
    "16427171479924442928230863465674813919123162824586\\\n",
    "17866458359124566529476545682848912883142607690042\\\n",
    "24219022671055626321111109370544217506941658960408\\\n",
    "07198403850962455444362981230987879927244284909188\\\n",
    "84580156166097919133875499200524063689912560717606\\\n",
    "05886116467109405077541002256983155200055935729725\\\n",
    "71636269561882670428252483600823257530420752963450'\n",
    "\n",
    "biggestNum=0\n",
    "startOffSet=0\n",
    "endOffSet=5\n",
    "\n",
    "while endOffSet<=1000:\n",
    "\ttempResult=1\n",
    "\tslicedList=num[startOffSet:endOffSet] #str형이므로 슬라이싱을 이용해 5개의 숫자만 추출한다.\n",
    "\t\n",
    "\tfor x in slicedList:#x에 추출한 숫자 5개를 각각 할당한다\n",
    "\t\ttempResult=tempResult*int(x)#x를 int형으로 바꿔주어 전부곱한다\t\n",
    "\t\n",
    "\tif(biggestNum < tempResult): #위를 반복하여 가장큰값을 bigguestNum에 저장한다.\n",
    "\t\tbiggestNum=tempResult\n",
    "\t\n",
    "\tstartOffSet+=1#2번째숫자부터~6번쨰, 3번쨰~7번쨰,4번쨰~8번쨰 .........996~1000까지 반복한다.\n",
    "\tendOffSet+=1\n",
    "\t\n",
    "\n",
    "print (biggestNum)#가장큰값 출력"
   ]
  },
  {
   "cell_type": "code",
   "execution_count": 41,
   "metadata": {
    "collapsed": false
   },
   "outputs": [
    {
     "name": "stdout",
     "output_type": "stream",
     "text": [
      "31875000\n"
     ]
    }
   ],
   "source": [
    "#프로젝트오일러9\n",
    "def fita(n):\n",
    "    for i in range(1,n,1):#i는 1부터 999까지할당\n",
    "        for j in range(1,n,1):#j는 1부터 99까지 할당\n",
    "            k = n-i-j#문제에서a+b+c=1000이므로 k=1000-i-j\n",
    "            if i**2+j**2==k**2:#피타고라스가 성립하면.\n",
    "                return i*j*k\n",
    "    return 0\n",
    "print fita(1000)"
   ]
  },
  {
   "cell_type": "code",
   "execution_count": 45,
   "metadata": {
    "collapsed": false
   },
   "outputs": [
    {
     "name": "stdout",
     "output_type": "stream",
     "text": [
      "\n",
      "단어의갯수는 :  435\n",
      "punctuation :  !\"#$%&'()*+,-./:;<=>?@[\\]^_`{|}~\n",
      "{ '1142: 2', '브라우저를: 1', '【장학지원】보건복지심리재활분야: 1', '삼성: 2', '자나깨나: 1', 'Fil: 1', '제4차: 1', '있습니다: 1', '공공장소에서: 1', '지상파CMB: 1', '전문연구요원: 1', '입학: 1', '체결: 1', '없습니다: 1', '수: 6', '접수: 1', '참여하세요: 1', 'Match: 1', 'Be: 2', '동남구: 2', '팬택: 1', '크라우드펀딩: 1', '출원: 1', 'Verizon: 1', 'Campus: 1', 'Big: 1', 'Company: 1', '모집: 5', '㈜: 2', '0915: 2', '1549: 2', 'to: 2', '실무프로그래밍: 1', '계약: 1', 'IDPW: 1', '1456: 2', 'Hackathon: 1', 'Others: 1', '자유학기제: 1', '앤디: 1', '1년8개월전: 1', '아이디: 1', '홈페이지에: 1', '국제전시회IoT: 1', 'Hooking: 1', '경우: 1', '가처분: 1', '닫더라도: 1', 'CSE: 1', '개발자: 2', '국제적인: 1', '‘플랫폼: 1', '0840: 2', 'Copyright: 1', '바로가기: 2', 'Quick: 1', '신청: 2', '구성원소개: 1', '대한: 1', '홈커밍데이: 1', '1550: 2', '1553: 2', 'Just: 1', '장학금: 1', 'Make: 1', '참가자: 1', 'IPO: 1', '에서: 3', '원작자: 1', '20150618: 1', '인수: 1', '위어의: 1', 'Registration: 1', '신청서: 1', 'Education: 1', '20150930: 1', 'See: 1', 'IT사업단: 1', '성황리: 1', '인사동정최성준: 1', '수준의: 1', '충절로: 2', '지: 15', '천안시: 2', 'WEBMAIL: 1', '접속부터는: 1', 'Empowerment: 1', '졸업작품: 1', 'Linkedin: 1', '엔에스이: 1', '자료실: 1', 'Exhibition: 1', '기능을: 1', '글로벌: 3', '동영상: 1', 'Investigating: 1', '전자신문: 1', '공지입니다: 1', '유지: 3', 'Korea: 2', '디스플레이장비전: 1', 'for: 1', '14601461: 1', '확정: 1', '무료수강: 1', 'Registered: 1', '꼭: 1', '코스닥상장: 1', '방통위원장: 1', '신입사원: 1', '학부광장: 1', '산업기능요원: 1', 'Facebook: 1', '1253: 3', '창조경제타운: 1', '1401: 2', '20150923: 1', '앙클: 1', '소개합니다: 1', 'School: 2', '계속: 1', '1154: 2', '학사안내: 1', '로그아웃을: 1', 'VENTURESQUARE: 1', 'Study: 1', '단: 2', '1331: 2', '1330: 2', '1333: 2', 'Up: 1', '텐센트와: 1', '1932: 2', 'Contact: 1', '1937: 2', '넥스트리밍: 1', '화려한: 1', '컴퓨터공학부: 6', 'TEL: 1', '시: 9', '041: 2', 'Blind: 1', '개인정보가: 1', '다음: 1', '1431: 2', '병천면: 2', 'of: 3', '기술연구소: 1', '결과: 1', 'Wearable: 1', '1537: 2', '©: 1', 'OkCupid: 1', 'Computer: 1', '2015년: 2', '20150914: 1', 'Require: 1', 'Age: 1', '공지사항: 1', '주: 3', 'Contents: 1', '컨소시엄: 1', 'Behind: 1', '경쟁력: 1', 'Schoolfun: 1', '종료: 1', '찾기: 1', 'YouTube: 1', '1342: 2', '필요가: 1', '‘Loc: 1', 'Creative: 1', '소프트웨어: 4', '2015년도: 1', '자격증: 1', 'RECODE: 1', 'Online: 1', '해주세요: 1', '콘테스트: 1', '홈페이지: 2', 'The: 1', '1900: 2', '학과사무실: 1', '사용할: 1', '‘위노베이션: 1', '있으니: 1', '1638: 2', '자유게시판: 1', '모집공고: 1', '예약판매: 1', '갤노트5로: 1', 'FCC: 1', '법원: 1', '20150903: 2', '1600한국기술교육대학교: 1', '기각···케이블TV: 1', 'KoreaI: 1', '구글강연: 1', 'CK: 1', '평생교육원: 1', 'LIG그룹사: 1', '프로젝트’: 1', '로그인이: 1', '지킬과하이드: 1', '20151008: 1', '펜타인: 1', '560: 2', 'Science: 1', '게임방: 1', '31253: 1', '지식재산권: 1', 'N: 3', '로그인할: 1', '2015: 33', '취업게시판: 1', '0858: 2', '1203: 2', '모의: 1', 'Fun: 1', '특성화: 5', '마션의: 1', 'Navigation: 1', '공모전: 1', '1625: 2', 'Some: 1', 'Twitter: 1', 'Startup: 1', '1028: 2', '안내: 3', '제2회: 1', '등: 1', '강좌: 1', 'Engineering: 1', '하이드편: 1', 'Will: 2', 'US: 1', '온라인: 4', 'Close: 1', '시작···삼성전자: 1', '1462: 1', '인력양성사업: 3', '공고: 4', '충청남도: 2', 'Location: 1', 'and: 3', '양성: 4', 'Drones: 1', '마일리지: 1', '미디: 1', 'Pay: 1', '메카: 2', '1745: 2', '오신: 1', '20151014: 1', '입조심: 1', '주KMW: 1', '백령도: 1', '회원가입: 1', 'rights: 1', '20151015: 1', '대학원: 2', '학교: 9', '20151016: 10', '컨텐츠: 4', 'You: 2', '20151012: 1', '20151013: 3', '메카한국기술교육대학교: 1', 'LG: 1', 'FAX: 1', '20151017: 7', '재송신: 1', '1616: 2', '융합소프트웨어: 3', '채용공고: 1', 'With: 1', '한울: 1', '컨텐츠를: 1', 'Bang: 1', 'LIG인베니아: 1', '학부: 8', '1119: 2', '소개: 3', 'if: 1', '공학교육인증: 1', '고취: 1', '것을환영합니다: 1', '로그인: 6', '라이선스: 1', '개발자를: 1', '유지될: 1', 'reserved: 1', '1019월까지: 1', '한국기술교육대학교: 7', 'IT융합분야에: 1', 'IT: 8', '제작툴에서: 1', 'Capability: 1', '가전리: 1', 'Tinder: 2', '유출될: 1', '교육역량강화사업: 4', '투표: 1', '모집합니다: 1', '“콜라보: 1', 'a: 29', '㈜인젠트: 1', 'All: 1', 'Google: 1', 'in: 12', '1806: 2', '교육의: 2', '1600: 2', 'Is: 1', '아이폰6S: 1', '0000: 2', '말조심: 1', 'IT전문인력: 1', '사물인터넷: 1', '1539: 2', 'Have: 1', '이용: 1', '비밀번호: 1', 'Plus: 1', '쏠리드: 1', '인턴사원: 1', 'Its: 1', '전시회: 2', }\n"
     ]
    }
   ],
   "source": [
    "#11번\n",
    "# -*- coding: utf-8 -*-\n",
    "import urllib2\n",
    "import string\n",
    "\n",
    "source = urllib2.urlopen(\"http://cse.kut.ac.kr/\").read()\n",
    "\n",
    "#print source # 추후 숙제 답안 제출 때엔 왼쪽 라인은 주석처리할 것\n",
    "from bs4 import BeautifulSoup\n",
    "print\n",
    "soup = BeautifulSoup(source)#buetifulsoup라이브러리를 이용하여 html태그제거\n",
    "pureWords = soup.text.replace(\"\\n\",\" \").replace(\"\\t\",\" \").replace(\"//\",\" \")\n",
    "#엔터와 탭을 보기편하게 공백으로 replace한다. 또한 //도 공백으로 replace한다.\n",
    "count=pureWords.count('<')#count를 주기위해 <의 개수를 샌다.\n",
    "for i in range(count):#<나온만큼 count를 돌려서 pureWords문자열에서 남은 <를 제거한다.\n",
    "    a=pureWords.find('<')   \n",
    "    b=pureWords.find('>')\n",
    "    pureWords=pureWords[0:a]+pureWords[b+1:] #[a:b]제외하고 남은것을 제거하여 s에저장\n",
    "\n",
    "#print pureWords\n",
    "wordCount = pureWords.split()#문자열을 공백을기준으로 추출한 단어를 list로 저장\n",
    "print \"단어의갯수는 : \", len(wordCount)#list에 저장된 갯수를센다\n",
    "########################################################################################지난과제에이어서추가\n",
    "print \"punctuation : \",string.punctuation\n",
    "punc= string.punctuation\n",
    "source2 = \" \".join(wordCount)#wordCount리스트를 다시 source2에 ' '로 연결한 문자열로 저장\n",
    "for a in punc: # for문을이용하여 puctuation을 각각 찾아서 공백으로 대체. 즉, puctuation을 삭제시킨다.\n",
    "    source2 =source2.replace(a, '')\n",
    "wordCount=source2.split()\n",
    "\n",
    "\n",
    "num=[]\n",
    "for x in range(len(wordCount)):\n",
    "    num.append(source2.count(wordCount[x])) #wordCount리스트의 원소 각각 빈도수를 source2에서 센다.\n",
    "dic= dict(zip(wordCount, num))#zip으로 2개의 리스트를 투플로만든후 dict으로 사전으로 바꿔준다.\n",
    "\n",
    "print '{',\n",
    "for key in (dic.keys()):\n",
    "    print '\\'' + key + ':',\n",
    "    print str(dic[key]) + '\\'' + ',', #키에 대한 values를 넣어준다. 주의할 점은 다른 건 문자이고 dic[key]는 정수형이기 때문에 \n",
    "                                       #두 개의 서로 다른 타입에서는 +를 할 수 없기 때문에 dic[key]를 문자열로 바꿔준다.\n",
    "print '}'"
   ]
  },
  {
   "cell_type": "code",
   "execution_count": 48,
   "metadata": {
    "collapsed": false
   },
   "outputs": [
    {
     "name": "stdout",
     "output_type": "stream",
     "text": [
      "\n",
      "단어의갯수는 :  5499\n",
      "punctuation :  !\"#$%&'()*+,-./:;<=>?@[\\]^_`{|}~\n",
      "{ 'top7px: 12', 'titstory: 16', '0fontweightboldfontsize11pxlineheight13pxfontfamilytahomasansserifcolor949494: 1', '6px: 171', '싸다: 1', 'titissuerank: 2', '인기기획전: 1', 'suggestBox: 77', 'wrapthesong: 1', 'promotionimg: 8', '몽골: 1', 'linkprotect: 1', 'Jejes: 1', 'height103pxmargintop9px: 2', 'displayblockheight15pxmarginleft15pxpaddingtop14pxlineheight15px: 1', 'icocolon: 1', 'top52pxheight22pxlineheight24px: 1', 'realestateon: 2', 'left15px: 4', '날짜: 1', 'border1px: 13', 'txtapp: 1', 'GO: 2', '380px: 7', '링크모음: 3', '9px: 158', 'i1daumcdnnetdecocomicstopdeco2014v2transparentgif: 4', 'bottom8px: 1', 'qafter: 1', 'gulim굴림sansserifcolor000: 3', 'overflowhiddenpadding4px: 1', 'a5a6acbordertop0: 1', 'titdaum: 2', 'displayblockheight30px: 1', '웹드라마: 1', 'icosuggest2: 3', 'backgroundposition481px: 3', 'positionabsolutetop0left264pxwidth16pxheight35pxbackgroundposition140px: 1', '상승9: 4', 'bottom7px: 2', 'eeeef0backgroundcolorfbfbfb: 1', '상승4: 2', 'overflowhiddenwidth201pxmargintop19px: 1', '상승3: 2', 'hide: 1', 'width110pxheight12pxmargin4px: 1', '9pxlineheight17px: 1', 'partevent: 33', 'backgroundposition378px: 6', 'wrapshop1: 1', 'numreader: 1', 'wrapshop3: 1', 'wrapshop2: 1', 'wrapshop5: 1', 'wrapshop4: 1', 'displayblockwidth40pxheight40pxmargin11px: 1', 'width232pxpaddingright9pxtextaligncenter: 1', 'positionabsolutetop45pxleft0width184pxheight220pxpaddingbottom5pxbackgroundcolorfff: 1', '경기: 3', 'height555px: 1', '대만: 1', 'height161pxborderbottom0: 1', 'left7px: 6', 'icopushhover: 1', 'appnew: 1', '페이지8: 1', '98px: 5', '숲과: 1', '페이지1: 7', '170pxtextindent9999px: 1', '페이지3: 1', '페이지4: 1', '태아: 1', '페이지6: 2', '페이지7: 2', 'displayinlinefloatleftwidth31pxheight31pxmargin18px: 1', 'positionabsolutetop104pxleft0width280pxheight309pxbackgroundposition0: 1', '넥슨플레이: 1', 'copytxt: 1', '이송: 1', 'listmall: 3', 'norepeattextindent999em: 1', 'bottom21pxright295px: 1', 'height250px: 1', '444backgroundcolorfff: 1', '네일: 1', 'wrapblog: 2', 'paddingtop5px: 2', '손학규: 1', 'spanlinkprogram: 1', 'norepeatcolorffftextaligncenter: 1', 'catche: 1', 'floatleftwidth9pxheight13pxmargin3px: 1', 'verticalreader: 20', 'floatleftlineheight15px: 2', '페이퍼필름: 1', 'horizontalimg: 13', '5위: 2', 'color222: 4', 'appimport: 3', 'positionabsolutetop0left0zindex102width100: 1', 'backgroundposition349px: 2', 'defaultimg: 22', 'overflowhiddenwidth181pxmargintop16pxletterspacing1px: 1', 'color5778ff: 1', 'backgroundposition40px: 8', 'wrapsearch: 1', 'height44pxmargin0: 1', 'color3c77eb: 1', '19px: 26', 'fontbold: 4', '425px: 2', 'backgroundposition15px: 3', 'overflowhiddenpositionabsolutetop278pxleft139pxwidth188pxheight38pxbackgroundimageurlhttp: 1', '4pxfontsize11pxlineheight14pxtextalignleftwhitespacenowraptextoverflowellipsis: 1', '0lineheight18pxbackgroundurlhttp: 1', 'cafeguisortablehelper: 1', 'displayblockwidth93pxheight27pxmargin15px: 1', 'w26: 2', 'w27: 2', 'w24: 2', 'w25: 2', 'w22: 2', 'w23: 2', '0directionltr: 1', 'w21: 2', 'answer: 2', 'width182pxheight123pxmargin0: 1', 'w28: 2', 'w29: 2', 'relaycenter: 1', 'overflowhiddenwidth776pxpadding13px: 1', '50px: 37', 'lablogin: 1', '79px: 15', 'displayblockwidth248pxmargin0: 1', 'overflowhiddenwidth170pxpadding0: 1', 'dbdbdbborderleft1px: 1', '시크폭스: 1', 'color25ad8b: 1', 'top135pxleft369pxwidth21pxheight17pxbackgroundposition60px: 1', 'backgroundposition130px: 6', 'width278pxmargintop5px: 1', 'floatleftwidth53pxheight20pxfontsize11pxlineheight20pxbackgroundposition170px: 1', 'dee1e6: 1', 'numstatus: 4', 'boxtit: 11', 'linkhome: 3', 'overflowhiddenpositionabsolutebottom14pxleft11pxwidth100pxheight18pxpaddingleft30pxlineheight21pxbackgroundposition0: 1', '844px: 1', '11번가: 1', 'loginset: 11', 'overflowhiddenpositionabsolutetop30pxleft55pxwidth71pxheight87pxtextaligncenter: 1', 'overflowhiddenwidth280pxheight35pxlineheight15px: 1', 'floatleftlineheight15pxletterspacing1px: 1', 'color777: 6', 'clb: 1', 'todaylink: 8', '0fontsize11pxlineheight13pxbackgroundposition0: 1', '못: 1', 'numindex: 3', '현위치: 1', '145pxtextaligncenter: 1', 'linkdirect: 1', 'floatrightwidth62pxheight26pxbackgroundposition170px: 1', 'overflowhiddenpaddingtop3px: 1', 'height150: 2', '그린: 1', '0textalignrightletterspacing0: 1', 'repeatxletterspacing1pxclearboth: 1', 'txtthesong: 1', 'typefstbig: 7', '000opacity01filteralphaopacity10: 1', '1226pxletterspacing1px: 1', '연재: 1', 'backgroundposition440px: 1', '660px: 3', 'positionabsolutetop0left0zindex1width14pxheight13pxtextindent9999pxcursorpointer: 1', 'headlayer: 1', 'floatleftwidth152pxheight22pxpaddingleft9pxborder0: 1', '13px: 81', '450px: 2', 'positionabsolutepaddingright7pxfontsize11pxlineheight14pxbackgroundposition100: 1', 'color262626letterspacing1px: 1', '990px: 3', 'webtoonon: 2', 'overflowhiddenwidth278pxpaddingtop31px: 1', '입을거없쥬여기서준비해: 1', '2300: 1', '1870px: 1', '장수와의: 1', 'width53pxbackgroundposition40px: 1', 'left59pxwidth58pxbackgroundposition60px: 1', 'backgroundposition290px: 2', 'layerevent: 1', '소희: 1', '토요요: 1', '9위: 2', 'wrapcafe: 2', 'icodisk: 1', 'icomarket: 1', 'displayblockheight100: 2', 'positionabsolutetop34pxleft0height33pxpadding0: 1', 'blogon: 6', 'txtgap: 1', 'zindex1backgroundcolor4e82eebackgroundposition0: 1', '180px: 8', '0paddingtop4pxfontbold: 1', 'textdecorationunderline: 9', '사전: 4', '금메달: 1', 'color2156c0: 3', 'layerservice: 26', 'width278pxheight217px: 1', 'txtslash: 2', 'backgroundposition471px: 4', '지친: 1', '도발엔: 1', 'top: 287', 'linkphone: 1', '개성시대: 1', '처음이예요: 1', '24900원: 1', '북핵: 1', 'displayinlinecolorfff: 1', '나라슈퍼강도사건의: 1', 'inputselecttextareabutton: 3', 'width179pxheight116px: 3', 'displayblockfontsize11pxcolor737373textaligncenterletterspacing1px: 1', 'width100paddingright0fontsize11pxcolorbababa: 1', 'btnlogin: 2', 'arialbackgroundurlhttp: 1', 'linktithover: 24', 'icoplay: 9', '1pxborder0: 3', 'headermainasidearticlefooter: 1', '1pxbackgroundcolore8e8e8: 1', 'backgroundfff: 2', 'minus: 1', '1대0: 1', '67px: 12', '회원가입: 1', '소호: 2', 'e1e1e1borderleft1px: 1', 'width46pxbackgroundposition2px: 1', '회사소개: 1', 'infoevent: 1', '클라우드: 1', 'marginleft3pxpaddingleft13pxbackgroundurlhttp: 1', '650px: 4', 'i1searchdaumcdnnetssearchall2011icoicosuggest20110721gif: 2', '7pxcolor000: 1', 'bottom20pxleft155px: 2', 'i1daumcdnnetdecocomicstopdeco2014v2bgtopbargifv1102: 1', 'i1daumcdnnetdecocomicstopdeco2014v2transparentgiftextindent9999px: 3', '특급콜라보: 1', '민경훈: 2', 'floatleftpadding0: 4', '이슈: 2', '연예: 2', 'overflowhiddenpositionabsolutetop19pxright20pxwidth54pxheight25pxbackgroundimageurlhttp: 1', 'displayinlineoverflowhiddenfloatleftwidth83pxheight93pxpadding23px: 1', 'margintop9pxlineheight18pxcolor5b5b5b: 1', 'floatleftwidth25pxheight15pxlineheight15pxmargin2px: 1', 'colore73923: 2', 'positionrelativewidth181pxpaddingtop22px: 1', '6pxborderright1px: 1', 'parttoday: 136', 'colorg: 11', 'left212px: 1', '195px: 1', 'wraptv: 16', '0lineheight15pxbackgroundcolorfff: 1', '미즈넷: 2', 'titnews: 8', 'sportson: 2', 'backgroundposition170px: 17', 'darm의: 1', 'width123px: 1', 'displayinlinewidth236pxheight52pxmargin19px: 1', '대관령: 1', 'i1daumcdnnetdecocomicstopdeco2014v2bgdaumv6pngv1559: 7', '얌얌숲: 1', 'toeaebefbackgroundimagemozlineargradienttop: 1', '9pxlineheight21pxtextalignleftcursorpointer: 1', '바로가기: 7', 'marginleft1pxfontnormal: 1', 'cursordefault: 2', 'X: 1', 'positionabsolutetop9pxright10pxwidth62pxheight19pxpaddingleft2pxbackgroundposition285px: 1', '웹접근성안내: 1', 'bar: 5', '699px: 1', 'listfavorsch: 3', '이메일: 1', 'titfavor: 3', 'color24adc0: 1', 'width267pxpadding26px: 1', 'gameon: 2', 'overflowhiddenpositionabsoluteleft24pxwidth153pxheight21pxpaddingleft8pxfontsize11pxlineheight22pxcolor96969bletterspacing1pxcursortext: 1', '서비스약관: 1', 'margintop9pxlineheight19pxcolor757474: 1', 'floatleftpaddingright4px: 1', 'nummsg: 1', 'titbrunch: 4', 'left205px: 2', 'top75pxwidth367pxheight20pxpadding8px: 1', 'displayinlineblockpadding11px: 1', 'best: 54', '0backgroundposition100: 1', '비난: 1', '유지: 1', 'top0right18px: 1', 'layoutpromotion: 2', 'paddingtop16px: 1', 'wrapbestreader: 1', '힐링: 1', '통합: 1', '골프반짝특가3: 1', 'aactive: 1', '취준생들이: 1', '17pxborder1px: 1', 'linkagora: 8', 'paddingleft46pxbackgroundposition0: 1', 'newg: 6', '野: 1', 'width13pxbackgroundposition170px: 1', '스킨케어: 1', 'inpagain: 1', 'txtlabel: 7', 'top83pxleft365px: 1', 'floatleftpositionrelativezindex0width280pxheight105pxbackgroundurlhttp: 1', 'tiertopexpand: 1', 'marginleft3pxfont12px14px: 2', 'top156pxleft229px: 1', 'dotum돋움sansserifcolor000: 1', 'tophead: 1', '점수: 1', 'teamaway: 1', 'backgroundposition55px: 3', 'width51pxbackgroundposition180px: 1', 'displayblockoverflowhiddenwidth78pxheight16pxmargintop8pxfontweightboldlineheight17pxcolorfffletterspacing1px: 1', 'titbook: 4', 'rolltxt: 1', 'margintop10pxlineheight19pxcolor7c7c7c: 1', 'titentertain: 4', 'overflowhiddenwidth271pxmarginleft3pxletterspacing1px: 1', '125px: 6', '습격에: 1', '폰번호: 1', 'displayblockmargintop2pxfontsize11pxcolor262626: 1', '165℃: 2', '200px: 8', 'whitespacenowrap: 16', 'linkimghover: 2', '검색: 5', 'contsort: 2', '결과는: 1', 'dotg: 2', 'eventshop: 2', '1pxlineheight14pxverticalaligntopwhitespacenowrap: 1', '먹는다: 1', '티스토리: 1', 'left80pxwidth177pxbackgroundposition285px: 1', 'tflogin: 1', '나라와: 1', '171℃: 1', 'width188pxheight159pxpadding0: 1', '750px: 1', 'favoron: 2', '링크를: 22', 'backgroundposition380px: 1', 'linkservice: 1', 'eaebefbackgroundimagelineargradientto: 1', 'cont: 235', '확인하시려면: 22', 'pagedaum: 6', 'd8d9dbborderbottom1px: 1', 'linkmore: 2', 'plateg: 13', 'tv팟홈: 1', '13pxpaddingright6pxfontsize11pxbackgroundposition100: 1', 'overflowhiddenpositionabsolutetop0left0height18pxpadding0: 1', 'linkjoin: 1', 'paddingleft14pxbackgroundurlhttp: 1', 'bottom22pxleft265px: 2', 'titmyset: 1', '11pxfontsize14pxlineheight17pxwhitespacenowraptextoverflowellipsis: 1', '71pxcolor666letterspacing1px: 1', 'linkbnr2: 3', 'overflowhiddenwidth444pxbackgroundposition0: 1', 'backgroundcolorfff: 7', '9pxlineheight15px: 1', '0lineheight15pxbackgroundposition270px: 1', 'backgroundposition30px: 3', 'width30px: 2', 'displayblockpositionrelativeheight100px: 1', 'paddingleft9pxbackgroundposition4px: 1', 'iconew: 3', '현대H몰: 1', 'padding0: 27', 'left: 276', 'verticalimg: 13', 'icocafehot: 1', 'shortcutghover: 1', '있는: 1', 'layertoday: 50', 'quotes: 1', '수치: 1', '수: 8', 'overflowvisibleheight340px: 1', '패션: 3', '대전: 1', '이준기: 1', '447px: 1', '1pxbackgroundposition145px: 1', 'margintop5pxfontsize11pxcolor878787letterspacing1px: 1', '찾기: 2', '닫기: 2', 'i1daumcdnnetdecotop2012startcafenone20121023png: 1', '17pxbackgroundposition100: 1', '3px: 182', '10pxfontsize11pxlineheight14pxfontfamily돋움dotumhelveticasansserifcolor666: 1', 'linksale: 1', '애스턴빌라: 1', 'titnotice: 1', 'nameuser: 1', 'left224pxbackgroundposition225px: 1', '인기: 3', 'txtcont: 4', '72pxcolor878787letterspacing1px: 2', 'backgroundposition390px: 5', 'width43pxbackgroundposition0: 1', 'suggestBoxreverseType: 2', 'listimgtxt: 12', 'dindex: 7', '11pxlineheight18pxbackgroundposition90px: 1', 'btnvideo: 1', 'top251pxleft370pxwidth20pxheight24pxbackgroundposition15px: 1', 'bookon: 2', 'backgroundposition100px: 2', '2px: 130', '납치까지女: 1', '467px: 1', 'relmy: 1', 'backgroundurlhttp: 35', 'wrapfun: 1', 'btnsearch: 2', 'displayblockheight12pxpaddingtop7pxfontsize10pxlineheight12pxcolor848484: 1', 'bodydivdldtddulollih1h2h3h4h5h6precodeformfieldsetlegendtextareapblockquotethtdinputselecttextareabutton: 1', '가져오기: 22', 'btnassay: 1', '총: 8', 'displayinlineblockmargin4px: 1', '이용약관: 1', 'bottom: 55', 'positionabsolutetop33pxright0width515pxpadding16px: 1', '400px: 13', '설탕: 1', 'msgreset: 1', 'left158px: 1', 'wrapmiznet: 1', '4pxlineheight18pxbackgroundurlhttp: 1', 'boxcont: 1', 'displayinlinefloatrightwidth84pxheight15pxmargin14px: 1', '0letterspacing1pxcursorpointer: 1', 'floatleftpaddingleft7pxlineheight15pxbackgroundposition0: 1', '만: 12', '맨몸운동을: 1', 'padding36px: 1', '0px: 456', 'width17pxbackgroundposition93px: 1', 'spetype2: 6', 'spetype3: 3', 'spetype1: 3', 'txtblue: 2', '서울: 1', 'linkbnr: 5', 'idadCgiTimeSponsor: 1', 'plus: 1', '546px: 1', 'i1daumcdnnetdecocomicstopdeco2014v2imgdaumv3pngv1324: 1', '17pxbackgroundposition0: 1', '20pxtextaligncenter: 2', 'paddingleft50pxbackgroundposition0: 1', '천안시: 1', '전: 48', '채택: 1', '740pxcolor209bdbcursorpointer: 1', 'linksvc: 4', 'paddingleft44pxbackgroundposition0: 1', 'paddingtop25px: 2', 'imginit: 11', '슬로베니아로: 1', 'news5tabon: 2', 'stocksteady: 2', '89px: 5', '156px: 13', '326pxcolor333: 1', 'color888: 1', 'cafeon: 6', 'positionabsolutetop222pxleft214pxzindex103width466pxheight380pxbackgroundurlhttp: 1', 'noticecafe: 2', '최현석: 2', 'overflowhiddenwidth278pxheight307pxpaddingtop31pxborder1px: 1', 'displayinlinefloatrightpadding0: 2', '꿀광물광피부최대90특가: 1', 'color555: 7', '11pxfontsize12pxlineheight17px: 2', '11살에: 1', '맥주: 1', 'fontsize20pxlineheight23px: 1', '사건: 2', '13pxfontsize11pxlineheight14pxcolor959595letterspacing1pxverticalaligntop: 1', 'padding1px: 6', 'linkcont: 29', '백령도: 1', 'listtoday: 8', '오늘의: 4', '공식행사에: 1', 'labid: 2', 'top47pxwidth94pxheight16pxpadding5px: 1', 'sectionmedia: 44', 'displayinlineverticalaligntop: 1', 'txtstate: 1', '66px: 20', '상승19: 2', 'shop1on: 3', 'marginwidth0: 2', 'dotted: 1', '깔끔한: 1', 'tit: 241', '상승10: 4', '곽토리: 1', '로드뷰: 1', '상승14: 4', 'mystockon: 4', '14px: 62', 'headlinespe: 11', 'eaebefbackgroundimageolineargradienttop: 1', 'top81pxleft369px: 1', '내또래: 1', 'labsteady: 1', 'top8pxright8px: 1', 'floatrightlineheight15pxletterspacing1px: 1', 'i1daumcdnnetdecotop2012startpopie620121026png: 1', 'scrollingnoiframe: 2', 'fontsize11pxletterspacing1px: 2', 'linkconthover: 2', 'shop3on: 3', '억새꽃축제: 1', '220px: 9', 'pagetype2: 15', 'icolive: 1', 'paddingleft12pxbackgroundposition0: 1', 'fst: 14', 'positionabsolutetop30pxleft1pxzindex0width179pxheight87pxbackgroundimageurlhttp: 1', 'displayblockoverflowhiddenheight40pxheight63pxpadding12px: 1', '150087: 1', 'txtblue2: 1', 'color6d3fdf: 1', '것: 4', 'linkdaum: 2', 'displayinlinefloatleftwidth164pxheight46pxmargin29px: 1', '675pxcolor7a7c83letterspacing1px: 1', '스페셜: 3', 'footdaum: 12', 'positionabsolutetop64pxleft0width940pxheight64px: 1', 'partspecial: 19', 'ㅋㅎ: 1', 'displayblockoverflowhiddenpositionrelativewidth280pxheight219pxmargintop5px: 1', '역사: 1', 'show: 1', '0: 1344', 'linkhelp: 1', '음식: 1', 'floatleftwidth63pxheight42pxmargin0: 1', 'eaeaeaborderbottom1px: 1', '영상중계: 1', '36px: 10', 'textdecorationnone: 16', 'displayinline: 45', 'scoregame: 4', '220pxverticalaligntoptextindent9999px: 1', 'innerfoot: 1', 'ahover: 2', 'width42pxbackgroundposition270px: 1', '77px: 5', 'item: 4', '11pxbordertop1px: 1', '66pxcursordefault: 1', 'infomy: 1', 'width16pxheight15pxbackgroundposition70px: 1', '與: 1', 'backgroundposition340px: 3', 'i1daumcdnnetdecocomicstopdeco2014v2txtdaumv9pngv1528: 1', 'ㅈㅊ: 1', '고객센터: 1', '55pxtextindent9999pxcursorpointer: 2', '50pxmargintop22pxbackgroundcolorf0f0f0clearboth: 1', 'imgvert: 2', '쇼핑몰: 1', '하는: 2', 'infonotice: 1', '심형탁: 2', 'overflowhiddenwidth271pxheight55pxmarginleft7pxpaddingtop6px: 1', 'msgsave: 1', 'width63pxbackgroundposition210px: 1', 'width179pxheight95px: 1', '흔들다: 1', '1017: 1', 'color4559e9: 5', 'addresscaptioncitecodedfnemvar: 1', 'displaytablecellpositionabsoluteleft0top0width100height100: 1', 'overflowhiddenpositionabsolutetop19pxright79pxheight25pxbackgroundimageurlhttp: 1', 'titgame: 4', '다음: 14', 'innermain: 1', 'overflowhiddenpositionrelativewidth188pxheight339pxbordertop1px: 2', '최근: 1', '199px: 1', 'zindex1backgroundcolor4e82eebackgroundposition171px: 1', 'rank10: 1', 'linkconthome: 5', '스위스의: 1', '정보: 11', 'verticalsong: 17', '170px: 23', '사명: 1', 'tistoryguisortablehelper: 1', 'height105: 6', 'clearboth: 11', 'floatleftmargintop11pxpaddingright2pxcolor3a5fb9letterspacing1px: 1', 'displayblockmargin6px: 1', '스토리볼: 1', 'displayinlineblockwidth280pxheight150pxfontsize0lineheight0verticalaligntop: 1', 'txtdaum: 3', 'backgroundposition210px: 3', 'linksvcmore: 1', 'titsports: 4', '전에: 1', '32pxfontweightboldbackgroundposition0: 1', 'overflowhiddenpositionabsolutetop0left0zindex1width15pxheight15pxtextindent9999px: 1', 'title광고: 2', 'icorecom: 2', '35pxcolor444: 1', 'msgerror: 1', 'width36pxheight13pxmargin0: 1', '이전: 8', 'width181pxheight118px: 2', '무크정기세일초특급: 1', '주요: 2', '검색등록: 1', 'listissue: 20', 'listdaumapp: 5', '이: 50', '807px: 1', 'wrapfavor: 9', 'textindent9999px: 30', 'Daum: 1', 'topservice: 15', 'marginright4pxfontbold: 1', '26pxborderbottom1px: 1', 'noneverticalaligntop: 2', 'headdaum: 2', 'tfkeyword: 2', 'fontweightnormalcolorfff: 2', 'overflowhiddenpositionabsolutetop48pxleft95pxwidth13pxheight16pxbackgroundposition0: 1', 'fontweightbold: 17', 'left353px: 1', 'icosteady: 2', 'margintop14px: 4', 'floatleftpositionrelativewidth427pxpaddingleft25px: 1', 'width54pxbackgroundposition40px: 1', '1: 1568', 'btnlogout: 1', 'boxlst: 3', '토: 7', 'innertag: 1', 'width31pxbackgroundposition310px: 1', 'titshop5: 3', 'titshop4: 3', 'floatright: 13', 'titshop1: 3', 'abb5bdbordertop0: 1', 'titshop3: 3', 'titshop2: 3', '자동차: 1', '목록: 1', '백화점퀄리티고품격마더룩: 1', '첼시: 1', 'displaynonepositionabsoluteright0pxbottom19pxwidth211pxheight27pxbackgroundurlhttp: 1', 'q: 9', 'displayblock: 85', '최고: 1', 'linkrecom: 1', '1430px: 8', 'floatleftcolor6d7078: 1', 'displayblockoverflowhiddenfloatleftwidth88pxheight34pxmargintop1pxfontsize12pxlineheight18pxletterspacing0: 1', 'i1searchdaumcdnnetssearchall2013bgbgfootergif: 1', 'padding15px: 2', 'rellink: 1', '증권: 3', 'timenum: 1', '14pxbackgroundposition450px: 1', '중국: 1', '비보잉과: 1', '6위: 2', '쇼핑기획전: 1', '교체주리룬: 1', '보러: 1', 'floatleftbackgroundposition0: 1', '만들어: 1', 'txtpso: 1', 'backgroundcolorf0f0f0: 2', 'blockquote: 4', 'w20: 2', '7pxbordertopnoneborderbottom1px: 1', 'admaintopad: 1', '277pxcolor2c74e0: 1', 'i1daumcdnnetdecocomicstopdeco2014v2btndaumv3pngv1247: 2', '여수: 1', 'try: 1', 'CDATA: 3', 'displayinlineblockpaddingright10pxmargintop11pxbackgroundposition100: 1', 'cursorpointer: 18', 'displayblockoverflowhiddenwidth174pxheight29pxpadding18px: 1', 'displayinlineblockwidth2pxheight7pxmargin4px: 1', '접나: 1', 'displayinlineblockwidth18pxheight7pxmargin4px: 1', '클릭상품: 1', 'contthesong: 4', 'displayblockfontsize11pxlineheight14pxcolor878787: 1', 'f2f2f4: 1', '1165px: 1', 'tittvpot: 4', 'contshopbest: 37', '및: 3', 'positionabsolutetop0left92pxwidth154pxheight75pxpaddingleft12pxfontsize11pxbackgroundcolorfbfbfbbackgroundposition285px: 1', 'inpsteady: 1', 'displayinlinepaddingleft11pxbackgroundurlhttp: 1', 'linkthumb: 4', '경기시간: 1', 'floatleftmargin11px: 2', 'i1daumcdnnetdecocomicstopdeco2014v2icodaumv7pngv1324: 1', '진실: 1', '나를: 1', 'width28pxbackgroundposition75px: 1', '엑소: 1', 'eaebefbackgroundcolorf9fafbcolor222letterspacing2pxtextaligncentertextdecorationnonewebkitboxshadowinset: 1', 'listgoods: 7', '65pxtextindent9999px: 2', 'width179pxheight183px: 1', 'backgroundposition605px: 2', 'svcmorelink: 1', '부동산: 2', '처음숲을: 1', '모두가: 1', 'bline: 1', '379px: 2', 'contdaysale: 7', '하프클럽: 1', 'width188pxheight283px: 1', '광주: 1', 'dotum돋움sansserifcolora1a1a1: 1', '그것이알고싶다: 2', 'height249px: 1', 'positionabsolutetop38pxleft0zindex9999width100padding0: 1', 'width224px: 1', 'displayinlineblockwidth653pxborderbottom1px: 1', '추천: 2', 'wrapmycont: 1', 'floatleftwidth280px: 1', '반할: 1', 'top0left0width54pxheight41pxbackgroundposition110px: 3', 'overflowhiddenpositionabsolutetop50pxleft91pxwidth17pxheight14pxbackgroundposition40px: 1', 'white: 19', 'width190pxheight160pxborderbottom1px: 1', 'nonebackgroundcolortransparentcursorpointer: 1', '향기: 1', 'left132pxwidth101pxbackgroundposition410px: 1', 'adtimead: 1', 'wraptabcont: 12', 'brunchon: 2', '바로: 29', 'wraptierfixcont: 1', '330px: 4', '365px: 3', 'eeeef0: 6', 'wrapmy: 4', 'wraplife: 1', 'overflowhiddenfloatleftwidth37pxmargintop1pxpaddingleft9pxfontsize10pxlineheight12pxcolor81838cwhitespacenowrap: 1', '칩거: 1', 'backgroundposition1px: 4', 'a9abb0bordertop0: 1', 'backgroundposition430px: 1', '따뜻한: 1', '이겨야: 1', 'displayinlineblockwidth278pxheight562pxborder1px: 1', 'height50px: 3', 'width397pxheight283px: 1', '모으다: 1', 'floatleftpadding14px: 1', 'height291pxpaddingtop36px: 1', 'positionabsolutetextindent9999pxcursorpointer: 1', '만에: 1', 'icotopic: 2', '15px: 79', '괴한: 1', '책: 4', 'overflowhiddenpositionrelativewidth500pxheight53px: 1', 'a5a6accolor000: 1', '7pxpadding1pxbackgroundposition465px: 1', 'webkitappearancenone: 2', 'icog: 5', 'displayinlineblockoverflowhiddenheight100backgroundfffverticalalignmiddle: 1', 'icotime: 1', 'overflowhiddenwidth179pxheight87pxbordertop1px: 1', '1760px: 1', 'b5b8bfborderradius12pxfontsize52pxlineheightnormalbackgroundimagewebkitgradientlinear: 1', '유이: 2', '에버턴: 1', 'rgba000006: 2', '비밀번호: 2', '떠나요: 1', 'urlhttp: 42', '당근길: 2', 'height15px: 34', 'txtnotice: 1', 'btnlayer: 2', 'top0left0width54pxheight41pxbackgroundposition55px: 2', 'backgroundposition413px: 2', 'bottom16pxleft416px: 1', '227pxcolored5c5e: 1', 'overflowhiddenfloatleftwidth127pxmarginright5pxpaddingleft9px: 1', '158℃: 1', 'floatleftwidth46pxheight25pxmarginright6pxbackgroundposition0: 1', 'descstoryhover: 1', 'titfun: 4', 'PC에서만: 1', 'icoevent: 1', 'blogguisortablehelper: 1', 'height62px: 1', '여행: 1', 'margintop7pxlineheight19pxcolor757474: 1', '0font11px: 1', 'btnmmsrelay: 1', '0colorfff: 2', '1위: 3', 'icocelsius: 1', 'titrealestate: 4', '역대급: 1', 'marginleft2pxfontsize14pxcolordedede: 1', 'left111px: 2', 'backgroundcolortransparent: 4', 'icomono: 1', '부모가: 1', 'displayblockpadding5px: 1', 'margintop2px: 2', '380pxtextindent9999px: 1', 'colord5d4d8: 1', 'overflowhiddenheight19pxpadding2px: 1', '시킨: 1', 'btnlocate: 1', '49px: 8', 'wrapsub: 3', 'a5a6acborderleft1px: 2', '꼭: 1', '880px: 4', '60px: 19', 'overflowhiddenwidth188pxpaddingtop10pxbordertop1px: 1', '전일대비: 2', 'edededbackgroundcolorf8f9fa: 1', 'displayblockpositionabsolutetop0left0width280pxpaddingtop120pxtextaligncenter: 1', 'paddingleft14pxbackgroundposition1px: 1', 'titcafe: 4', 'overflowhiddenpositionabsolutewidth0height0lineheight0textindent9999px: 1', 'mycontfoot: 1', 'floatleftwidth201px: 1', '날씨: 3', '250px: 6', '도움말보기: 1', '405px: 1', 'rankcont: 1', 'layoutheadlinevertical: 1', '롯데홈쇼핑: 1', '20px: 57', 'backgroundposition180px: 6', 'left69px: 1', '0lineheight12px: 1', 'positionabsolutetop0right0width940pxheight33pxborderbottom1px: 1', 'd8d9dbverticalaligntop: 1', 'listimg: 32', '직접: 3', 'cafeg: 7', '210px: 8', 'i1daumcdnnetdecotop2012logout20121016png: 1', 'color: 200', 'top129pxwidth167pxheight23pxpadding9px: 1', 'backgroundposition350px: 2', '205px: 4', 'displayblockfontsize11pxcolor262626: 1', 'top259pxleft369pxwidth21pxheight17pxbackgroundposition60px: 1', 'listrel: 2', 'linkprivacy: 1', 'width179pxheight116pxborder1px: 2', 'width167pxheight45pxpadding10px: 2', 'contfeature: 3', 'fontsize14pxlineheight22px: 1', '김철현: 1', 'floatleftwidth175pxheight144pxpadding15px: 1', '117도: 1', '벽돌: 1', 'zindex1backgroundcolor4e82eebackgroundposition117px: 1', 'linkinfo: 1', 'c4cdd6: 2', '22pxbackgroundposition0: 1', 'color3f4145: 1', 'noticelogout: 1', 'titspe: 1', '잡아먹어: 1', 'width940pxmargin0: 1', '182℃: 1', 'overflowhiddenpositionabsolutetop171pxheight30pxfontsize11pxletterspacing1pxtextaligncentertextindent9999px: 1', '봇물: 1', '안내: 4', 'linksvcall: 1', '3f78dffontsize12pxlineheight17pxfontfamily굴림gulimsansserifbackgroundcolorfff: 1', '하락: 1', 'border0: 10', '75px: 12', 'icofavor: 1', 'layersteady: 4', 'margin4px: 8', 'liststylenone: 1', 'floatleftpositionrelativezindex0width266pxmargintop14px: 1', 'width98pxheight50px: 1', 'contspe: 1', 'height375px: 1', 'rgba000006boxshadowinset: 1', '난민들: 1', '뚝딱: 1', '술도: 1', 'backgroundposition200px: 1', 'overflowhiddenwidth258pxpadding8px: 1', 'icosuggest: 4', '3pxlineheight47pxbackgroundposition0: 1', 'linkweather: 42', 'btnsave: 1', 'displayinlineblockcolor5d6273verticalaligntop: 1', '20pxbordertop2px: 1', 'overflowhiddenpositionabsolutetop22pxright20pxwidth110pxheight15pxbackgroundposition95px: 1', 'baseBox: 3', '89pxcolor777: 1', '251px: 2', 'floatnone: 3', 'overflowhiddenwidth244pxpadding14px: 1', '공지사항: 1', 'floatrightpaddingleft0backgroundnone: 1', '18pxborder1px: 1', 'fontsize11pxcolor555letterspacing1px: 1', 'btnbefore: 1', 'eeeef0backgroundcolorf7f7f7: 2', '상승11: 2', 'positionabsolutetop23pxright39pxheight13pxfontsize11pxlineheight14px: 1', 'btncaster: 1', 'top227pxwidth160pxpadding5px: 1', 'overflowhiddenwidth66pxheight74pxfontsize11pxlineheight14pxtextaligncentercolor414141letterspacing1px: 1', '국가: 1', 'displaynone: 8', 'width385pxheight101px: 1', '만화속세상: 1', 'color8f8f8ftextdecorationunderline: 1', 'eventteam: 1', 'width280: 13', 'textaligncenter: 28', '3pxletterspacing1px: 3', 'infothumb: 6', 'issuetypetxt: 4', 'icoarrowequal: 1', '운세: 1', 'floatleftpadding9px: 1', '함정: 1', 'listmainsvc: 3', '301pxcolore73923: 1', '1980px: 1', '크로아티아: 1', 'backgroundposition310px: 4', 'displayblockoverflowhiddenwidth278pxheight80pxmargintop8px: 1', 'displaynonepositionabsolutetop0left0width100backgroundcolor000filteralphaopacity60opacity06: 1', '참석: 1', 'fsttxt: 2', 'wraptvpot: 6', 'top47pxright10px: 1', 'sectioncontents: 2', '35px: 15', '8pxlineheight15pxbackgroundurlhttp: 1', 'titbestlike: 4', 'listthumb: 24', '메일: 2', '144℃: 1', 'overflowhiddenpositionrelativewidth266pxheight61px: 1', 'width41pxbackgroundposition50px: 1', 'itemvs: 2', '영화: 3', 'color848585: 1', '동영상: 8', '뉴스홈: 1', '입니다: 22', 'articledaum: 1', 'titblog: 4', 'btnnext: 4', 'tithope: 4', '청소년보호정책: 1', 'backgroundcolorf8f8f8textdecorationnone: 1', 'ㅅㅇ: 1', 'left9999px: 1', '126px: 22', 'displayblockheight22pxlineheight22pxtextaligncentercolor777b80: 2', '4위: 2', '950px: 1', '쓰담쓰담: 1', 'on: 1198', '20pxfontsize0: 1', 'marginright5pxbackgroundposition355px: 1', 'outline1px: 1', '©: 1', 'IP보안: 2', 'icopush: 3', 'floatleftwidth24pxheight20pxheight24pxmargin5px: 1', 'width52pxbackgroundposition130px: 1', 'or: 593', '1100px: 1', 'enteron: 2', '광고: 4', 'height416pxpaddingtop43px: 1', 'color333: 3', '특가: 3', 'overflowhiddenwidth181pxheight142pxbackgroundurlhttp: 1', 'displayblockoverflowhiddenwidth278pxheight120px: 1', 'txtarea: 1', '위해개인: 1', 'servicegroup: 1', 'icoarrowdown: 1', '4559e9: 6', '롯데i몰: 1', 'imgdaum: 11', '안달: 1', 'titmovie: 4', '김홍규: 1', '접근성: 2', 'infogame: 1', 'floatleftwidth21pxheight23pxmargintop3pxbackgroundposition120px: 1', '세계적: 1', '건조할때마다자꾸찾게돼: 1', 'top127pxleft370pxwidth20pxheight24pxbackgroundposition15px: 1', '80px: 43', 'backgroundposition70px: 2', 'shopmall: 1', 'displayblockwidth22pxheight12pxmargin21px: 1', 'bordertop1px: 14', '삼례: 1', 'marginleft1pxpaddingleft1pxbackgroundposition97px: 3', 'width399pxheight340pxborderbottom1px: 1', '밖은: 1', 'height110pxmargin0: 1', '600: 3', 'top6pxleft5pxwidth28pxheight28pxbackgroundposition0: 1', '공포의: 1', 'floatleftwidth13pxheight13pxmargintop1pxtextindent9999px: 1', '10위: 2', 'mypeopleg: 2', '접합: 1', 'padding4px: 6', 'txtlabid: 1', 'wrapbestlike: 5', 'backgroundposition80px: 2', 'displayinlineblockoverflowhiddenwidth18pxheight26pxmargintop4pxfontsize0lineheight0verticalaligntop: 1', 'positionabsolutetop146pxleft943pxzindex98width57pxheight105pxbackgroundurlhttp: 1', '완성: 1', '이마트몰: 1', 'backgroundposition69px: 2', '모바일: 1', 'screenout: 2', 'adstation: 1', 'backgroundposition45px: 1', 'stockg: 7', 'backgroundposition60px: 5', 'positionrelativezindex10width279px: 1', 'floatleftwidth32pxheight21pxtextindent9999px: 1', 'floatleftwidth73pxheight47pxmargin28px: 1', 'servicebottom: 2', '0marginleft6pxverticalalignmiddle: 1', 'overflowhiddenwidth278px: 8', 'width250pxheight220pxmarginright24px: 1', 'width18pxheight17pxbackgroundposition75px: 1', '6pxpadding0fontsize1pxlineheight1pxbackgroundcolore5e5e5: 1', '로또: 2', 'b8bbbfbordertop0: 1', 'btnpage: 4', '18px23px: 1', 'overflowhiddenpositionrelativewidth278pxheight34pxborderbottom1px: 1', 'displayinlineblockwidth40pxheight23pxmarginright4pxlineheight23pxbackgroundposition35px: 1', 'eaeaed: 2', 'overflowhiddenbackgroundurlhttp: 2', '649pxcolorec2c2fverticalaligntop: 1', 'eaeaea: 2', 'width188pxheight159px: 3', 'displayinlinefontsize11pxlineheight13pxcolorec0000: 1', 'setstart: 1', '000outlinewebkitfocusringcolor: 1', 'fontsize14pxcolor000textdecorationnone: 1', '쇼핑도움: 1', '431pxtextindent9999px: 1', 'width100pxheight14pxlineheight14pxbackgroundposition145px: 1', 'wrapwebtoon: 2', 'top8pxright9px: 1', '1px: 348', 'overflowhiddenwidth249pxheight83pxmargin0: 1', '자동실행: 1', '15pxtextindent9999px: 2', 'teamhome: 1', '290px: 22', 'list: 163', 'fontweightnormalcolorea570a: 1', '강릉: 1', '아트: 1', 'paddingleft1pxbackgroundnone: 1', 'i1searchdaumcdnnetssearchall2009imagesuggestservicegif: 1', 'displayinlinefloatleftwidth358pxheight18pxpadding0margin11px: 1', '달콤한: 1', 'linkmyinfo: 1', 'floatleftwidth13pxheight13pxmarginright3px: 1', 'width53pxbackgroundposition130px: 1', '67pxtextindent9999pxcursorpointer: 1', 'top83pxleft164px: 1', 'i1daumcdnnetdecocomicstopdeco2014v2linedotgifv1102: 1', 'lifeon: 2', '40pxtextindent999em: 1', 'top15px: 2', '엄정화파격패션: 1', 'overflowhiddenwidth383pxheight14pxpaddingtop8pxlineheight15pxtextaligncenter: 1', 'adtime: 14', 'bodyh1h2h3h4thtdinputselecttextareabutton: 1', '147℃: 1', 'floatrightpositionstaticheight17pxpaddingleft12pxbackgroundcolorfff: 1', 'e8e8e8borderbottom1px: 1', '1320px: 3', 'strong: 1', 'marginright0backgroundposition455px: 1', '이대훈: 1', 'contg: 8', 'titlife: 4', 'displayinlineblockverticalaligntop: 1', '희망해: 3', 'fwb: 1', '레깅스: 1', 'top148pxwidth216pxheight21pxfontsize12pxlineheight15pxpadding9px: 1', 'adrightbtm: 5', 'positionabsolutebottom0left0width515pxheight31pxbackgroundcolorf4f5f7: 1', '127℃: 1', '2pxcolorddd: 1', 'overflowhiddenfloatleftwidth89pxheight64pxmarginright3pxpaddingtop11pxfontweightboldfontsize11pxlineheight12pxbackgroundurlhttp: 1', 'floatleftwidth85pxpaddingleft16pxlineheight16px: 1', '버즈: 2', 'paddingleft0backgroundnone: 2', '18px20px: 1', '울릉도: 1', '게임: 3', '노리는: 1', 'backgroundnone: 5', 'fontfamilytahomasansserif: 4', '1248pxverticalaligntop: 1', 'floatleftheight19pxpaddingleft7pxcolorfffbackgroundposition0: 1', 'Corp: 1', 'titnews5tab: 4', 'titsort: 1', 'timehour: 1', '원달러: 1', 'overflowhiddenpositionabsoluteright12pxbottom10pxheight14pxfontsize11pxlineheight14pxcolor777letterspacing1px: 1', 'txtnum: 11', 'overflowhiddenwidth203pxheight18pxmargin14px: 1', 'txtfortune: 1', '13pxlineheight18px: 1', 'wrapmain: 7', 'bottom15pxleft208px: 1', '0textaligncentercolor5b6473: 1', 'overflowhiddenwidth278pxheight273pxbordertop1px: 1', '산다는: 1', 'icow04: 1', 'icow05: 1', 'icow06: 1', 'icow07: 1', 'icow01: 1', 'icow02: 1', 'icow03: 1', 'imgweather: 3', 'icow08: 1', 'icow09: 1', 'irwa: 1', 'none: 57', '조합: 1', '0fontsize11pxlineheight14pxcolor5b6473letterspacing1px: 1', 'mysvclist: 1', '10pxbackgroundposition20px: 1', 'icodownbackgroundposition0: 1', '484pxtextindent9999px: 1', '극찬신상니트20: 1', 'displayblockfloatleftmarginright8px: 1', 'color4559e9textdecorationunderline: 3', 'width180pxheight100px: 1', 'shop4on: 3', 'floatleftmargin5px: 1', 'num4: 5', 'num5: 2', 'num6: 2', 'num7: 2', 'num0: 2', 'num1: 7', 'num2: 6', 'num3: 6', 'num8: 2', 'num9: 2', 'displayblockmargintop4pxfontsize11pxcolor959595letterspacing1px: 1', 'arialcolor000: 1', '정주행: 1', 'overflowhiddenwidth161pxheight21pxmarginright10pxpadding7px: 1', 'tvon: 2', 'positionabsolutetop283pxright9pxwidth19pxheight17pxbackgroundposition225px: 1', 'txtnum4: 1', 'txtnum3: 1', 'txtnum2: 1', 'txtnum1: 1', '6pxlineheight20pxbackgroundurlhttp: 1', '어학사전: 1', 'txtstock: 1', 'linkdaumapp: 1', '검색어: 1', 'tahomacolor000: 1', '로그인: 5', 'fr: 32', '4pxcolor444: 2', '280pxtextaligncenter: 1', 'loginsimple: 5', 'G마켓: 2', 'logininp: 8', 'a5a6ac: 5', '베스트100: 1', '흐림: 1', 'floatleftwidth100margintop8pxlineheight19pxcolor757474clearboth: 1', 'wrapdaum: 2', 'floatleftmargin19px: 1', '600px: 2', 'fl: 247', 'width58pxheight48px: 1', '휘발유: 1', 'a: 3244', 'width190pxheight340pxborderbottom1px: 1', 'width100pxheight52px: 1', 'footer: 12', 'daumContent: 1', '609px: 1', 'sortservice: 8', '주세요: 23', 'backgroundposition420px: 1', 'numprice: 4', '제주: 2', '개인정보: 3', 'readersinfo: 4', 'width410pxheight161px: 1', 'fff: 32', 'width53pxbackgroundposition0: 1', 'backgroundposition185px: 8', 'color9b01bc: 1', 'floatleft: 97', 'overflowhiddenpositionabsolutetop96pxleft0width269pxheight17pxbackgroundurlhttp: 1', '8pxlineheight15pxcolorfc6870letterspacing1px: 1', 'ellipsisg: 3', '220pxletterspacing1px: 1', 'marginbottom1px: 1', 'uisortablehelper: 7', 'top191pxheight39px: 1', 'breakingnews: 3', 'overflowhiddenpositionrelativewidth263pxheight55pxmargin21px: 1', '게현실로: 1', 'overflowhiddenfloatrightwidth138pxheight112pxlineheight100pxtextaligncenter: 1', 'rankissue: 1', 'floatleftmargin2px: 1', 'overflowhiddenpositionabsolutebottom10pxleft11pxwidth167pxcursorpointerwhitespacenowraptextoverflowellipsis: 1', 'searchon: 1', 'top47pxwidth106pxheight17pxpadding4px: 1', 'left116pxbackgroundposition117px: 1', '팁: 3', 'linksetpage: 1', 'hopeon: 2', '0lineheight15pxtextaligncenter: 1', '많이: 1', 'backgroundposition110px: 4', '거예요: 1', 'width53pxbackgroundposition340px: 1', 'wrapbrunch: 2', 'positionabsolutebottom3pxleft0width13pxheight13px: 1', 'listuser: 10', 'overflowhiddenpositionabsolutebottom15pxleft11pxwidth100pxheight19pxpaddingleft20pxlineheight23pxbackgroundposition0: 1', 'overflowhidden: 115', 'noticeblog: 2', 'wrapbook: 4', '36900원: 1', '4px: 158', 'color196adb: 2', '168℃: 2', '0backgroundposition0: 3', 'displayblockoverflowhiddenwidth188pxpadding8px: 1', 'txttv: 1', 'mypeopleguisortablehelper: 1', 'width42pxbackgroundposition170px: 1', 'wraphope: 3', '230pxtextindent9999px: 1', 'floatleftpadding1px: 1', 'left241px: 1', 'icoarrowup: 1', 'left248px: 1', '507px: 1', 'floatleftwidth37pxlineheight17px: 1', 'width397pxheight159px: 1', '보호를: 1', '0color222letterspacing1px: 1', '대: 18', 'fontsize11pxcolor555lineheight15pxletterspacing1px: 1', '옥션: 2', 'linkthesong: 3', 'tfkeywordwebkitsearchcancelbutton: 1', 'layertop: 3', 'zindex10backgroundposition0: 1', '23px: 18', 'verticalalignmiddle: 4', 'displayblockoverflowhiddenwidth46pxheight18pxmargin57px: 1', 'txtprice: 1', 'overflowhiddenfloatleftheight33pxfontweightboldlineheight35pxpadding0: 1', 'displayblockmargintop1pxfontsize11pxcolor737373letterspacing1px: 1', '느낄: 1', 'wrapdaumapp: 1', 'backgroundposition135px: 2', 'overflowhiddenpositionrelativewidth628pxheight597pxpadding37px: 1', '무장: 1', '390px: 6', 'nonezindex1: 1', 'icoup: 2', 'displayinlinefontsize13pxcolor000: 1', '15pxpaddingtop5pxfontsize11pxlineheight16pxcolor7b7b7bletterspacing1pxwhitespacenormal: 1', 'displayblockfloatleftwidth32pxheight32pxbackgroundposition120px: 1', 'layoutheadlinet2: 1', 'borderright1px: 4', 'e1e1e1backgroundcolorfbfbfb: 2', 'paddingleft48pxbackgroundposition0: 2', '247px: 1', 'tfpw: 1', '웹: 8', 'icondaumcdnnetwc130219696439712097703png: 1', 'color454545: 1', 'icow13: 1', 'icow12: 1', 'icow11: 1', 'height25pxpadding43px: 1', 'icow17: 1', 'icow16: 1', 'icow15: 1', 'icow14: 1', 'ageg: 2', 'icow18: 1', '0colorfffletterspacing1pxtextdecorationnonecursorpointer: 1', 'overflowhiddenfloatleftpositionrelativewidth52pxheight53px: 1', '15pxbackgroundposition170px: 1', '롯데닷컴: 2', 'w40: 2', 'wrapmysvc: 2', 'txtred: 2', 'txtstory: 2', 'spiritdaum: 2', 'issuetypeimg: 3', 'dsch: 6', 'blockquoteafterqbefore: 1', 'overflowhiddenpositionrelativewidth181pxheight120pxmargintop14px: 1', '120px: 9', '145px: 9', '보기: 5', 'funon: 2', '초유의: 1', 'shortcutgfocus: 1', '오늘: 6', '페이지: 15', '98pxtextdecorationnone: 1', 'paddingleft39pxbackgroundposition0: 2', 'linkagorahover: 1', 'imgmobileweb: 1', 'colord40400: 1', 'norepeat: 33', 'displayinlinefloatright: 4', '지역: 2', 'paddingleft42pxbackgroundposition0: 1', 'platebestlike: 1', 'psogame: 3', '22px: 21', 'layoutvertical: 11', '더보기: 1', '입는순간써프라이즈: 1', 'width248pxheight176px: 1', 'backgroundposition105px: 2', '총선: 1', '인재채용: 1', '미디어: 2', 'backgroundposition270px: 4', 'color676767: 1', 'tipon: 2', 'tittip: 4', 'top7pxleft7pxwidth45pxheight45pxbackgroundposition30px: 1', 'checkoff: 1', 'backgroundposition50px: 6', 'fontweightnormal: 11', 'txtagora: 2', 'displayinlineblockpositionabsolutetop13pxlineheight15pxverticalaligntop: 1', '공동성명: 1', '0padding0: 4', 'EPL: 1', '대구: 1', 'suggestexact: 38', 'paddingtop7px: 5', '246px: 1', 'listbasis: 6', '탭: 10', '나의: 1', '55px: 25', 'displayinlineblockpaddingleft8pxfontweightboldfontsize10pxlineheight10pxfontfamilytahomasansserif: 1', 'txtexact: 1', 'contsub: 1', 'displayinlineblockmargin13px: 1', 'i1daumcdnnetdecocomicstopdeco2014v2bgweatherpngv1102: 1', 'backgroundposition120px: 4', 'headlinetxt: 5', '797px: 1', 'icolabel: 2', '상승: 21', '히든싱어: 2', 'titthesong: 3', 'inputmsclear: 1', 'width8pxheight8pxmargin13px: 1', '전쟁: 1', 'overflowhiddenpositionrelativewidth200px: 1', 'color209bdb: 2', 'color303030textdecorationnone: 1', 'width44pxbackgroundposition25px: 1', 'btnend: 1', 'timethesong: 3', '7위: 2', 'displayinlinepadding0: 1', 'linkcopy: 1', 'margintop12pxpaddingleft17pxbackgroundposition1px: 1', 'titstoryhover: 1', 'paddingleft19pxbackgroundposition3px: 1', 'c4cdd6borderleft1px: 1', 'icodown: 2', '대가: 1', 'msgmyset: 1', 'displayblockoverflowhiddenpositionrelative: 5', 'offSuggest: 1', 'width220: 2', 'overflowhiddenpositionabsoluteright3pxbottom3pxwidth20pxheight20pxtextindent9999px: 1', '제휴문의: 1', 'linktotalsvc: 1', '285px: 17', 'noticedaum: 18', 'fontsize11pxfontfamilytahomasansserifcolor4c4c4c: 1', 'width70pxheight14pxlineheight14pxbackgroundposition10px: 1', 'height24pxbackgroundposition471px: 1', 'fontsize12pxlineheight15fontfamily돋움dotumsansserifcolor333: 1', '15pxverticalaligntoptextindent9999px: 1', 'left58px: 1', 'displayblockwidth26pxheight15pxmargintop4pxbackgroundposition0: 1', 'overflowhiddenfloatleftwidth279pxheight21pxpaddingleft17pxlineheight21pxwhitespacenowrap: 1', '정상: 1', 'btning: 1', '0letterspacing1pxwhitespacenowrap: 1', '함께: 1', '16px: 35', 'width149pxmarginright5pxpadding1px: 1', 'height79px: 1', 'solid: 53', 'stocktoday: 10', 'displayinlineblockmarginright4pxpaddingright8pxfontweightboldbackgroundposition100: 1', 'fieldsetimg: 1', 'icow10: 1', 'guide: 1', 'appintro: 7', 'floatrightpadding11px: 1', 'infopage: 6', 'eeeef0verticalaligntop: 1', 'recomshop: 3', 'layerie6: 6', 'labsecurity: 2', '치킨: 1', 'displayinlineblockheight14pxmargintop14pxlineheight14pxverticalaligntopwhitespacenowrap: 1', '대결: 1', 'contimport: 1', '상승98: 2', 'ㅁㅂ: 1', '카페: 4', 'displayblockheight40pxmargintop7pxpaddingleft17pxbackgroundposition1px: 1', '깜짝: 1', 'positionabsoluteright4pxbottom3pxwidth13pxheight13pxborder0: 1', 'nameadCgiBrandingStation: 1', 'floatleftheight23pxpadding10px: 2', 'linkimg: 4', 'headevent: 2', '가정용: 1', '블로그: 3', '1pxtextindent9999px: 4', 'icoreader: 1', 'b7c1caverticalaligntop: 1', 'width28pxbackgroundposition145px: 1', 'btnrecord: 1', 'paddingleft5pxlineheight12pxbackgroundnone: 1', 'srchttp: 2', 'width167pxheight143pxpadding16px: 1', '770px: 1', '오색단풍에: 1', '217px: 2', 'backgroundposition541px: 2', 'width63pxbackgroundposition390px: 1', '15420원: 1', '상품: 4', 'paddingleft41pxbackgroundposition0: 5', 'titevent: 1', '아이스엣지겨울아기다려: 1', '13pxlineheight15pxwhitespacenowraptextoverflowellipsis: 1', '160px: 6', '제주에서: 1', '95px: 8', 'backgroundposition85px: 1', 'left61px: 1', '15pxlineheight13pxwhitespacenowrap: 1', 'bottom23pxleft370px: 1', '국민당: 1', 'displayblockwidth130px: 1', 'titwebtoon: 4', 'icogivehover: 1', 'displayblockoverflowhiddenpadding25px: 1', 'bgframe: 1', 'floatleftpositionrelativewidth444pxmargintop28px: 1', '0border0: 1', 'noticestart: 2', 'itemhover: 1', 'wrapnews: 2', 'btnsvcmove: 1', 'nameadCgiTimeSponsor: 1', 'findpw: 1', 'frameborder0: 2', '1pxbackgroundcolore1e1e1: 2', 'boxuser: 10', 'w41: 2', 'e1e1e1cursorpointer: 1', 'displayinlineblockheight23pxpadding10px: 1', 'btnclose: 7', 'positionrelativeheight103px: 1', '친구들: 1', '울산: 1', 'emphtxt: 1', 'fontsize12pxcolor000textdecorationnone: 1', 'positionrelativewidth100zindex101: 1', 'listmyset: 15', 'txtred2: 1', 'overflowhiddenzindex0width280pxheight143px: 1', '루리웹: 1', 'icophoto: 7', '105px: 8', 'backgroundposition150px: 2', '1분: 1', '다른: 2', '12px18px: 1', '광고안내: 1', 'top30px: 3', '매일하는: 1', 'color6f6f6f: 1', 'i1daumcdnneticon2013topmorelayerbglinev2gif: 1', '8px: 136', 'num10: 1', 'wrapnews5tab: 1', '새: 2', '코치해외직구말도안돼4만: 1', 'bottom16pxleft209px: 1', 'height43pxpaddingtop12px: 2', 'frameg: 23', 'width940pxmargin4px: 1', '3f4243fontsize11pxlineheight14pxbackgroundcolor26292acolorfffletterspacing1pxtextaligncenter: 1', 'newslink: 1', 'fontweightboldfontfamily돋움dotumhelveticasansserifcolor557df6: 1', 'overflowhiddenwidth272pxheight29pxpadding6px: 1', 'txtmyset: 1', 'icodaum: 5', 'span: 2', '지도: 3', 'positionabsolute: 58', 'contstory: 48', 'width70pxheight101pxmargin7px: 1', '178℃: 1', 'fontfamily굴림gulimsansserifcolor363b4a: 1', '기획전홈: 2', '급증: 1', '96px: 8', 'txtvs: 1', 'overflowhiddenwidth515pxpaddingbottom12pxbackgroundurlhttp: 1', 'line: 220', 'linkbasis: 2', '0color5b6473letterspacing1px: 1', 'padding12px: 4', 'mycafeon: 4', 'zindex1backgroundcolor4e82eebackgroundposition60px: 1', 'positionrelativemarginright90pxclearboth: 1', 'cacbce: 1', '24px: 17', '170pxtextaligncenter: 1', 'bigimg: 6', 'wraptiertop: 2', '다음웹툰: 1', 'fontsize12px: 10', '마일리지: 1', 'floatrightmargin25px: 1', '신세계몰: 1', 'positionabsolutetop0left22pxfontsize11pxlineheight14pxletterspacing1px: 1', 'shortcutg: 6', '수원: 1', 'storyballon: 2', 'suggestexacthover: 1', '액션만화: 1', 'TV: 2', '13pxletterspacing1px: 1', 'marginright8px: 2', '다음앱: 3', 'wrapentertain: 1', 'titconthover: 1', 'top0left0width54pxheight41pxbackgroundposition0: 2', 'labagain: 1', 'left154px: 1', 'floatleftmaxwidth117pxwidth117pxmargintop5pxfontsize14px: 1', '위한: 1', '0border2px: 1', '닮: 1', 'tit5: 1', 'tit4: 1', '550px: 1', 'tit1: 1', '505px: 1', 'tit3: 1', 'tit2: 1', '영상: 10', 'documentwritelniframe: 2', 'displayaddaumnetimpslotid0K906: 1', 'floatleftpositionrelativewidth220pxheight105pxmarginright5px: 1', 'displayaddaumnetimpslotid0K905: 1', 'contshop: 66', '9pxheight21pxlineheight21px: 1', 'overflowhiddenfloatleftwidth282pxheight112pxtextaligncenter: 1', 'shortcutgactive: 2', '8pxlineheight15pxwhitespacenowrap: 1', '대선후보: 1', '유익한: 2', '14pxbackgroundposition10px: 2', 'dlulolmenuli: 1', 'displayinlineblockmarginright6pxheight11pxfontsize10pxlineheight11pxverticalaligntop: 1', '페이지13: 1', '부산: 1', '페이지11: 1', '25px: 32', 'daumSuggestWrap: 1', 'positionabsolutetop0left0width36pxheight20pxbackgroundposition80px: 1', '상봉시간: 1', 'defaulttxt: 10', 'i1daumcdnnetdecocomicstopdeco2014v2barplatepngv1102: 1', 'backgroundposition2px: 3', 'margintop11px: 4', '실시간: 2', 'txtissue: 2', 'left1pxtop1pxpadding0: 1', '직접민주주의: 1', 'backgroundposition75px: 3', '420px: 2', 'button: 5', '110px: 10', 'bgdaum: 8', 'ㄱㄹ: 1', 'paddingleft47pxbackgroundposition0: 3', 'todayopen: 2', '562px: 2', 'positionrelativedisplayblockheight100pxborder1px: 1', 'fontweightnormalcolore5333d: 1', 'Kakao: 1', 'floatleftmarginright2px: 1', '0backgroundurlhttp: 3', '재밌는: 2', '135px: 4', 'infotemper: 15', 'backgroundposition13px: 41', '웹툰: 4', 'numbasis: 1', '6pxlineheight16pxcolor262626: 1', 'mysetbtn: 1', 'wrapcont: 1', 'DanJeong: 1', 'left80pxwidth120pxbackgroundposition285px: 1', 'displayblockoverflowhiddenheight23pxpaddingtop10pxlineheight15pxbackgroundurlhttp: 1', 'displayblockoverflowhiddenpositionrelativezindex1width100height100: 1', 'displayblockcursorpointer: 1', 'margin0padding0: 2', '초간단: 1', 'body: 3', 'positionabsolutetop0left0border1px: 1', 'width620pxheight161px: 1', 'width278pxheight105px: 1', 'backgroundposition306px: 1', 'tistoryg: 2', 'listmysvc: 10', 'floatleftwidth230pxmarginright17px: 1', 'typepso: 2', 'topautobottom62pxleft166px: 1', 'wraptoday: 3', 'displayinlineblockpositionrelativewidth280pxheight34pxborderbottom1px: 1', 'overflowhiddenwidth922pxpadding11px: 1', 'fontstylenormalfontweightnormal: 1', 'titedu: 4', 'displayinlineblockwidth627pxpaddingright1pxverticalaligntop: 1', '중동: 1', '10pxcolor555: 1', '뉴스: 4', 'innershortcut: 1', '안정환: 2', 'overflowhiddenpositionabsoluteleft0fontsize12pxbackgroundposition20px: 1', 'wrapsports: 1', 'innertxt: 1', 'displayinlineblockheight110pxverticalaligntop: 1', '397ce0fontsize11pxlineheight20pxbackgroundcolor3f8af9textalignleftcolorfffletterspacing1pxtextdecorationnonecursorpointer: 1', 'i1searchdaumcdnnetssearchall2013bgbgshadowpng: 1', '오늘만: 1', '뉴스펀딩: 1', '11pxbackgroundposition0: 3', '개인정보취급방침: 2', '내용을: 22', '7px: 130', 'descstory: 9', '잇다: 1', '스포츠: 3', '브런치: 3', 'listpolicy: 6', 'width30pxbackgroundposition451px: 1', 'num20: 1', 'overflowhiddenpositionrelativeheight17pxmargintop5pxlineheight17pxfontfamily굴림gulimsansserif: 1', 'overflowhiddenfloatleftwidth130pxheight70pxlineheight14px: 1', 'margintop3px: 3', 'linkupgrade: 1', 'idadCgiBrandingStation: 1', '개정: 1', 'marginright6pxwidth15pxbackgroundposition425px: 1', '166℃: 1', 'i1daumcdnnetdecocomicstopdeco2014v2imgdaumvertv3pngv1130: 8', 'width15pxbackgroundposition86px: 1', 'icolotto: 1', 'shop2on: 3', '포토: 2', '17px: 32', 'marginbottom7px: 1', 'marginheight0: 2', 'borderbottom1px: 15', 'i1daumcdnnetdecotop2012startblognone20121023png: 1', '379pxcolor6d7078: 1', 'marginbottom4px: 1', '470px: 1', '1650px: 3', 'mymileage: 1', '5pxbackgroundposition0: 4', 'wrapstoryball: 4', 'listrecomsvc: 4', 'positionrelativeheight19pxpadding4px: 1', 'i1searchdaumcdnnetssearchall2014icoicoweathersize3gif: 1', 'relshop: 7', 'left115px: 1', 'displayinlineblockwidth938pxheight67pxborderright1px: 1', '소개: 2', 'tilesstory: 36', 'fromfff: 1', 'offGuide: 1', 'color383b42: 2', 'padding3px: 1', '310px: 10', 'textdecorationnonelistmysvc: 1', '345px: 5', 'linkstock: 1', '연하녀의: 1', '만난: 1', '65px: 11', '0lineheight42pxtextaligncentercursormove: 1', 'displaynonepadding0: 1', 'color3770bf: 1', 'linkmobile: 1', '그: 12', 'linkmysvc: 8', 'overflowhiddenfloatleftwidth66pxheight39pxlineheight39pxbackgroundposition378px: 1', 'loginmy: 18', 'f3f3f3fontsize11pxfontfamily돋움dotumsansserifbackgroundcolorf8f8f8letterspacing1pxclearboth: 1', 'backgroundposition451px: 3', 'overflowhiddenpositionabsolutebottom10pxleft208pxwidth167pxcursorpointerwhitespacenowraptextoverflowellipsis: 1', 'positionrelativeheight20pxpadding6px: 1', 'degreeg: 1', '환율: 1', '12pxfontweightnormalfontsize11pxlineheight20pxcolorfffletterspacing1px: 1', 'margintop9px: 8', 'color000: 14', 'paddingleft51pxbackgroundurlhttp: 1', 'overflowhiddenpositionabsolutetop0right0width68pxheight37pxtextindent9999px: 1', 'li: 857', '청주: 1', '134℃: 1', '아이디: 2', 'floatleftwidth176pxheight143pxpadding16px: 1', 'auto: 10', 'colorda4453: 1', '037: 1', 'backgroundposition360px: 1', 'width12pxheight13pxpaddingright14pxbackgroundpositionright: 1', '0fontsize14pxlineheight16pxfontfamilyverdanasansserifletterspacing1px: 1', '쇼핑홈: 1', 'boxsearch: 1', 'inpprotect: 1', '열정樂서: 1', '10px: 78', '14px16px: 1', '705pxletterspacing1px: 1', 'icovs: 1', 'top139pxheight40pxpaddingtop6px: 1', 'left1pxwidth61pxbackgroundposition0: 1', 'paddingleft45pxbackgroundposition0: 1', 'w19: 2', 'w18: 3', '3pxbackgroundposition0: 6', 'w16: 3', 'w15: 3', 'w14: 3', 'w13: 3', 'w12: 3', 'w11: 3', 'w10: 3', 'FUN: 1', 'stockguisortablehelper: 1', 'floatleftmargin1px: 1', 'titsong: 1', 'width156pxheight20pxpadding8px: 1', 'width278pxheight33pxbordertop1px: 1', 'floatleftwidth655pxmarginright5pxbordertop1px: 1', 'bottom97px: 1', 'displayblockpositionrelative: 2', 'positionrelativefloatleftwidth92pxheight33pxpadding1px: 1', '58px: 9', 'linkempathy: 1', '0lineheight14pxcolor777letterspacing1pxtextdecorationunderline: 1', 'margintop4pxletterspacing1px: 1', 'backgroundposition410px: 2', 'floatleftwidth15pxheight13pxmargin4px: 1', 'positionrelativetop0left0zindex99: 1', 'positionrelativetop0left0zindex98: 1', 'eduon: 2', '12pxfontweightnormallineheight12pxbackgroundposition370px: 1', 'overflowhiddenfloatleftheight19pxpaddingright5pxlineheight20pxbackgroundposition100: 1', 'mizneton: 2', '45px: 31', 'width181pxbackgroundposition166px: 1', '따른: 1', 'width80pxheight14pxlineheight14pxbackgroundposition185px: 1', '따를: 1', 'backgroundposition285px: 11', 'repeatx: 3', 'repeaty: 1', 'top1pxwidth55pxheight32pxbackgroundf9f9f9: 1', 'floatleftwidth48pxheight70pxclearboth: 1', 'displayinlineblockoverflowhiddenmaxwidth100paddingright2pxwhitespacenowraptextoverflowellipsisverticalaligntop: 1', '아고라: 2', '베니: 2', 'height45pxpaddingtop10px: 2', 'width13pxmargin6px: 1', 'color00a0b6: 2', 'color4689df: 1', 'displayblockoverflowhiddenpositionrelativewidth387pxheight103px: 1', '142px: 2', 'overflowhiddenborderright1px: 1', 'linkfind: 2', 'titdaumspe: 1', '사용해: 1', 'loadingmy: 1', '약관: 3', 'positionabsolutetop5pxright9pxwidth21pxheight21pxbackgroundposition175px: 1', '1540px: 2', 'floatleftwidth90pxfontsize11pxlineheight14pxletterspacing1pxtextaligncenter: 1', 'fontsize11pxcolor2156c0letterspacing1px: 1', 'b8bbbfborderbottom0: 1', 'floatleftwidth15pxheight18pxbackgroundposition0: 1', '0backgroundposition485px: 1', 'mykeyword: 1', 'backgroundposition320px: 1', 'overflowhiddenwidth376pxheight35pxpadding20px: 1', 'positionrelativewidth113pxheight103pxmargintop13pxpadding0lineheight14pxtextaligncenterclearbothwhitespacenormal: 1', 'titmiznet: 4', 'num30: 1', '1129px: 1', 'servicetop: 4', '13pxfontsize11pxlineheight14pxcolor262626: 1', '85px: 30', 'i1daumcdnnetimgsrcsearchsearchall2012icoicocomm2120614gif: 1', 'left170pxbackgroundposition171px: 1', 'displayblockwidth280pxmargin0: 1', '7pxborder1px: 2', 'wrapedu: 2', '1210px: 4', '9pxbackgroundurlhttp: 1', '150px: 5', 'displayblockwidth66pxheight18pxbackgroundposition69px: 1', 'linktit: 78', 'setagain: 1', 'bottom96px: 1', '할래요: 1', 'positionabsolutetop18pxright11pxpaddingright7pxfontsize11pxlineheight14pxbackgroundposition100: 2', '순천: 1', '0color5e646f: 1', 'wraprealestate: 1', 'icoupbackgroundposition0: 1', '편리한: 1', 'overflowhiddentop0textdecorationnone: 1', '올리자마자예쁘다고난리: 1', 'color61646e: 1', '대신: 1', 'icogive: 4', '619px: 1', '전주: 1', 'tvpoton: 2', 'overflowhiddenwidth188pxpaddingtop15pxbordertop1px: 1', 'color36a0e4: 1', 'i1daumcdnnetdecocomicstopdeco2014v2imgweatherpngv1102: 1', 'nonefontsize11pxfontfamily돋움dotumsansserifbackgroundf8f8f8: 1', 'linkevent: 13', 'floatleftwidth68pxheight25pxbackgroundposition50px: 1', 'BGM: 1', '위메프: 2', 'weathertoday: 1', 'overflowhiddenwidth608px: 1', 'contvs: 2', 'fontsize16pxlineheight26px: 1', 'width6pxmarginleft1pxbackgroundposition170px: 1', '30px: 43', 'BEST: 1', '971px: 1', '신규앱: 1', 'stockup: 2', 'width188pxheight103px: 1', 'overflowhiddenfloatleftwidth71pxmargintop4pxwhitespacenowraptextoverflowellipsis: 1', 'width31pxbackgroundposition32px: 1', 'displayinlineblockpositionrelativezindex0width940pxheight112pxmargintop34pxverticalaligntop: 1', '보고싶은조선학교: 1', 'positionabsolutetop9pxright43pxpaddingleft7pxlineheight15pxbackgroundposition0: 1', '5px: 301', 'labpw: 1', 'CJ몰: 1', '칭따오: 1', 'overflowhiddenwidth278pxheight32pxlineheight35pxbordertop1px: 1', '50년: 1', '151℃: 1', 'height52px: 3', 'icohot: 2', 'floatnonemargin0padding0: 1', 'width179pxheight233px: 1', '14pxlineheight15pxcolor477ae4letterspacing1px: 1', '90px: 58', 'innerevent: 1', 'overflowhiddenwidth515pxbordertop1px: 1', 'colorf73a40: 1', 'lst: 4', 'ecececfontsize0lineheight0: 2', 'height24pxbackgroundposition285px: 1', '펼치기: 1', '중계센터: 1', 'infocont: 4', 'floatleftwidth228pxheight159pxbordertop1px: 1', '46475bclearboth: 1', 'btnvdorelay: 1', '–: 1', '775pxcolorf25334cursorpointer: 1', 'left141px: 1', '서비스: 8', '맨유: 1', 'sectionmulti: 47', 'e8e8e8lineheight20pxbackgroundcolorfbfbfb: 1', 'displayinlinemarginleft1pxpaddingleft2pxbackgroundurlhttp: 1', 'icosteadybackgroundposition0: 1', 'overflowhiddenpositionabsolutetop7pxright7pxwidth54pxheight25pxtextindent9999px: 1', 'btndaum: 3', '510px: 1', 'floatleftmarginright10px: 1', '책임져라: 1', 'positionrelativezindex0width181pxheight118pxmargin15px: 1', 'backgroundposition370px: 2', 'wrapmovie: 1', 'bestlikeon: 2', 'txtexchange: 1', 'width144pxmarginright0padding12px: 1', 'w08: 3', 'w09: 3', 'txtweather: 2', '운동: 2', 'w04: 3', 'w05: 3', 'w06: 3', 'w07: 3', 'w01: 3', 'w02: 3', 'w03: 3', '165pxtextindent9999px: 1', 'utiltop: 3', 'height24pxbackgroundposition378px: 1', '판매: 1', '350px: 4', 'floatleftwidth430pxheight105pxmarginright5px: 1', 'wraptiercont: 1', '430px: 11', 'linknum: 1', 'overflowhiddenfloatleftpaddingleft16pxbackgroundurlhttp: 1', 'titappimport: 1', 'letterspacing1px: 53', '939px: 1', 'width111pxheight66px: 2', '라이프: 2', '이름표: 1', '유혹의: 1', 'width94px: 2', '미시12주년신규무료배송: 1', 'e5e5e5: 2', 'width258pxmarginright5px: 1', '0lineheight15pxverticalalignmiddletextalignleft: 1', 'titbestreader: 1', 'overflowhiddenfloatleftheight40pxmargintop0backgroundposition0: 1', '주차장: 1', '22pxfontsize11pxlineheight14pxletterspacing1px: 2', 'newson: 2', '어울리는: 1', 'backgroundposition0: 111', '韓美: 1', 'paddingleft53pxbackgroundposition0: 1', '10pxbackgroundposition100: 1', 'iconormal: 1', '속보: 1', 'layoutverticalt4: 9', 'splitg: 1', '455px: 2', '415pxcolor535353textaligncentertextdecorationnoneverticalaligntop: 1', '후보로: 1', '만화홈: 1', '금융: 1', 'fontweightboldcolorfff: 5', 'marginbottom5px: 3', '공감: 1', 'overflowhiddenwidth200pxheight221pxmargintop11px: 1', 'zindex1backgroundcolor4e82eebackgroundposition225px: 1', 'vs: 7', '170pxverticalaligntoptextaligncenter: 1', '할리우드: 1', '4pxcolor444verticalaligntop: 1', 'width42pxbackgroundposition90px: 3', 'nonebackgroundcolorfff: 1', '8위: 2', 'overflowvisibleoverflowxhiddenwidth399pxheight160pxhorizontalimg: 1', 'width83px: 2', 'num40: 1', 'top7pxright10px: 2', 'colorfff: 24', 'e1e1e1borderleft0: 2', 'color434a55: 1', 'contentcontentnone: 1', 'blockquotebefore: 1', 'nonefontweightboldfontsize16pxlineheight18pxfontfamily돋움dotumsansserifbackgroundcolortransparentoutlinenoneimemodeactivewebkitappearancenone: 1', 'positionrelativezindex103: 1', '음악: 1', 'headlineimg: 12', 'positionrelative: 47', 'linkkids: 1', 'linkcontvisited: 2', 'tv팟: 4', 'ececec: 5', '맛을: 1', 'overflowhiddenfloatleftwidth113pxmarginright24pxlineheight14pxtextaligncenter: 1', 'floatleftpadding4px: 1', 'left406px: 1', '440px: 2', 'myblogon: 4', 'stockdown: 2', 'displayinlineblockheight14pxmargin19px: 1', 'backgroundposition90px: 11', 'loadingon: 1', '297px: 1', 'width37pxbackgroundposition180px: 1', 'tittv: 8', 'ageguisortablehelper: 1', 'width54pxbackgroundposition481px: 1', 'linkapp: 1', 'overflowhiddenfloatleftwidth100pxheight22pxpadding4px: 1', 'topautobottom63pxleft169px: 1', 'icotag: 3', '351pxcolor196adb: 1', 'margintop1px: 6', 'floatleftmarginright14pxlineheight15px: 1', '춘천: 1', '클렌징과: 1', 'width10pxmargintop1pxbackgroundposition218px: 1', '2위: 3', 'layermycont: 14', 'top20px: 1', 'overflowhiddenheight1pxmargin7px: 1', '31pxborder1px: 2', '396px: 1', 'displayinlinepaddingleft18pxbackgroundposition9px: 1', '230px: 6', '설정: 3', '11px: 81', '532pxwhitespacenowrap: 1', 'paddingtop13px: 1', '270px: 5', 'left291px: 1', 'EBS지식: 1', 'height60px: 1', 'linkprogram: 2', 'color005dde: 1', 'top21pxright0: 1', '4pxborder1px: 1', 'positionrelativewidth940pxzindex100: 1', 'displayblockcolor959595: 1', '현재: 10', '1198px: 1', 'GS샵: 1', 'width158pxheight50pxcursorpointer: 1', 'titcont: 3', 'displayblockoverflowhiddenheight30pxmargin1pxfontweightnormalfontsize12pxlineheight33pxfontfamily굴림gulimsansseriftextaligncentertextdecorationnonecolor000letterspacing1px: 1', 'displayblockoverflowhiddenpositionrelativewidth280pxheight107pxmargintop5px: 1', 'linkpolicy: 2', '136℃: 1', 'displayblockpadding8px: 1', 'overflowhiddenwidth427px: 2', 'nonelineheight21pxbackgroundcolortransparentimemodedisabled: 1', 'left449px: 1', '113300: 1', 'titbrandspe: 1', '원: 7', 'btnsearchhover: 1', '347px: 1', 'wrapgame: 3', 'width235pxpaddingright23px: 1', 'backgroundposition477px: 2', 'txtinfo: 2', '눌러주세요: 22', '양들: 1', '190px: 10', '박명수: 2', 'positionrelativewidth200pxheight245pxpadding24px: 1', '동남구: 1', 'height63pxmargintop12px: 1', 'margintop5pxlineheight15px: 1', 'left481px: 1', 'paddingleft10pxcolor383b42: 1', 'tiertopalpha: 1', 'paddingleft11pxbackgroundposition0: 2', '만든: 1', '지식공간: 1', 'marginright11px: 1', '관련: 2', 'displayblockheight54pxpaddingtop7px: 1', 'wraptip: 10', 'w17: 3', 'e1e1e1borderbottom1px: 2', '이산가족: 1', '3위: 3', 'titstoryball: 4', 'linkmysvchover: 1', 'mobileweblink: 3', 'backgroundposition400px: 1', 'iconewarr: 2', 'infothesong: 3', 'contcopy: 6', '패션플러스: 1', 'adtodaybrand: 1', '백과사전: 1', 'top16px: 3', 'color262626textdecorationnone: 1', 'w31: 2', 'w30: 2', 'w33: 2', 'w32: 2', 'w35: 2', 'w34: 2', 'w37: 2', 'w36: 2', 'w39: 2', 'w38: 2', '오빠의: 1', 'fontsize11pxcolor477ae4letterspacing1px: 1', 'btnreset: 1', '0textindent9999px: 3', 'marginbottom: 7', 'eon: 20', 'tittabcont: 7', 'height16pxpaddingtop7pxlineheight16px: 1', 'rank9: 1', 'rank8: 1', '쇼핑: 9', 'rank3: 1', 'rank2: 1', '240px: 7', 'rank7: 1', 'rank6: 1', 'rank5: 1', 'rank4: 1', 'displayblockwidth181pxfontsize16pxlineheight25pxclearboth: 1', 'overflowhiddenwidth280pxheight224pxfontsize0lineheight0: 1', '전체: 4', '전체보기: 2', 'issuenews: 6', 'floatleftfontsize11pxmargin3px: 1', 'txttime: 3', 'linkrel: 1', 'linknewapp: 1', 'recomlink: 1', 'movieon: 2', '변경에: 1', 'shop5on: 3', 'backgroundposition330px: 1', 'floatleftmarginright16pxlineheight15px: 1', 'icotheme: 1', 'displayblockoverflowhiddenclearboth: 1', 'blogg: 7', '제목: 22', }\n"
     ]
    }
   ],
   "source": [
    "# -*- coding: utf-8 -*-\n",
    "import urllib2\n",
    "import string\n",
    "\n",
    "source = urllib2.urlopen(\"http://www.daum.net\").read()\n",
    "#print source # 추후 숙제 답안 제출 때엔 왼쪽 라인은 주석처리할 것\n",
    "from bs4 import BeautifulSoup\n",
    "print\n",
    "soup = BeautifulSoup(source)#buetifulsoup라이브러리를 이용하여 html태그제거\n",
    "pureWords = soup.text.replace(\"\\n\",\" \").replace(\"\\t\",\" \").replace(\"//\",\" \")\n",
    "#엔터와 탭을 보기편하게 공백으로 replace한다. 또한 //도 공백으로 replace한다.\n",
    "count=pureWords.count('<')#count를 주기위해 <의 개수를 샌다.\n",
    "for i in range(count):#<나온만큼 count를 돌려서 pureWords문자열에서 남은 <를 제거한다.\n",
    "    a=pureWords.find('<')   \n",
    "    b=pureWords.find('>')\n",
    "    pureWords=pureWords[0:a]+pureWords[b+1:] #[a:b]제외하고 남은것을 제거하여 s에저장\n",
    "\n",
    "#print pureWords\n",
    "wordCount = pureWords.split()#문자열을 공백을기준으로 추출한 단어를 list로 저장\n",
    "print \"단어의갯수는 : \", len(wordCount)#list에 저장된 갯수를센다\n",
    "########################################################################################지난과제에이어서추가\n",
    "print \"punctuation : \",string.punctuation\n",
    "punc= string.punctuation\n",
    "source2 = \" \".join(wordCount)#wordCount리스트를 다시 source2에 ' '로 연결한 문자열로 저장\n",
    "for a in punc: # for문을이용하여 puctuation을 각각 찾아서 공백으로 대체. 즉, puctuation을 삭제시킨다.\n",
    "    source2 =source2.replace(a, '')\n",
    "wordCount=source2.split()\n",
    "\n",
    "\n",
    "num=[]\n",
    "for x in range(len(wordCount)):\n",
    "    num.append(source2.count(wordCount[x])) #wordCount리스트의 원소 각각 빈도수를 source2에서 센다.\n",
    "dic= dict(zip(wordCount, num))#zip으로 2개의 리스트를 투플로만든후 dict으로 사전으로 바꿔준다.\n",
    "\n",
    "print '{',\n",
    "for key in (dic.keys()):\n",
    "    print '\\'' + key + ':',\n",
    "    print str(dic[key]) + '\\'' + ',', #키에 대한 values를 넣어준다. 주의할 점은 다른 건 문자이고 dic[key]는 정수형이기 때문에 \n",
    "                                       #두 개의 서로 다른 타입에서는 +를 할 수 없기 때문에 dic[key]를 문자열로 바꿔준다.\n",
    "print '}'"
   ]
  },
  {
   "cell_type": "code",
   "execution_count": 50,
   "metadata": {
    "collapsed": false
   },
   "outputs": [
    {
     "name": "stdout",
     "output_type": "stream",
     "text": [
      "\n",
      "단어의갯수는 :  3299\n",
      "punctuation :  !\"#$%&'()*+,-./:;<=>?@[\\]^_`{|}~\n",
      "{ 'Lead: 1', 'RollsRoyce: 1', 'Overseeing: 2', '6px: 8', 'NYT: 4', 'NYU: 3', '0833: 1', 'NYC: 3', 'pageManagertrackingFireEventQueue: 1', 'a1nytcomassets: 2', 'Mud’: 1', 'Nytimescom: 1', 'h4sectionHeaderHome: 2', 'h3containsThe: 1', 'League: 1', 'Spaetzle: 1', 'Iranian: 1', 'envar: 2', 'Henry: 1', 'Heights: 1', 'Kérékou: 1', 'nrrequireforvar: 1', 'Campaign: 2', 'cause: 1', 'fontweight: 12', 'Go: 11', 'realestateqanytimescom: 1', 'Manage: 4', '0052: 1', '0051: 1', 'Version: 1', 'Attitudes: 1', 'Collins: 2', 'even: 3', 'Lamar: 1', 'Merkel: 1', 'beaten: 1', '2015Today’s: 1', '“Back: 1', 'Game: 4', 'new: 23', 'Presidential: 1', 'men: 37', 'wrapping: 1', 'Greene: 1', 'kicker: 7', 'Faces: 1', '100: 3', 'Curry: 2', 'Downfall: 1', 'SUHASINI: 1', 'Mending: 1', '135rem: 1', 'Hair: 1', 'cashhungry: 1', 'Home: 10', '10415: 1', 'Group: 1', 'sansserif: 8', 'campaign: 1', 'Privacy: 1', 'Three: 1', 'Book: 6', 'Health: 6', 'Recreating: 1', 'Piano: 1', 'cheating: 1', 'windowNREUMNREUMNREUMinfobeaconbamnrdatanetlicenseKeyb5bcf2eba4applicationID4491446transactionNameYwFXZhRYVhAEVUZcX1pLYEAPFlkTFRhCXUAqueueTime0applicationTime436ttGuidagentTokenuserAttributeserrorBeaconbamnrdatanetagentjsagentnewreliccomnr686minjs: 1', 'Houses: 2', 'Bookshelf: 1', 'romantimesserif: 5', 'Rule: 2', 'Snapshot: 1', '90: 2', 'blocking: 1', 'avisited: 3', 'Header: 41', 'Advertisers: 1', 'A81817: 2', 'Topics: 1', 'Poem: 1', 'LEARN: 1', 'Reality: 1', 'alinknythpBriefingNewsletterSignup: 1', 'Bruni: 1', 'Digital: 2', 'Lord: 1', 'realEstateSearch: 1', 'Meets: 1', 'Editorials: 1', 'machine: 1', 'nytfranklinArialsansserif: 1', 'Weekend: 1', 'Vaccine: 1', 'A: 132', 'Oaks’: 1', 'earlier: 1', 'Will: 2', 'texttransform: 6', 'All: 3', 'Appeals: 1', 'revolt: 1', 'Another: 1', 'Beyond: 1', 'operations: 1', 'Even: 12', 'Sattouf: 1', 'over: 12', '‘A: 2', 'Kármán: 1', 'His: 1', 'img: 1', 'fix: 1', 'Here: 3', '400: 3', 'Judge: 1', 'videoFactory: 1', 'hidden: 1', 'Raising: 2', 'Kids: 2', 'Survivor: 1', 'songwriter: 1', 'Analysis: 2', 'they: 1', 'Adversity: 2', 'tentifrcallenreturn: 1', 'India: 3', 'each: 2', 'series: 1', 'Winner: 1', '13px: 2', 'static01nytcomjsmtr: 1', 'Styles: 2', '‘Red: 1', 'BEGIN: 1', 'Holy: 1', 'content: 1', 'authgrowl: 2', 'Spree: 3', 'foundation: 7', 'nythpElection2016Header: 12', 'University: 1', 'Work: 7', 'threatened: 1', 'standard: 1', 'wanted: 1', 'Studies: 1', 'Clinton: 5', 'Contributors: 1', '002: 1', 'Photo: 2', 'National: 1', 'tdocumentcreateElementscripttasync0ttypetextjavascriptvar: 1', 'static01nytcombijstagxtagxjs: 1', '0667: 1', 'windowmagnumwriteLogosmall: 1', 'Working: 2', 'Buddhist: 1', 'Please: 1', 'storythemefeaturepromo: 4', 'Krystal: 1', 'googletaggoogletaggoogletagcmdgoogletagcmdfunctionvar: 1', 'Congress: 1', 'lawsuits: 1', '0066: 1', '0067: 1', 'Recordings: 1', '0063: 1', '0061: 1', 'Desert: 1', '0069: 1', 'Search: 5', 'B: 116', 'Edge: 1', 'western: 1', 'i1nytcomimagesiconsiconalert12x12a81817png: 1', 'Code: 1', 'ireturnnew: 1', 'oet1nreturn: 1', 'thttpsssplit0esslForHttpdprotothttps: 1', 'realestate: 2', 'messagebed: 1', 'groaning: 1', 'E2E2E2: 1', 'tevar: 1', 'Theo: 1', 'Them: 1', '1960: 1', 'Minister: 1', 'Ask: 2', 'Bank: 1', 'aenfececoncatnfunction: 1', 'ntypeof: 2', '‘I’m: 2', 'Narendra: 1', 'NonScandal: 2', 'Election: 13', 'Taiwan’s: 1', 'Its: 1', 'Ushered: 1', 'sanctuary: 1', 'dismantlement: 1', 'Riad: 1', 'graphics8nytimescompackagesimageshomepagenewslettericonpng: 1', 'lessons: 1', 'nythpHideKickers: 1', 'headline: 3', 'Big: 2', 'Photography: 1', '16px18px: 1', 'Others: 1', 'r1otn0iArray0o0oro0oroirenrreturn: 1', 'Account: 1', 'government’s: 1', 'Tricks: 1', 'static01nytcomjs2buildvideoplayersextended20appRequire: 1', 'Days: 1', 'Taxes: 2', 'Leave: 2', 'Heck: 1', 'Palestinians: 1', 'learned: 1', 'Over: 5', 'shape: 1', 'Clinic: 1', 'textdecoration: 3', 'rreturnvar: 1', 'Short: 1', 'result: 1', 'John: 2', 'Bells: 1', 'Dodgers: 1', '05: 9', '09: 2', 'actionlink: 1', 'mud: 1', 'aactive: 2', 'caves: 1', 'Settings: 1', 'paddingtop: 4', 'graphics8nytimescomnewsgraphics20150225electionnavigationassetsimageselection2016logopng: 1', 'OpEd: 6', 'Bronx: 1', 'news: 11', 'flowering: 1', 'Rezaian: 1', 'hours: 1', 'Dance: 1', 'against: 2', 'Bring: 1', 'Classifieds: 1', 'height: 14', 'Waters: 1', 'quickly: 1', 'Hillary: 4', 'expected: 1', 'Flowers: 1', 'wwwgoogletagservicescomtagjsgptjsvar: 1', 'Tokyo: 1', 'Cry: 2', 'Epstein: 1', 'Night: 4', 'Claims: 2', 'Upper: 1', 'Liabilities: 1', 'Sicily: 1', 'Canaan: 1', '0070: 1', 'Other: 2', 'Faked: 1', 'is: 79', 'it: 109', 'in: 352', 'id: 95', '609: 1', 'if: 40', 'grown: 1', 'Zimmerman: 1', 'Vanishing: 1', 'complex: 1', 'several: 1', 'Taking: 1', 'Room: 1', 'h6active: 3', 'rain: 2', 'Angeles: 1', 'Table: 1', 'the: 78', 'left: 7', 'Sarah: 1', 'Sheldon: 1', 'Google’s: 1', 'previous: 1', 'had: 1', 'Connecticut: 1', 'tentreturn: 1', 'projects: 1', 'evidenced: 1', 'News: 14', 'has: 4', '3px: 7', 'D: 107', 'Wins: 3', 'week’s: 2', 'disagreement: 1', 'siteindexbrandinglink: 1', 'oamarkdomContentifunction: 1', 'background: 12', 'Heart: 3', 'Art: 12', 'Newsletters: 1', '21px: 1', 'Are: 1', 'Steven: 1', 'anythpBriefingNewsletterSignup: 1', 'sectionopinion: 4', 'right: 3', 'people: 1', 'begin: 1', 'election: 3', 'PaperVideo: 1', 'Jeh: 1', 'for: 35', 'bottom: 23', 'Revolutionized: 1', 'backgroundposition: 2', 'Bieber: 1', 'He: 62', 'Gray: 2', 'School: 1', 'bold: 1', 'night: 1', 'Daily: 2', 'Thing: 2', '0px: 18', 'properties: 1', 'First: 1', 'wept: 1', 'census: 1', 'ltie10: 9', 'Still: 1', 'Blacks: 1', 'Make: 2', 'float: 2', 'cascaded: 1', 'down: 2', 'Insider: 5', 'Modi: 1', 'STEPHEN: 1', 'LifeorDeath: 1', 'MICHELLE: 1', 'Ends: 1', 'ISIS: 1', 'TED: 1', 'Break: 6', 'width: 5', 'way: 6', 'Lives: 1', 'was: 1', 'DNA: 1', 'form: 8', 'Column: 4', 'some: 1', 'Opera’s: 1', 'Hardest: 2', 'Lawrence’: 1', 'Fired: 1', 'LOVETT: 1', 'WILLIAM: 1', 'tnvar: 1', '20px: 2', 'Jays: 3', 'Personal: 1', 'Josh: 1', 'libefore: 1', 'Warnings: 1', 'Chemist: 1', 'Scenery: 1', 'no: 47', 'when: 1', '14px: 3', 'test: 27', 'Pages: 1', 'E: 134', 'homepage20151014115710jshomepage: 2', 'Trial: 3', 'Autonomous: 2', 'backgroundsize: 1', 'longer: 1', 'Estate: 7', 'h3containsHoliday: 1', 'Baron’s: 1', 'Gotham: 1', 'Supers: 1', 'Burn: 1', 'Ridley: 1', '0: 225', 'Day: 10', 'Cubs: 1', 'division: 1', 'coop: 1', 'Tech: 3', 'Where: 1', 'Just: 2', 'ahover: 2', 'die: 6', 'div: 9', 'George: 3', 'spiritual: 1', 'be: 26', 'Stephen: 1', 'Conjures: 1', 'a81817: 2', 'Red: 3', 'inlineblock: 5', 'Subscriptions: 5', 'Public: 2', 'Prizes: 1', 'Alone: 4', 'shared: 2', 'filled: 1', 'Fort: 1', 'Infrastructure: 2', 'alone: 1', 'margintop: 5', 'My: 4', 'Meditation: 1', 'topnews: 5', 'Deal: 3', 'MM: 1', 'JULIE: 1', 'Your: 2', 'Ghosts: 1', 'navigation: 3', 'Said: 1', 'When: 2', 'Tesla’s: 1', '0875: 1', 'nrrequirereturn: 1', 'Dies: 5', 'helvetica: 6', 'Awards: 2', 'October: 1', 'Benefits: 1', 'F: 83', 'Proposals: 1', 'DAVID: 2', 'FD8249: 2', 'Celebrations: 1', 'timesvideo: 1', 'Pops: 1', 'can: 4', 'Our: 2', 'Out: 1', 'Federal: 1', 'Media: 1', 'performed: 1', 'Accusations: 1', 'ureturn: 1', 'Huma: 1', 'Issue: 1', 'Happened: 2', 'Harper’s: 1', 'Frieze: 1', 'Terms: 2', 'Who: 7', '1: 196', 'fourth: 1', 'Gail: 1', 'POWELL: 1', 'alerticon: 1', 'applications: 12', 'shuffleRecommendations: 1', 'such: 1', 'Model: 1', 'revealed: 1', 'View: 5', 'Series: 2', 'Magazine: 6', 'Leslie: 1', 'block: 9', 'Kanye: 1', 'talk: 1', 'Breaking: 5', 'still: 1', '‘Wall: 1', 'group: 1', 'thumb: 2', 'World: 4', 'Grosvenor: 1', 'Hiding: 1', 'Debate: 1', 'Choices: 1', 'odocumentgetElementsByTagNamescript0oparentNodeinsertBeforeto: 1', 'END: 1', 'EDITORIAL: 1', 'wealthy: 1', 'name: 1', 'BUCHMANN: 1', 'Skip: 2', 'Musicals: 3', 'em: 41', 'paddingleft: 3', 'Dude: 2', 'Split: 1', 'year: 2', 'Learned: 1', 'Save: 2', 'Benin: 1', 'Spielberg: 1', 'pocketregion: 6', 'avisitednythpBriefingNewsletterSignup: 1', 'Times’: 1', '50px: 2', 'Theater: 3', 'Sometimes: 1', 'possibility: 1', 'Ruling: 1', 'Broadway: 3', 'Security: 1', 'Already: 1', 'toi0foro: 1', 'Money: 1', '1000: 2', 'Brazil: 3', 'Tasting: 1', 'one: 46', 'world’s: 1', 'Stars: 2', 'Hollywood: 2', 'Repays: 1', 'nythpGiftguide: 9', 'Comeback: 1', 'Data: 2', 'that: 2', 'rehandleoe1ie2undefinedtypeof: 1', 'ObjectdefinePropertyenvalueowritable0enumerable1ocatchireturn: 1', 'padding: 18', '10: 32', '12: 17', '17: 5', 'require: 11', 'Advertise: 2', 'browser: 1', 'and: 44', 'Court: 1', 'Sites: 1', 'Submit: 1', 'Call: 1', '300aNight: 3', 'Do: 7', 'Jewish: 1', 'Murphy: 3', 'endangered: 1', 'take: 1', 'DategetTimevar: 1', '15px: 1', 'Hall: 2', 'Articles: 2', '中文: 1', 'Off: 3', 'normal: 2', 'City’: 2', 'surprising: 1', 'tteelength0forvar: 1', 'urlhttp: 5', 'Blue: 3', '‘Beasts: 1', 'Candidate: 2', 'Promising: 1', 'Comments: 5', 'Research: 1', 'Test: 3', '40px: 1', 'We: 9', 'upgrade: 1', 'enough: 1', 'Flores: 1', 'Services: 1', 'Magician: 1', 'static01nytcomjsauthgrowldefault: 1', 'Surprising: 2', 'psychiatrist: 1', 'Pampered: 1', 'Amid: 1', 'Violence: 1', 'Fighting: 1', 'Trick: 2', 'Slander: 2', 'Right: 4', 'nytcheltenhamshgeorgiatimes: 3', 'summary: 7', 'Education: 4', 'Funding: 1', 'tallWatchingModule: 1', 'relative: 1', 'BOARD: 1', 'nytkarnakdisplay130124: 1', 'bordertopcolor: 1', 'That: 3', 'federal: 1', 'Loose: 1', 'Hours: 3', '3: 35', 'Confederacy: 1', 'letterspacing: 2', '‘Sanctuary: 2', 'Benjamin: 1', 'Johnson: 1', 'Each: 1', 'arial: 6', 'come: 2', 'bordernone: 1', 'Collectors: 1', 'quiet: 1', 'Through: 2', 'Death: 3', 'nytcheltenhamgeorgiatimes: 1', 'color: 13', 'Travel: 4', 'pop: 1', 'Note: 1', 'nythpBriefings: 3', 'article: 9', '68: 4', 'storyheading: 4', 'Events: 3', 'Bets: 3', 'Electric: 1', 'Beauty: 1', 'McGuire’s: 1', 'Promos: 1', 'Reporters: 1', '500: 2', 'direction: 1', 'ercalleotinoeoi1return: 1', 'Laws: 1', 'Spiritual: 2', 'Divide: 1', 'Kenneth: 1', 'Tesla: 2', 'policies: 1', 'squeezed: 1', 'margin: 17', 'Amounts: 2', 'Tennis: 1', 'Looking: 1', 'Plans: 1', 'Mobile: 2', 'Blood: 1', 'BROAD: 1', 'referheading: 1', 'Esmer: 1', 'centuries: 1', 'Clear: 1', 'collectionfirstchild: 2', 'allocation: 12', 'changing: 1', 'Include: 1', 'Says: 3', 'Is: 6', 'nythpBreakingnythpNoRule: 1', 'It: 4', 'Aide: 1', 'May: 4', 'Rent: 1', 'In: 25', 'Stumble: 1', 'ccc: 3', 'Loading: 2', 'Service: 2', 'displaynone: 3', 'Daniel: 2', 'Gambling: 1', 'imagefirstchild: 1', 'coloredSharetools: 1', 'Log: 2', 'death: 1', 'Jobs: 1', 'Spot: 1', 'Applications: 1', 'HighSpeed: 1', '4: 44', 'ccolumn: 14', 'struck: 1', 'Change: 1', 'around: 3', 'Island: 1', 'Tale: 1', 'nytfranklin: 8', 'Muppets’: 2', 'Tries: 1', 'Pig: 1', 'Before: 3', 'Democracy: 1', 'uppercase: 6', 'ereturneobjectnfunctionn1ewindow0ieofunctionreturn: 1', 'International: 2', 'pinnedMasthead: 1', 'Government: 1', 'timetimestamp: 1', 'Met: 5', 'juggernaut: 1', 'ontexportset0calloexportsfunctionnvar: 1', '911: 1', 'refer: 4', 'AM: 7', 'tuition: 1', 'on: 387', 'of: 55', 'violence: 1', 'ehttpsdocumentlocationprotocoltsrcehttpshttp: 1', 'Protest: 2', 'Paper: 2', '‘Afterword’: 1', 'neighbor: 1', 'or: 237', 'No: 15', 'image: 10', 'parties: 1', 'your: 2', 'Store: 1', 'paidPostDriver: 1', 'Hotel: 3', 'hed: 2', 'NY: 13', 'stars: 1', '‘Here’: 1', 'Obama: 2', 'J: 22', 'with: 5', 'Guide: 7', 'Disdains: 1', '1020: 1', 'House: 3', 'Alterations: 1', 'vhs: 3', 'Close: 1', '605: 1', '604: 1', 'aehandlece1uwindowfudocumente2var: 1', 'videos: 1', 'Crucial: 1', 'Wordplay: 1', 'an: 182', 'How: 3', 'as: 62', 'CONFESSORE: 1', 'Veterans: 2', 'Real: 8', 'Dark: 1', '5: 51', 'you: 9', 'Great: 2', 'videoPlaylist: 1', 'fetid: 1', 'important: 5', 'wfloading: 1', 'Street: 1', 'onrcontextiegosnexportstgos7eSDFheefunctionennexportseQJf3ax3functionenfunction: 1', 'all: 32', 'Fix: 1', 'executing: 1', 'debris: 1', 'cardiologist: 1', 'children: 1', 'Ceiling: 1', 'apartment: 1', 'icons: 3', 'to: 168', 'homepage: 17', '4em: 1', 'far: 1', 'Listings: 2', 'Revolt: 1', 'Sale: 4', 'Headers: 1', '1px: 16', 'slocationsplit0pbeaconbamnrdataneterrorBeaconbamnrdatanetagentjsagentnewreliccomnr686minjsdnexportsoffsetioriginsfeaturesfaddEventListenerfaddEventListenerDOMContentLoadedo1uaddEventListenerloadt1fattachEventonreadystatechangeruattachEventonloadtamarkfirstbytei11223handleD5DuLPloaderfunctionennexportseG9z0Bl12functionenfunction: 1', 'Course: 1', 'Kill: 2', 'Soldiers: 1', 'LOOS: 1', 'messengersuggestions: 5', 'Knees: 1', 'Actually: 1', 'East: 3', 'ribbon: 2', 'rfcreateElementscriptrsrcdprotoeagentnparentNodeinsertBeforernfunction: 1', 'Cultural: 1', 'rvar: 3', 'rlistenerselengthremitentvoidrqrqerqerqepushnvar: 1', 'public: 3', 'paddingbottom: 1', 'Gift: 12', 'Sniffing: 1', 'Silhouettes: 1', 'Contact: 1', 'life’s: 1', 'Briefing: 8', 'Silence: 1', 'search: 4', 'ArtsBeat: 1', 'amount: 1', 'Joan: 1', 'Conn: 2', 'Style: 6', 'nythpDeveloping: 1', 'Top: 3', 'Too: 2', 'Opinion: 16', 'Europe: 2', 'Explorer: 1', 'two: 1', 'Automobiles: 3', 'Baseball: 1', 'Supper: 1', 'textalign: 4', 'more: 2', 'Financing: 1', 'door: 1', 'staggering: 1', 'Midtown: 1', 'none: 19', 'Today’s: 3', 'bordertop: 7', '326891: 1', 'Decade: 2', 'history: 1', 'Funny: 2', 'tentnn0undefinedtypeof: 1', 'needs: 1', 'Fall: 2', 'Television: 2', 'Migrants: 1', 'Seafood: 1', 'Matter: 4', 'a: 1457', 'Played: 1', 'ribbonChartbeatMostEmailed: 1', 'tvar: 5', 'spectre: 1', 'Player: 1', 'Democrats: 1', 'What: 12', 'Arial: 2', 'Bear: 1', 'articleShareAtEnd: 1', 'ccolumncolumn: 4', '50000: 1', '20: 32', 'possessions: 1', 'graphics8nytimescompackagesimageshomepagebriefingsdogearsmpng: 1', 'Carnegie: 1', 'freturnonaemitncreateulistenersceventsffunction: 1', 'hillsides: 1', 'splitlayout: 5', 'Surgeon: 1', 'waitSeconds: 1', 'return: 19', 'timestamp: 3', 'demographics: 1', 'L: 73', 'Bag: 1', 'georgiatimes: 5', 'Car: 5', 'Keystrokes: 1', 'Danes: 1', 'Silver: 1', 'Reads: 1', 'boisterous: 1', 'windowNREUMNREUMnrrequirefunctionentfunction: 1', 'HABERMAN: 1', 'heavy: 1', 'needless: 1', 'Sports: 11', 'Waiting: 1', 'Build: 2', 'Flowing: 1', 'http: 19', 'More: 5', 'Flat: 2', 'Door: 2', '7: 32', 'We’ve: 1', 'paidPostFivePack: 2', 'reeecreatenexportstteerrqeeQJf3axhandlefunctionennexportseD5DuLPXL7HBIfunctionenfunction: 1', '4px: 7', 'Town: 1', 'Receive: 1', 'Hinge: 2', 'ET: 7', 'El: 19', 'benefits: 1', 'People: 5', 'Years: 1', 'Pass: 1', 'top: 31', 'rcompletefreadyStateofunction: 1', 'Adds: 1', 'EmailedMost: 1', 'story: 20', 'Guardian: 1', '0064: 1', 'Retirees’: 1', 'Justin: 1', 'Bullet: 1', 'Long: 1', 'Road: 1', 'throttle: 12', 'Puzzle: 2', 'underpinning: 1', 'Layouts: 1', 'toward: 1', 'Affairs: 2', 'nythpBriefingNewsletterSignup: 4', 'outstanding: 1', 'asetPageViewNameaddPageActionsetCustomAttributefinishedaddToTraceinlineHitnoticeErroroafunctionenwindowNREUMntapinnexportswindowNREUM112213handleD5DuLPgosfunctionennexportse7eSDFh7eSDFhfunctionenfunction: 1', 'Durst: 1', 'paths: 1', 'built: 1', 'Food: 5', 'Norway: 1', 'borderbottom: 11', 'Graduates: 1', 'Arab: 1', 'majority: 1', 'static01nytcomvideovhsbuildvhs2xmin: 1', 'With: 13', 'Myself: 1', 'most: 2', 'sponsored: 1', 'plan: 2', 'The: 47', 'Ultramodern: 1', 'clear: 2', 'Encouraging: 1', 'Subscribe: 3', 'Cost: 1', 'Victory: 1', 'Blondes: 1', 'Expert: 1', 'norepeat: 5', 'fontstyle: 1', 'Has: 2', 'Spicy: 1', '22px: 1', 'documentreadyfunction: 2', 'Prime: 1', 'IAN: 1', 'Candidates’: 1', 'Favorite: 1', 'Hearts: 1', 'banner: 1', 'him: 1', 'Help: 1', 'Republicans’: 1', 'activity: 1', 'Guides: 2', 'art: 30', 'For: 4', 'homepage20151014115710jsfoundation: 1', 'edinfoNREUMinfonfgetElementsByTagNamescript0ifeelicenseKeyeapplicationIDncpfunctionntn: 1', 'forlorn: 1', 'PATRICIA: 1', 'watchingbetaoptincontainer: 3', 'Part: 3', 'spanabtopregion: 8', 'MAGGIE: 1', 'Could: 2', 'Against: 3', 'testId: 12', 'lineheight: 8', 'Refugees: 1', 'Jason: 1', 'secrets: 1', 'Hard: 4', 'Farms: 1', 'a1nytcomassetshomepage20151014115710imagesfoundationlogos: 1', 'Yet: 1', 'community: 1', 'Nobel: 1', 'Was: 1', 'War: 2', 'Calculus: 2', 'Play: 7', 'raise: 1', 'Students: 3', 'Royals: 3', 'Most: 3', 'Women: 2', '01: 38', 'firefighters: 1', 'slideshow: 2', 'N: 113', 'h3kicker: 2', 'GuideparentaddClassnythpGiftguide: 1', 'Drops: 2', 'plants: 1', '16px: 3', 'Todays: 3', 'Journeys: 2', 'solid: 10', 'Sales: 1', 'while: 1', 'College: 1', 'Cold: 1', 'Market: 1', 'engineers: 1', 'City: 3', 'Divinity: 1', 'nytfranklinhelveticaarialsansserif: 1', 'Back: 6', 'Dictator: 1', 'e2e2e2: 1', 'Scrutiny: 2', 'Cops: 1', 'Carrying: 1', '9: 29', 'fefunction: 1', 'About: 2', 'Gobi: 1', 'Lines: 1', 'Podcasts: 1', 'Movies: 2', '000: 9', 'backgroundimage: 2', 'along: 1', 'recent: 1', 'Project: 3', 'Almost: 1', 'Technology: 1', 'Son: 1', 'Rate: 1', 'Economic: 1', 'Talks: 1', 'Sox: 1', 'Girl: 2', 'Tools: 1', 'Living: 2', 'Takes: 1', 'Fans: 2', 'Trauma: 1', 'Playground: 1', 'questions: 1', 'Internet: 1', '‘Hallo’: 1', 'Comedy: 1', 'crying: 1', 'Hands: 1', 'Front: 1', 'input: 1', 'rObjectprototypehasOwnPropertynexportst13functionenfunction: 1', 'build: 4', 'SARAH: 1', 'On: 5', 'Jamaica: 1', 'Die: 9', 'Chinatown: 1', 'Hustlers: 1', 'nythpHideBylines: 1', 'Backlog: 2', 'modifications: 1', 'individuals: 1', 'Columnists: 1', 'Treatment: 3', 'Happens: 4', 'velcroSocialFollow: 1', 'Fears: 1', 'Hacks: 1', 'Email: 3', 'Daypart: 7', 'Frank: 1', 'nythpBreaking: 3', 'eliminate: 1', 'dating: 1', 'Boy: 1', 'Look: 2', '300: 4', 'odor: 1', 'Times: 19', 'India’s: 1', '‘The: 1', 'by: 7', 'Taylor: 1', '8px: 12', 'homepage20151014115710jsshared: 1', 'borderbottomwidth: 1', 'silence: 1', 'NewsDeveloping: 1', 'into: 12', 'StartUp: 1', 'Their: 4', 'themenewsheadlines: 2', '12px: 8', 'Driven: 1', 'windowlocationsearchindexOfdisabletagx: 1', 'borderbottomcolor: 1', 'question: 2', 'Side: 2', 'User: 1', 'West: 2', 'Section: 4', 'HanerThe: 1', 'Flu: 1', 'Holocaust: 1', 'Brutal: 1', 'filed: 1', 'forbidding: 1', 'Opinionator: 1', 'raising: 1', 'Bell: 3', 'Africa: 1', 'up: 20', 'Books: 4', 'called: 1', '0012: 1', 'New: 24', 'Upshot: 1', 'Manhattan: 1', 'Map: 1', 'TV: 2', 'application: 16', 'bcolumn: 16', 'income: 1', 'eentvar: 1', 'pageManager: 3', 'FantasySports: 2', 'Niño: 1', 'Implications: 1', 'It’s: 2', 'Envoy: 1', 'Cash: 1', 'resign: 1', 'allowing: 1', 'Making: 2', 'freeways: 1', 'Ad: 8', 'Weddings: 1', 'Asian: 1', 'narrative: 1', 'at: 212', '2008: 1', 'Newsletter: 6', 'scroll: 1', 'Sell: 2', 'Corporate: 1', 'Business: 4', 'Glass: 2', '25px: 1', 'Not: 3', '»: 35', 'Now: 2', 'Helvetica: 1', 'Region: 9', 'Risks: 1', 'Wheels: 1', 'Feeling: 1', 'functionrenew: 1', 'Projections: 2', 'rtifntvar: 1', 'Index: 1', 'Theranos: 1', 'Spending: 3', 'Fast: 1', 'SANGER: 1', 'Sections: 3', 'Lonely: 2', 'requirehttp: 1', 'Line: 2', 'Former: 1', 'Futures: 1', 'Tomboys: 1', 'explore: 1', 'requirehomepagemain: 1', 'extreme: 1', 'otifObjectdefinePropertyObjectkeystryreturn: 1', 'tenvar: 1', '36: 4', '18px: 8', '647: 1', 'Readers: 1', 'Robert: 1', 'Multimedia: 2', 'Contributing: 1', 'Treat: 4', 'Draw: 2', 'from: 3', 'next: 1', 'Lens: 1', 'Matters: 1', 'concocted: 1', 'BARSTOW: 1', 'STYLING: 2', 'visibility: 1', 'Claire: 1', 'Editorial: 4', 'subscription: 1', 'Feedback: 1', 'this: 2', 'Library: 1', 'amarkonloadivar: 1', 'Video: 6', 'Wilmer: 1', 'Nevada: 1', 'Police: 1', '‘Suffragette’: 1', 'Feature: 3', 'his: 10', 'Party: 1', 'photospotregion: 3', 'ViewedRecommended: 1', 'located: 1', 'tereturn: 1', 'Friends: 2', 'Ghost: 2', 'iconbefore: 1', 'Uplifting: 1', 'KLEINFIELD: 1', 'minlimit4maxlimit11: 1', 'Letters: 2', 'Community: 1', 'r1onridiegosnexportstgos7eSDFhidfunctionennexportseXL7HBIG9z0Blfunctionenfunction: 1', 'Mets’: 1', 'Politics: 3', 'marginbottom10px: 1', 'sfunction: 3', 'Abedin: 1', 'windownewrelicnewrelicwindowNREUMvar: 1', 'font: 38', 'including: 2', 'byline: 2', 'RAJ: 1', 'storythemefeature: 7', 'li: 133', 'watchingbetaoptin: 6', 'fontfamily: 12', '2015: 9', 'paidPostFivePackMock: 1', 'Testifies: 1', 'taxtherich: 1', 'auto: 1', 'Can: 5', 'messagecontainer: 1', 'Social: 3', 'transparent: 1', 'worlds: 1', 'Why: 2', 'ccolumnmiddlespanregion: 4', 'Replica: 1', '10px: 4', 'Arts: 7', 'From: 3', '700: 8', 'Next: 1', 'meta: 1', 'cereturn: 1', '82: 3', 'our: 15', '81: 9', '84: 1', 'Noise: 1', 'Very: 1', 'China: 2', 'Nearly: 1', 'enoovar: 1', 'inexportstG9z0Bl: 1', 'Unique: 1', 'supports: 1', 'This: 2', 'roonooexportsreturn: 1', 'Corrections: 1', 'Meet: 2', '45px: 4', 'Gone: 1', 'Ugly: 1', 'could: 2', 'ntexportsiffunctiontypeof: 1', 'Lamb: 1', 'Review: 7', 'Martin: 1', 'Administration: 2', 'reaches: 1', 'Plays: 1', 'Iran: 6', 'Eastern: 1', 'data: 6', 'requirefoundationmain: 2', 'their: 2', 'h6hover: 3', 'Odom: 1', 'Preschool: 1', '97px: 1', 'var: 37', 'R: 105', 'fontsize: 12', 'foundationviewspagemanager: 2', 'morph: 1', 'Edition: 1', 'patients: 1', 'requirejquerynyt: 2', 'Appetite: 1', 'mediaslideshow: 1', 'are: 21', 'false: 1', 'Richard: 2', 'Backpack: 2', 'partnership: 1', 'ECigarettes: 1', 'Secret: 1', 'Writers: 3', 'unlikely: 1', 'have: 1', 'need: 3', 'border: 21', 'Development: 1', 'After: 3', 'authmtr: 1', '2016: 15', 'Blogs: 1', 'United: 1', 'Without: 1', 'Games: 2', 'but: 9', 'jimmied: 1', 'masthead: 1', 'Pursuits: 1', 'Poo: 1', 'nythpHideTimestamps: 1', 'Saturday: 1', 'Matt: 5', 'text: 16', '0036: 1', '0033: 1', 'Religion: 1', 'fear: 1', '30px: 1', 'partners: 2', 'Undo: 1', 'York: 7', '5px: 9', 'local: 1', 'commentspanel: 1', 'Homes: 2', 'DategetTimeconcatiargumentsvar: 1', '999: 4', '120: 1', 'Coal: 1', 'Stories: 1', 'THE: 1', 'Once: 1', 'o0oppupapplystreturn: 1', 'Move: 1', 'recommendedLabelTest: 1', 'Bright: 1', 'Austrian: 1', 'FDA: 1', 'Driving: 2', 'Question: 1', '165rem: 1', 'storythemesummary: 4', 'Grows: 1', 'Good: 1', 'nuclear: 1', '21rem: 1', 'email: 1', 'Kitchen: 1', 'ability: 2', '2px: 16', 'Exorcism: 1', 'police: 1', 'Mets: 4', 'display: 15', 'Strain: 1', 'Design: 1', 'Campus: 1', 'comment: 3', 'Chauffeur: 1', 'backgroundcolor: 1', 'Her: 4', 'Los: 3', 'Music: 5', 'confronts: 1', 'undergraduate: 1', 'promotronOpts: 1', 'Nation’: 1', 'Pressure: 1', '©: 1', 'COHEN: 2', 'baseUrl: 1', 'Brooklyn: 2', 'Obituaries: 2', 'Careful: 2', 'f8e9d2: 1', 'diversity: 1', 'Center: 3', 'backgroundrepeat: 2', 'runaroundRight: 2', 'kickers: 1', 'ExProsecutor: 1', 'Credit: 1', 'Thursday: 1', 'Using: 1', 'general: 1', 'Ennis: 1', 'static01nytcomjs2buildvideo20videofactoryrequire: 1', '‘Helen: 1', 'Grace: 1', 'nytfranklinarialhelveticasansserif: 2', 'MORE: 1', '‘Homeland’: 1', 'Literary: 1', 'Experiment’: 1', 'You: 3', 'Sued: 1', 'Return: 2', 'administration: 1', 'Governing: 1', 'NYTimescom: 2', 'largest: 1', 'StoneFaced: 1', 'practitioner: 1', 'Ride: 1', 'Audience: 2', 'endearing: 1', 'center: 3', 'States: 1', 'Fantasy: 5', 'Have: 1', 'Need: 1', 'position: 3', 'Retiring: 1', 'claiming: 1', 'Corpse: 1', 'Resigns: 2', 'KAYSEN: 1', 'Sunday: 4', 'Be: 21', 'Company: 1', 'By: 17', 'Skeptical: 1', 'Hits: 1', 'CRESWELL: 1', 'increased: 1', 'Thread: 1', 'Drug: 1', 'T: 165', 'unseen: 1', 'variants: 12', 'loss: 1', 'Fashion: 2', 'Dealing: 1', 'testName: 12', 'tryTypekitloadcatche: 1', 'Discovered: 1', '11px: 5', 'Killings: 1', 'Blaufränkisch: 1', 'Avoid: 1', 'Crossword: 4', 'Nocera: 1', 'Editor: 6', 'home: 18', 'Future’: 1', 'Future”: 1', '14th: 1', 'pthemecomments: 1', 'AheadparentaddClassnythpBriefings: 1', 'NICHOLAS: 1', 'windowmagnumprocessFlagslimitFabrikSavemoreFollowSuggestionsunfollowCommentshomepageOpinionKickerCssfollowFeatureallTheEmphasesvideoVHSCovervideoVHSHomepageCoveradditionalOpinionRegionshpViewabilityminiNavCountnewsEventHierarchyfreeTrialinsiderLaunch: 1', 'Inside: 7', 'Official: 2', 'MICHAEL: 1', 'Up: 5', 'Us: 5', 'Editing: 1', 'noisy: 1', 'about: 2', 'boards: 1', 'hpHeader: 25', 'US: 4', 'Anchored: 1', 'nythpDaypartRegion: 6', 'Really: 1', 'Mathieu: 1', 'Alerts: 1', 'h6: 34', 'Two: 1', 'h4: 4', 'h5: 2', 'Clashes: 1', 'weather: 1', 'secretive: 1', 'Approach: 1', 'Spectacular: 2', 'Secular: 1', 'Child: 1', 'biggest: 1', 'function: 43', 'north: 1', 'RONDA: 1', 'HIGGINS: 1', 'Science: 3', 'Well: 3', 'Detroit: 1', 'Boehner: 1', 'portalheader: 1', 'made: 1', 'divthumb: 1', 'problem: 1', 'Insurance: 2', 'Backpacking: 1', 'marginbottom: 10', 'cssnytcomimagesiconsbullet4x4gif: 1', 'Wines: 1', 'Centered: 2', 'Million: 1', 'percent: 1', 'Delivery: 1', 'storythemefeaturepromofirstchildbordertopnone: 1', 'Like: 1', 'HPHEADER: 2', 'Remove: 1', 'rObjectprototypehasOwnPropertynexportstD5DuLPfunctionenfunction: 1', 'Future: 7', 'Lose: 2', 'friends: 1', 'Page: 4', 'Betting: 1', 'Site: 5', 'Sleep: 1', 'Contributor: 3', 'Organs: 1', 'Subpoena: 1', }\n"
     ]
    }
   ],
   "source": [
    "# -*- coding: utf-8 -*-\n",
    "import urllib2\n",
    "import string\n",
    "\n",
    "source = urllib2.urlopen(\"http://www.nytimes.com\").read()\n",
    "#print source # 추후 숙제 답안 제출 때엔 왼쪽 라인은 주석처리할 것\n",
    "from bs4 import BeautifulSoup\n",
    "print\n",
    "soup = BeautifulSoup(source)#buetifulsoup라이브러리를 이용하여 html태그제거\n",
    "pureWords = soup.text.replace(\"\\n\",\" \").replace(\"\\t\",\" \").replace(\"//\",\" \")\n",
    "#엔터와 탭을 보기편하게 공백으로 replace한다. 또한 //도 공백으로 replace한다.\n",
    "count=pureWords.count('<')#count를 주기위해 <의 개수를 샌다.\n",
    "for i in range(count):#<나온만큼 count를 돌려서 pureWords문자열에서 남은 <를 제거한다.\n",
    "    a=pureWords.find('<')   \n",
    "    b=pureWords.find('>')\n",
    "    pureWords=pureWords[0:a]+pureWords[b+1:] #[a:b]제외하고 남은것을 제거하여 s에저장\n",
    "\n",
    "#print pureWords\n",
    "wordCount = pureWords.split()#문자열을 공백을기준으로 추출한 단어를 list로 저장\n",
    "print \"단어의갯수는 : \", len(wordCount)#list에 저장된 갯수를센다\n",
    "########################################################################################지난과제에이어서추가\n",
    "print \"punctuation : \",string.punctuation\n",
    "punc= string.punctuation\n",
    "source2 = \" \".join(wordCount)#wordCount리스트를 다시 source2에 ' '로 연결한 문자열로 저장\n",
    "for a in punc: # for문을이용하여 puctuation을 각각 찾아서 공백으로 대체. 즉, puctuation을 삭제시킨다.\n",
    "    source2 =source2.replace(a, '')\n",
    "wordCount=source2.split()\n",
    "\n",
    "\n",
    "num=[]\n",
    "for x in range(len(wordCount)):\n",
    "    num.append(source2.count(wordCount[x])) #wordCount리스트의 원소 각각 빈도수를 source2에서 센다.\n",
    "dic= dict(zip(wordCount, num))#zip으로 2개의 리스트를 투플로만든후 dict으로 사전으로 바꿔준다.\n",
    "\n",
    "print '{',\n",
    "for key in (dic.keys()):\n",
    "    print '\\'' + key + ':',\n",
    "    print str(dic[key]) + '\\'' + ',', #키에 대한 values를 넣어준다. 주의할 점은 다른 건 문자이고 dic[key]는 정수형이기 때문에 \n",
    "                                       #두 개의 서로 다른 타입에서는 +를 할 수 없기 때문에 dic[key]를 문자열로 바꿔준다.\n",
    "print '}'"
   ]
  },
  {
   "cell_type": "code",
   "execution_count": 1,
   "metadata": {
    "collapsed": true
   },
   "outputs": [],
   "source": [
    "#중간고사전 마지막과제인데, 이번과제를 하며 파이썬에는 c언어와다르게 내장함수가 굉장히 많음을느꼈다.\n",
    "#또한 파이썬에는 투플,리스트,사전의 관계가 간단한듯하면서도 서로변환가능한 함수들이 많아 헷갈리지만,\n",
    "#계속 사용해보며 확실하게 익혀야 할것같다."
   ]
  },
  {
   "cell_type": "code",
   "execution_count": null,
   "metadata": {
    "collapsed": true
   },
   "outputs": [],
   "source": []
  }
 ],
 "metadata": {
  "kernelspec": {
   "display_name": "Python 2",
   "language": "python",
   "name": "python2"
  },
  "language_info": {
   "codemirror_mode": {
    "name": "ipython",
    "version": 2
   },
   "file_extension": ".py",
   "mimetype": "text/x-python",
   "name": "python",
   "nbconvert_exporter": "python",
   "pygments_lexer": "ipython2",
   "version": "2.7.9"
  }
 },
 "nbformat": 4,
 "nbformat_minor": 0
}

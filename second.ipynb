{
 "cells": [
  {
   "cell_type": "code",
   "execution_count": 1,
   "metadata": {
    "collapsed": false
   },
   "outputs": [
    {
     "name": "stdout",
     "output_type": "stream",
     "text": [
      "4\n",
      "1\n",
      "2\n",
      "2\n",
      "1\n",
      "3\n"
     ]
    }
   ],
   "source": [
    "print 1 and 2 and 3 and 4  \t#맨뒤까지 true확인하여 맨뒤 return\n",
    "print 1 or 2 or 3 or 4\t\t#1이 true이므로 그대로 return\n",
    "print 1 and 2 or 3 and 4\t#1 and 2에서 2까지탐색하고 true이므로 or뒤는 안보고 그대로 return\n",
    "print (1 and 2) or (3 and 4)\t#위와 같음\n",
    "print 1 or 2 and 3 or 4\t\t#1이 true이므로 그대로 return\n",
    "print (1 or 2) and (3 or 4)\t#(1 or 2)가 true이고 이어서 and뒤 탐색하는데 3 or 4에서 3이 true이므로 그대로 return\n",
    "#파이썬에서 and는 앞에가 끝까지 탐색하여 true인지 보고 마지막값을 return합니다.\n",
    "#파이썬에서 or는 앞이 True라면 그대로 return합니다."
   ]
  },
  {
   "cell_type": "code",
   "execution_count": 16,
   "metadata": {
    "collapsed": false
   },
   "outputs": [
    {
     "name": "stdout",
     "output_type": "stream",
     "text": [
      "input :-3\n",
      "음수\n"
     ]
    }
   ],
   "source": [
    "# -*- coding: utf-8 -*-\n",
    "b = int(raw_input('input :'))\n",
    "test = b>>(b.bit_length())#비트수만큼 우측으로움직여 맨앞비트로 양수음수를 판별할수있게한다\n",
    "\n",
    "if test == 0 :#맨앞비트가 0이면 양수,아니면 음수\n",
    "    print '양수'\n",
    "else:\n",
    "    print '음수'"
   ]
  },
  {
   "cell_type": "code",
   "execution_count": 1,
   "metadata": {
    "collapsed": false
   },
   "outputs": [
    {
     "name": "stdout",
     "output_type": "stream",
     "text": [
      "['/home/chulsoo', 'test.txt']\n"
     ]
    }
   ],
   "source": [
    "# -*- coding: utf-8 -*-\n",
    "def div_path(a):\n",
    "    \n",
    "    count=a.count('/')  #/의 갯수로 count를 센다\n",
    "    t= a.split('/')     #/을 기준으로 문자열을 나누어 리스트를 t에저장\n",
    "    b=''    #새로운 리스트를저장할 b\n",
    "    for i in range(1,count):#i가 1부터 count-1까지 for문이 돈다      \n",
    "        b=b+'/' \n",
    "        b=b+t[i]        #t에서 맨마지막리스트를제외하고 하나의 문자열로 저장\n",
    "    t[0:count]=[b]      #[바로 위 line에서 저장한것을 하나의 문자열로표현, t에서마지막리스트]\n",
    "    print t\n",
    "    \n",
    "div_path('/home/chulsoo/test.txt')"
   ]
  },
  {
   "cell_type": "code",
   "execution_count": 7,
   "metadata": {
    "collapsed": false
   },
   "outputs": [
    {
     "name": "stdout",
     "output_type": "stream",
     "text": [
      "[-10, -5, -1, 0, 9, 100]\n"
     ]
    }
   ],
   "source": [
    "# -*- coding: utf-8 -*-\n",
    "def list_union(lista, listb):\n",
    "    t=lista+listb  #lista listb 합치기\n",
    "    t=list(set(t)) #중복허용안되는 집합을 이용하여 중복된수 제거             \n",
    "    t.sort()       #정렬\n",
    "    print t\n",
    "\n",
    "list_union([-10, -5, 0, -1], [100, 9, 0, 9])\n"
   ]
  },
  {
   "cell_type": "code",
   "execution_count": 8,
   "metadata": {
    "collapsed": false
   },
   "outputs": [
    {
     "name": "stdout",
     "output_type": "stream",
     "text": [
      "906609\n"
     ]
    }
   ],
   "source": [
    "# -*- coding: utf-8 -*-\n",
    "biggestNum=0\n",
    "for n1 in range(100,1000):\n",
    "  for n2 in range(100,1000):#100~999까지 세자리수끼리의곱\n",
    "    a=n1*n2\n",
    "    a=str(a)#a의 역수를 구하기위해 정수-> 문자열로변환\n",
    "    b=a[::-1]#b=a의역수\n",
    "\n",
    "    if a==b: #a와 역수가 같은지 비교\n",
    "        a=int(a)#값 비교를위해 a를 다시 정수형으로변환\n",
    "        if biggestNum < a :\n",
    "            biggestNum=a# 대칭수중 가장큰값 biggestNum에저장\n",
    "            \n",
    "print biggestNum"
   ]
  },
  {
   "cell_type": "code",
   "execution_count": 9,
   "metadata": {
    "collapsed": false
   },
   "outputs": [
    {
     "name": "stdout",
     "output_type": "stream",
     "text": [
      "232792560\n"
     ]
    }
   ],
   "source": [
    "# -*- coding: utf-8 -*-\n",
    "import fractions\n",
    "def lcm(a,b): \n",
    "    return a*b / fractions.gcd(a,b)\n",
    "    #fractions.gcd(a,b)= 두정수사이의 최대공약수를 반환\n",
    "l=1\n",
    "for x in range(1,21):\n",
    "    l=lcm(l,x)#최대공약수를 이용하여 1 ~ 20 사이의 어떤 수로도 나누어 떨어지는 가장 작은 수 구하기.\n",
    "print(l)#출력"
   ]
  },
  {
   "cell_type": "code",
   "execution_count": 10,
   "metadata": {
    "collapsed": false
   },
   "outputs": [
    {
     "name": "stdout",
     "output_type": "stream",
     "text": [
      "25164150\n"
     ]
    }
   ],
   "source": [
    "b=0\n",
    "c=0\n",
    "for a in range(1,101):\n",
    "    b=b+a*a     #1부터 100까지 제곱의 합\n",
    "for a in range(1,101):\n",
    "    c=c+a       #1부터 100까지 \n",
    "c=c*c           #합의제곱\n",
    "\n",
    "print c-b ##1부터 100까지  \"합의 제곱\"과 \"제곱의 합\"의 차이"
   ]
  },
  {
   "cell_type": "code",
   "execution_count": 14,
   "metadata": {
    "collapsed": false
   },
   "outputs": [
    {
     "name": "stdout",
     "output_type": "stream",
     "text": [
      "\n",
      "        컴퓨터공학부                                    Schoolfun - Study and Fun                 로그인  로그인     아이디  비밀번호    로그인 유지  브라우저를 닫더라도 로그인이 계속 유지될 수 있습니다. 로그인 유지 기능을 사용할 경우 다음 접속부터는 로그인할 필요가 없습니다. 단, 게임방, 학교 등 공공장소에서 이용 시 개인정보가 유출될 수 있으니 꼭 로그아웃을 해주세요.    회원가입 ID/PW 찾기      IT 교육의 글로벌 메카!한국기술교육대학교 컴퓨터공학부     Close         소개   구성원소개   학사안내   입학  학부 대학원    학부광장   자료실   대학원   공학교육인증      Registration        컴퓨터공학부 School of Computer Science and Engineering    IT 융합소프트웨어 인력양성사업 CK (Creative Korea)-I    교육역량강화사업 온라인 컨텐츠 Online Contents for Education Capability Empowerment          IT 교육의 글로벌 메카 한국기술교육대학교 컴퓨터공학부 홈페이지에 오신 것을환영합니다!         IT 융합소프트웨어 인력양성사업 글로벌 수준의 IT전문인력 양성 IT융합분야에 대한 국제적인 경쟁력 고취 바로가기         교육역량강화사업 컨텐츠 교육역량강화사업 온라인 컨텐츠를 소개합니다. 바로가기           공지사항   졸업생 멘토 연계 졸업작품 운영팀 모집 공고(3학년팀... 2015-10-02 13:37 13:37   [특강안내] 영화를 활용한 IoT 교육 2015-10-01 15:38 15:38   졸업작품 포스터 출력 파일 작성 안내 2015-10-01 15:00 15:00   Spark + Python 을 활용한 빅데이터 분석 특강 공지 2015-10-01 10:55 10:55   2015 졸업연구작품 최종심사 결과 공지!! 2015-09-30 20:33 20:33         자유게시판   [채용연계]취업지원 NCS교육 무료교육생 모집 안내(웹... 2015-10-04 13:21 13:21   (주) 엔에스이 에서 개발자를 모집합니다. 2015-09-30 13:30 13:30   졸업작품 전시회 컴퓨터공학부 인기상 투표 이벤트 2015-09-25 01:21 01:21   삼성 대학생 프로그래밍 경진대회 2015-09-15 11:17 11:17   2015년 4차 모의토익 지원 2015-09-09 23:34 23:34         취업게시판   ㈜인젠트 기술연구소 전문연구요원 모집 2015-09-14 11:54 11:54   펜타인 2015년도 신입사원 채용공고 2015-09-03 16:16 16:16   LIG인베니아 (코스닥상장 LIG그룹사 디스플레이장비전... 2015-09-03 14:01 14:01   ㈜ 한울 소프트웨어 개발자 2015-06-18 10:28 10:28   부국산업(본사 : 울산소재) 전산직 신입사원 모집 2015-06-09 14:04 14:04         VENTURESQUARE   [지킬과하이드] 지킬편:: 왜 현대 기업에서 여성 관리...  2015-10-02 19:43 19:43   [찾아가는 인터뷰 44] “집안일은 ‘홈클’에 맡기고, 소...  2015-10-02 18:14 18:14   [펀다 매거진] 핀테크, 금융과 기술의 만남 #4  2015-10-02 17:30 17:30   판도라티비 플럽 아시아 4개국으로 글로벌 서비스 확대  2015-10-02 16:32 16:32   1천억원 창업기업 지원 특례보증 시행!  2015-10-02 14:14 14:14         전자신문   [기고]25년 역사 IEEE 802.11이 가져올 놀라운 변화  2015-10-04 18:00 18:00   [해설]TDD 급부상 왜...데이터전송 효율적이고 해외 시...  2015-10-04 18:00 18:00   통신품질측정 놓고 통신업계 신경전 가열···평균 속도...  2015-10-04 18:00 18:00   [월요논단]지역 문화 전파자, 케이블TV 방송  2015-10-04 18:00 18:00   모바일 트래픽 폭증...TDD, 이동통신 대안으로 급부상  2015-10-04 18:00 18:00         RE/CODE   Why Is Everybody Talking About Mars?  2015-10-04 03:30 03:30   LinkedIn Settles Lawsuit, Will Pay $13 Million...  2015-10-04 01:13 01:13   ‘The Martian’ Movie’s Nerd Appeal Could Bring ...  2015-10-04 00:30 00:30   Wishbone App Hopes the ‘Hot or Not’ Business M...  2015-10-03 22:41 22:41   Technology and Worship — And Worshipping Techn...  2015-10-03 07:49 07:49                 Quick Navigation  한국기술교육대학교 홈페이지 한국기술교육대학교 WEBMAIL 한국기술교육대학교 온라인 평생교육원 교육역량강화사업 온라인 컨텐츠  IT 융합소프트웨어 인력양성사업        Campus Location        Contact CSE 충청남도 천안시 동남구 병천면 충절로 1600한국기술교육대학교 컴퓨터공학부 학과사무실 TEL (041) 560 1460~1461 FAX (041) 560 1462                  Facebook Twitter Google Plus Linkedin          (31253) 충청남도 천안시 동남구 병천면 충절로 1600 (가전리, 한국기술교육대학교) 컴퓨터공학부  Copyright © 2015. All rights reserved           \n",
      "\n",
      "단어의갯수는 :  444\n"
     ]
    }
   ],
   "source": [
    "# -*- coding: utf-8 -*-\n",
    "import urllib2\n",
    "\n",
    "source = urllib2.urlopen(\"http://cse.kut.ac.kr/\").read()\n",
    "\n",
    "#print source # 추후 숙제 답안 제출 때엔 왼쪽 라인은 주석처리할 것\n",
    "from bs4 import BeautifulSoup\n",
    "print\n",
    "soup = BeautifulSoup(source)#buetifulsoup라이브러리를 이용하여 html태그제거\n",
    "pureWords = soup.text.replace(\"\\n\",\" \").replace(\"\\t\",\" \").replace(\"//\",\" \")\n",
    "#엔터와 탭을 보기편하게 공백으로 replace한다. 또한 //도 공백으로 replace한다.\n",
    "\n",
    "count=pureWords.count('<')#count를 주기위해 <의 개수를 샌다.\n",
    "for i in range(count):#<나온만큼 count를 돌려서 pureWords문자열에서 남은 <를 제거한다.\n",
    "    a=pureWords.find('<')   \n",
    "    b=pureWords.find('>')\n",
    "    s=pureWords[0:a]+pureWords[b+1:] #[a:b]제외하고 남은것을 제거하여 s에저장\n",
    "print s\n",
    "wordCount = s.split()#문자열을 공백을기준으로 추출한 단어를 list로 저장\n",
    "print\n",
    "print \"단어의갯수는 : \", len(wordCount)#list에 저장된 갯수를센다"
   ]
  },
  {
   "cell_type": "code",
   "execution_count": 15,
   "metadata": {
    "collapsed": true
   },
   "outputs": [],
   "source": [
    "#과제의수준이 갑자기 높아져 어려워 과제에 오랜시간이걸렸습니다.\n",
    "#하지만 수업으로 간단하게 배우는것을 이렇게 적용하다보니 실력이 느는것이 느껴집니다.\n",
    "#점점어려워지므로 많은 복습이 필요할것 같습니다."
   ]
  },
  {
   "cell_type": "code",
   "execution_count": null,
   "metadata": {
    "collapsed": true
   },
   "outputs": [],
   "source": []
  }
 ],
 "metadata": {
  "kernelspec": {
   "display_name": "Python 2",
   "language": "python",
   "name": "python2"
  },
  "language_info": {
   "codemirror_mode": {
    "name": "ipython",
    "version": 2
   },
   "file_extension": ".py",
   "mimetype": "text/x-python",
   "name": "python",
   "nbconvert_exporter": "python",
   "pygments_lexer": "ipython2",
   "version": "2.7.9"
  }
 },
 "nbformat": 4,
 "nbformat_minor": 0
}
